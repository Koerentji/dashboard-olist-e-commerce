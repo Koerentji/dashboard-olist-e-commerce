{
  "cells": [
    {
      "cell_type": "markdown",
      "metadata": {
        "id": "H9wADwK78DCz"
      },
      "source": [
        "# Proyek Analisis Data: E-Commerce Public Dataset\n",
        "- **Nama:** Muhammad Ashim Izzuddin\n",
        "- **Email:** muhammadashimizzuddin@gmail.com\n",
        "- **ID Dicoding:** ashim_izzuddin"
      ]
    },
    {
      "cell_type": "markdown",
      "metadata": {
        "id": "eE0raob58DC0"
      },
      "source": [
        "## Menentukan Pertanyaan Bisnis"
      ]
    },
    {
      "cell_type": "markdown",
      "metadata": {
        "id": "GmQeQ5YF8DC0"
      },
      "source": [
        "- Bagaimana pola pembelian pelanggan berdasarkan lokasi geografis di Brazil dari waktu ke waktu, dan area mana yang memiliki nilai transaksi tertinggi?\n",
        "- Bagaimana performa penjual berdasarkan lokasi, jumlah pesanan, dan nilai penjualan, serta penjual dari negara bagian mana yang memiliki tingkat kepuasan pelanggan tertinggi?\n",
        "- Bagaimana korelasi antara metode pembayaran, jumlah cicilan, dan nilai transaksi, serta metode pembayaran apa yang paling populer di berbagai negara bagian?\n",
        "- Berdasarkan analisis RFM, bagaimana segmentasi pelanggan dapat membantu strategi pemasaran yang lebih personal, dan karakteristik apa yang dimiliki oleh pelanggan dengan nilai tertinggi?\n"
      ]
    },
    {
      "cell_type": "markdown",
      "metadata": {
        "id": "H-z4QGlO8DC1"
      },
      "source": [
        "## Import Semua Packages/Library yang Digunakan"
      ]
    },
    {
      "cell_type": "code",
      "execution_count": 1,
      "metadata": {
        "id": "FVYwaObI8DC1"
      },
      "outputs": [],
      "source": [
        "import pandas as pd\n",
        "import numpy as np\n",
        "import matplotlib.pyplot as plt\n",
        "import seaborn as sns\n",
        "import plotly.express as px\n",
        "import plotly.graph_objects as go\n",
        "import datetime as dt\n",
        "from datetime import datetime\n",
        "import folium\n",
        "from folium.plugins import HeatMap\n",
        "import warnings\n",
        "warnings.filterwarnings('ignore')"
      ]
    },
    {
      "cell_type": "markdown",
      "metadata": {
        "id": "h_Sh51Xy8DC1"
      },
      "source": [
        "## Data Wrangling"
      ]
    },
    {
      "cell_type": "markdown",
      "metadata": {
        "id": "sXU2GBYu8DC1"
      },
      "source": [
        "### Gathering Data"
      ]
    },
    {
      "cell_type": "markdown",
      "metadata": {
        "id": "2CDZbsUbtU2M"
      },
      "source": [
        "Membaca dataset cusomers"
      ]
    },
    {
      "cell_type": "code",
      "execution_count": 2,
      "metadata": {
        "colab": {
          "base_uri": "https://localhost:8080/",
          "height": 206
        },
        "id": "zjCBk1BI8DC1",
        "outputId": "645702b3-4fcf-4df7-c4e4-fb0434fdddd2"
      },
      "outputs": [
        {
          "data": {
            "text/html": [
              "<div>\n",
              "<style scoped>\n",
              "    .dataframe tbody tr th:only-of-type {\n",
              "        vertical-align: middle;\n",
              "    }\n",
              "\n",
              "    .dataframe tbody tr th {\n",
              "        vertical-align: top;\n",
              "    }\n",
              "\n",
              "    .dataframe thead th {\n",
              "        text-align: right;\n",
              "    }\n",
              "</style>\n",
              "<table border=\"1\" class=\"dataframe\">\n",
              "  <thead>\n",
              "    <tr style=\"text-align: right;\">\n",
              "      <th></th>\n",
              "      <th>customer_id</th>\n",
              "      <th>customer_unique_id</th>\n",
              "      <th>customer_zip_code_prefix</th>\n",
              "      <th>customer_city</th>\n",
              "      <th>customer_state</th>\n",
              "    </tr>\n",
              "  </thead>\n",
              "  <tbody>\n",
              "    <tr>\n",
              "      <th>0</th>\n",
              "      <td>06b8999e2fba1a1fbc88172c00ba8bc7</td>\n",
              "      <td>861eff4711a542e4b93843c6dd7febb0</td>\n",
              "      <td>14409</td>\n",
              "      <td>franca</td>\n",
              "      <td>SP</td>\n",
              "    </tr>\n",
              "    <tr>\n",
              "      <th>1</th>\n",
              "      <td>18955e83d337fd6b2def6b18a428ac77</td>\n",
              "      <td>290c77bc529b7ac935b93aa66c333dc3</td>\n",
              "      <td>9790</td>\n",
              "      <td>sao bernardo do campo</td>\n",
              "      <td>SP</td>\n",
              "    </tr>\n",
              "    <tr>\n",
              "      <th>2</th>\n",
              "      <td>4e7b3e00288586ebd08712fdd0374a03</td>\n",
              "      <td>060e732b5b29e8181a18229c7b0b2b5e</td>\n",
              "      <td>1151</td>\n",
              "      <td>sao paulo</td>\n",
              "      <td>SP</td>\n",
              "    </tr>\n",
              "    <tr>\n",
              "      <th>3</th>\n",
              "      <td>b2b6027bc5c5109e529d4dc6358b12c3</td>\n",
              "      <td>259dac757896d24d7702b9acbbff3f3c</td>\n",
              "      <td>8775</td>\n",
              "      <td>mogi das cruzes</td>\n",
              "      <td>SP</td>\n",
              "    </tr>\n",
              "    <tr>\n",
              "      <th>4</th>\n",
              "      <td>4f2d8ab171c80ec8364f7c12e35b23ad</td>\n",
              "      <td>345ecd01c38d18a9036ed96c73b8d066</td>\n",
              "      <td>13056</td>\n",
              "      <td>campinas</td>\n",
              "      <td>SP</td>\n",
              "    </tr>\n",
              "  </tbody>\n",
              "</table>\n",
              "</div>"
            ],
            "text/plain": [
              "                        customer_id                customer_unique_id  \\\n",
              "0  06b8999e2fba1a1fbc88172c00ba8bc7  861eff4711a542e4b93843c6dd7febb0   \n",
              "1  18955e83d337fd6b2def6b18a428ac77  290c77bc529b7ac935b93aa66c333dc3   \n",
              "2  4e7b3e00288586ebd08712fdd0374a03  060e732b5b29e8181a18229c7b0b2b5e   \n",
              "3  b2b6027bc5c5109e529d4dc6358b12c3  259dac757896d24d7702b9acbbff3f3c   \n",
              "4  4f2d8ab171c80ec8364f7c12e35b23ad  345ecd01c38d18a9036ed96c73b8d066   \n",
              "\n",
              "   customer_zip_code_prefix          customer_city customer_state  \n",
              "0                     14409                 franca             SP  \n",
              "1                      9790  sao bernardo do campo             SP  \n",
              "2                      1151              sao paulo             SP  \n",
              "3                      8775        mogi das cruzes             SP  \n",
              "4                     13056               campinas             SP  "
            ]
          },
          "execution_count": 2,
          "metadata": {},
          "output_type": "execute_result"
        }
      ],
      "source": [
        "df_customers=pd.read_csv('data\\customers_dataset.csv')\n",
        "df_customers.head()"
      ]
    },
    {
      "cell_type": "markdown",
      "metadata": {
        "id": "rsVXpihoHfKP"
      },
      "source": [
        "Membaca dataset geolocation"
      ]
    },
    {
      "cell_type": "code",
      "execution_count": 3,
      "metadata": {
        "colab": {
          "base_uri": "https://localhost:8080/",
          "height": 206
        },
        "id": "tbn5-66OHhZv",
        "outputId": "68fdb449-2a35-472f-8bd0-91807c310a84"
      },
      "outputs": [
        {
          "data": {
            "text/html": [
              "<div>\n",
              "<style scoped>\n",
              "    .dataframe tbody tr th:only-of-type {\n",
              "        vertical-align: middle;\n",
              "    }\n",
              "\n",
              "    .dataframe tbody tr th {\n",
              "        vertical-align: top;\n",
              "    }\n",
              "\n",
              "    .dataframe thead th {\n",
              "        text-align: right;\n",
              "    }\n",
              "</style>\n",
              "<table border=\"1\" class=\"dataframe\">\n",
              "  <thead>\n",
              "    <tr style=\"text-align: right;\">\n",
              "      <th></th>\n",
              "      <th>geolocation_zip_code_prefix</th>\n",
              "      <th>geolocation_lat</th>\n",
              "      <th>geolocation_lng</th>\n",
              "      <th>geolocation_city</th>\n",
              "      <th>geolocation_state</th>\n",
              "    </tr>\n",
              "  </thead>\n",
              "  <tbody>\n",
              "    <tr>\n",
              "      <th>0</th>\n",
              "      <td>1037</td>\n",
              "      <td>-23.545621</td>\n",
              "      <td>-46.639292</td>\n",
              "      <td>sao paulo</td>\n",
              "      <td>SP</td>\n",
              "    </tr>\n",
              "    <tr>\n",
              "      <th>1</th>\n",
              "      <td>1046</td>\n",
              "      <td>-23.546081</td>\n",
              "      <td>-46.644820</td>\n",
              "      <td>sao paulo</td>\n",
              "      <td>SP</td>\n",
              "    </tr>\n",
              "    <tr>\n",
              "      <th>2</th>\n",
              "      <td>1046</td>\n",
              "      <td>-23.546129</td>\n",
              "      <td>-46.642951</td>\n",
              "      <td>sao paulo</td>\n",
              "      <td>SP</td>\n",
              "    </tr>\n",
              "    <tr>\n",
              "      <th>3</th>\n",
              "      <td>1041</td>\n",
              "      <td>-23.544392</td>\n",
              "      <td>-46.639499</td>\n",
              "      <td>sao paulo</td>\n",
              "      <td>SP</td>\n",
              "    </tr>\n",
              "    <tr>\n",
              "      <th>4</th>\n",
              "      <td>1035</td>\n",
              "      <td>-23.541578</td>\n",
              "      <td>-46.641607</td>\n",
              "      <td>sao paulo</td>\n",
              "      <td>SP</td>\n",
              "    </tr>\n",
              "  </tbody>\n",
              "</table>\n",
              "</div>"
            ],
            "text/plain": [
              "   geolocation_zip_code_prefix  geolocation_lat  geolocation_lng  \\\n",
              "0                         1037       -23.545621       -46.639292   \n",
              "1                         1046       -23.546081       -46.644820   \n",
              "2                         1046       -23.546129       -46.642951   \n",
              "3                         1041       -23.544392       -46.639499   \n",
              "4                         1035       -23.541578       -46.641607   \n",
              "\n",
              "  geolocation_city geolocation_state  \n",
              "0        sao paulo                SP  \n",
              "1        sao paulo                SP  \n",
              "2        sao paulo                SP  \n",
              "3        sao paulo                SP  \n",
              "4        sao paulo                SP  "
            ]
          },
          "execution_count": 3,
          "metadata": {},
          "output_type": "execute_result"
        }
      ],
      "source": [
        "df_geolocation=pd.read_csv('data\\geolocation_dataset.csv')\n",
        "df_geolocation.head()"
      ]
    },
    {
      "cell_type": "markdown",
      "metadata": {
        "id": "PtimbEUTHwC9"
      },
      "source": [
        "Membaca dataset order items"
      ]
    },
    {
      "cell_type": "code",
      "execution_count": 4,
      "metadata": {
        "colab": {
          "base_uri": "https://localhost:8080/",
          "height": 206
        },
        "id": "HZPuoEGMHz_O",
        "outputId": "025af6db-dd7c-4eee-d06d-d74d8896101a"
      },
      "outputs": [
        {
          "data": {
            "text/html": [
              "<div>\n",
              "<style scoped>\n",
              "    .dataframe tbody tr th:only-of-type {\n",
              "        vertical-align: middle;\n",
              "    }\n",
              "\n",
              "    .dataframe tbody tr th {\n",
              "        vertical-align: top;\n",
              "    }\n",
              "\n",
              "    .dataframe thead th {\n",
              "        text-align: right;\n",
              "    }\n",
              "</style>\n",
              "<table border=\"1\" class=\"dataframe\">\n",
              "  <thead>\n",
              "    <tr style=\"text-align: right;\">\n",
              "      <th></th>\n",
              "      <th>order_id</th>\n",
              "      <th>order_item_id</th>\n",
              "      <th>product_id</th>\n",
              "      <th>seller_id</th>\n",
              "      <th>shipping_limit_date</th>\n",
              "      <th>price</th>\n",
              "      <th>freight_value</th>\n",
              "    </tr>\n",
              "  </thead>\n",
              "  <tbody>\n",
              "    <tr>\n",
              "      <th>0</th>\n",
              "      <td>00010242fe8c5a6d1ba2dd792cb16214</td>\n",
              "      <td>1</td>\n",
              "      <td>4244733e06e7ecb4970a6e2683c13e61</td>\n",
              "      <td>48436dade18ac8b2bce089ec2a041202</td>\n",
              "      <td>2017-09-19 09:45:35</td>\n",
              "      <td>58.90</td>\n",
              "      <td>13.29</td>\n",
              "    </tr>\n",
              "    <tr>\n",
              "      <th>1</th>\n",
              "      <td>00018f77f2f0320c557190d7a144bdd3</td>\n",
              "      <td>1</td>\n",
              "      <td>e5f2d52b802189ee658865ca93d83a8f</td>\n",
              "      <td>dd7ddc04e1b6c2c614352b383efe2d36</td>\n",
              "      <td>2017-05-03 11:05:13</td>\n",
              "      <td>239.90</td>\n",
              "      <td>19.93</td>\n",
              "    </tr>\n",
              "    <tr>\n",
              "      <th>2</th>\n",
              "      <td>000229ec398224ef6ca0657da4fc703e</td>\n",
              "      <td>1</td>\n",
              "      <td>c777355d18b72b67abbeef9df44fd0fd</td>\n",
              "      <td>5b51032eddd242adc84c38acab88f23d</td>\n",
              "      <td>2018-01-18 14:48:30</td>\n",
              "      <td>199.00</td>\n",
              "      <td>17.87</td>\n",
              "    </tr>\n",
              "    <tr>\n",
              "      <th>3</th>\n",
              "      <td>00024acbcdf0a6daa1e931b038114c75</td>\n",
              "      <td>1</td>\n",
              "      <td>7634da152a4610f1595efa32f14722fc</td>\n",
              "      <td>9d7a1d34a5052409006425275ba1c2b4</td>\n",
              "      <td>2018-08-15 10:10:18</td>\n",
              "      <td>12.99</td>\n",
              "      <td>12.79</td>\n",
              "    </tr>\n",
              "    <tr>\n",
              "      <th>4</th>\n",
              "      <td>00042b26cf59d7ce69dfabb4e55b4fd9</td>\n",
              "      <td>1</td>\n",
              "      <td>ac6c3623068f30de03045865e4e10089</td>\n",
              "      <td>df560393f3a51e74553ab94004ba5c87</td>\n",
              "      <td>2017-02-13 13:57:51</td>\n",
              "      <td>199.90</td>\n",
              "      <td>18.14</td>\n",
              "    </tr>\n",
              "  </tbody>\n",
              "</table>\n",
              "</div>"
            ],
            "text/plain": [
              "                           order_id  order_item_id  \\\n",
              "0  00010242fe8c5a6d1ba2dd792cb16214              1   \n",
              "1  00018f77f2f0320c557190d7a144bdd3              1   \n",
              "2  000229ec398224ef6ca0657da4fc703e              1   \n",
              "3  00024acbcdf0a6daa1e931b038114c75              1   \n",
              "4  00042b26cf59d7ce69dfabb4e55b4fd9              1   \n",
              "\n",
              "                         product_id                         seller_id  \\\n",
              "0  4244733e06e7ecb4970a6e2683c13e61  48436dade18ac8b2bce089ec2a041202   \n",
              "1  e5f2d52b802189ee658865ca93d83a8f  dd7ddc04e1b6c2c614352b383efe2d36   \n",
              "2  c777355d18b72b67abbeef9df44fd0fd  5b51032eddd242adc84c38acab88f23d   \n",
              "3  7634da152a4610f1595efa32f14722fc  9d7a1d34a5052409006425275ba1c2b4   \n",
              "4  ac6c3623068f30de03045865e4e10089  df560393f3a51e74553ab94004ba5c87   \n",
              "\n",
              "   shipping_limit_date   price  freight_value  \n",
              "0  2017-09-19 09:45:35   58.90          13.29  \n",
              "1  2017-05-03 11:05:13  239.90          19.93  \n",
              "2  2018-01-18 14:48:30  199.00          17.87  \n",
              "3  2018-08-15 10:10:18   12.99          12.79  \n",
              "4  2017-02-13 13:57:51  199.90          18.14  "
            ]
          },
          "execution_count": 4,
          "metadata": {},
          "output_type": "execute_result"
        }
      ],
      "source": [
        "df_order_items=pd.read_csv('data\\order_items_dataset.csv')\n",
        "df_order_items.head()"
      ]
    },
    {
      "cell_type": "markdown",
      "metadata": {
        "id": "0nBJYiE5J1yG"
      },
      "source": [
        "Membaca dataset order payments"
      ]
    },
    {
      "cell_type": "code",
      "execution_count": 5,
      "metadata": {
        "colab": {
          "base_uri": "https://localhost:8080/",
          "height": 206
        },
        "id": "U5ulfagaJ35O",
        "outputId": "7aef9f35-da10-4e0a-f7f7-8889a6931e2a"
      },
      "outputs": [
        {
          "data": {
            "text/html": [
              "<div>\n",
              "<style scoped>\n",
              "    .dataframe tbody tr th:only-of-type {\n",
              "        vertical-align: middle;\n",
              "    }\n",
              "\n",
              "    .dataframe tbody tr th {\n",
              "        vertical-align: top;\n",
              "    }\n",
              "\n",
              "    .dataframe thead th {\n",
              "        text-align: right;\n",
              "    }\n",
              "</style>\n",
              "<table border=\"1\" class=\"dataframe\">\n",
              "  <thead>\n",
              "    <tr style=\"text-align: right;\">\n",
              "      <th></th>\n",
              "      <th>order_id</th>\n",
              "      <th>payment_sequential</th>\n",
              "      <th>payment_type</th>\n",
              "      <th>payment_installments</th>\n",
              "      <th>payment_value</th>\n",
              "    </tr>\n",
              "  </thead>\n",
              "  <tbody>\n",
              "    <tr>\n",
              "      <th>0</th>\n",
              "      <td>b81ef226f3fe1789b1e8b2acac839d17</td>\n",
              "      <td>1</td>\n",
              "      <td>credit_card</td>\n",
              "      <td>8</td>\n",
              "      <td>99.33</td>\n",
              "    </tr>\n",
              "    <tr>\n",
              "      <th>1</th>\n",
              "      <td>a9810da82917af2d9aefd1278f1dcfa0</td>\n",
              "      <td>1</td>\n",
              "      <td>credit_card</td>\n",
              "      <td>1</td>\n",
              "      <td>24.39</td>\n",
              "    </tr>\n",
              "    <tr>\n",
              "      <th>2</th>\n",
              "      <td>25e8ea4e93396b6fa0d3dd708e76c1bd</td>\n",
              "      <td>1</td>\n",
              "      <td>credit_card</td>\n",
              "      <td>1</td>\n",
              "      <td>65.71</td>\n",
              "    </tr>\n",
              "    <tr>\n",
              "      <th>3</th>\n",
              "      <td>ba78997921bbcdc1373bb41e913ab953</td>\n",
              "      <td>1</td>\n",
              "      <td>credit_card</td>\n",
              "      <td>8</td>\n",
              "      <td>107.78</td>\n",
              "    </tr>\n",
              "    <tr>\n",
              "      <th>4</th>\n",
              "      <td>42fdf880ba16b47b59251dd489d4441a</td>\n",
              "      <td>1</td>\n",
              "      <td>credit_card</td>\n",
              "      <td>2</td>\n",
              "      <td>128.45</td>\n",
              "    </tr>\n",
              "  </tbody>\n",
              "</table>\n",
              "</div>"
            ],
            "text/plain": [
              "                           order_id  payment_sequential payment_type  \\\n",
              "0  b81ef226f3fe1789b1e8b2acac839d17                   1  credit_card   \n",
              "1  a9810da82917af2d9aefd1278f1dcfa0                   1  credit_card   \n",
              "2  25e8ea4e93396b6fa0d3dd708e76c1bd                   1  credit_card   \n",
              "3  ba78997921bbcdc1373bb41e913ab953                   1  credit_card   \n",
              "4  42fdf880ba16b47b59251dd489d4441a                   1  credit_card   \n",
              "\n",
              "   payment_installments  payment_value  \n",
              "0                     8          99.33  \n",
              "1                     1          24.39  \n",
              "2                     1          65.71  \n",
              "3                     8         107.78  \n",
              "4                     2         128.45  "
            ]
          },
          "execution_count": 5,
          "metadata": {},
          "output_type": "execute_result"
        }
      ],
      "source": [
        "df_order_payments=pd.read_csv('data\\order_payments_dataset.csv')\n",
        "df_order_payments.head()"
      ]
    },
    {
      "cell_type": "markdown",
      "metadata": {
        "id": "zrDWr9esH-6o"
      },
      "source": [
        "Membaca dataset order reviews"
      ]
    },
    {
      "cell_type": "code",
      "execution_count": 6,
      "metadata": {
        "colab": {
          "base_uri": "https://localhost:8080/",
          "height": 241
        },
        "id": "pddo11p_IDfo",
        "outputId": "129b00dd-c7af-4b35-b2ac-5206aa1f1943"
      },
      "outputs": [
        {
          "data": {
            "text/html": [
              "<div>\n",
              "<style scoped>\n",
              "    .dataframe tbody tr th:only-of-type {\n",
              "        vertical-align: middle;\n",
              "    }\n",
              "\n",
              "    .dataframe tbody tr th {\n",
              "        vertical-align: top;\n",
              "    }\n",
              "\n",
              "    .dataframe thead th {\n",
              "        text-align: right;\n",
              "    }\n",
              "</style>\n",
              "<table border=\"1\" class=\"dataframe\">\n",
              "  <thead>\n",
              "    <tr style=\"text-align: right;\">\n",
              "      <th></th>\n",
              "      <th>review_id</th>\n",
              "      <th>order_id</th>\n",
              "      <th>review_score</th>\n",
              "      <th>review_comment_title</th>\n",
              "      <th>review_comment_message</th>\n",
              "      <th>review_creation_date</th>\n",
              "      <th>review_answer_timestamp</th>\n",
              "    </tr>\n",
              "  </thead>\n",
              "  <tbody>\n",
              "    <tr>\n",
              "      <th>0</th>\n",
              "      <td>7bc2406110b926393aa56f80a40eba40</td>\n",
              "      <td>73fc7af87114b39712e6da79b0a377eb</td>\n",
              "      <td>4</td>\n",
              "      <td>NaN</td>\n",
              "      <td>NaN</td>\n",
              "      <td>2018-01-18 00:00:00</td>\n",
              "      <td>2018-01-18 21:46:59</td>\n",
              "    </tr>\n",
              "    <tr>\n",
              "      <th>1</th>\n",
              "      <td>80e641a11e56f04c1ad469d5645fdfde</td>\n",
              "      <td>a548910a1c6147796b98fdf73dbeba33</td>\n",
              "      <td>5</td>\n",
              "      <td>NaN</td>\n",
              "      <td>NaN</td>\n",
              "      <td>2018-03-10 00:00:00</td>\n",
              "      <td>2018-03-11 03:05:13</td>\n",
              "    </tr>\n",
              "    <tr>\n",
              "      <th>2</th>\n",
              "      <td>228ce5500dc1d8e020d8d1322874b6f0</td>\n",
              "      <td>f9e4b658b201a9f2ecdecbb34bed034b</td>\n",
              "      <td>5</td>\n",
              "      <td>NaN</td>\n",
              "      <td>NaN</td>\n",
              "      <td>2018-02-17 00:00:00</td>\n",
              "      <td>2018-02-18 14:36:24</td>\n",
              "    </tr>\n",
              "    <tr>\n",
              "      <th>3</th>\n",
              "      <td>e64fb393e7b32834bb789ff8bb30750e</td>\n",
              "      <td>658677c97b385a9be170737859d3511b</td>\n",
              "      <td>5</td>\n",
              "      <td>NaN</td>\n",
              "      <td>Recebi bem antes do prazo estipulado.</td>\n",
              "      <td>2017-04-21 00:00:00</td>\n",
              "      <td>2017-04-21 22:02:06</td>\n",
              "    </tr>\n",
              "    <tr>\n",
              "      <th>4</th>\n",
              "      <td>f7c4243c7fe1938f181bec41a392bdeb</td>\n",
              "      <td>8e6bfb81e283fa7e4f11123a3fb894f1</td>\n",
              "      <td>5</td>\n",
              "      <td>NaN</td>\n",
              "      <td>Parabéns lojas lannister adorei comprar pela I...</td>\n",
              "      <td>2018-03-01 00:00:00</td>\n",
              "      <td>2018-03-02 10:26:53</td>\n",
              "    </tr>\n",
              "  </tbody>\n",
              "</table>\n",
              "</div>"
            ],
            "text/plain": [
              "                          review_id                          order_id  \\\n",
              "0  7bc2406110b926393aa56f80a40eba40  73fc7af87114b39712e6da79b0a377eb   \n",
              "1  80e641a11e56f04c1ad469d5645fdfde  a548910a1c6147796b98fdf73dbeba33   \n",
              "2  228ce5500dc1d8e020d8d1322874b6f0  f9e4b658b201a9f2ecdecbb34bed034b   \n",
              "3  e64fb393e7b32834bb789ff8bb30750e  658677c97b385a9be170737859d3511b   \n",
              "4  f7c4243c7fe1938f181bec41a392bdeb  8e6bfb81e283fa7e4f11123a3fb894f1   \n",
              "\n",
              "   review_score review_comment_title  \\\n",
              "0             4                  NaN   \n",
              "1             5                  NaN   \n",
              "2             5                  NaN   \n",
              "3             5                  NaN   \n",
              "4             5                  NaN   \n",
              "\n",
              "                              review_comment_message review_creation_date  \\\n",
              "0                                                NaN  2018-01-18 00:00:00   \n",
              "1                                                NaN  2018-03-10 00:00:00   \n",
              "2                                                NaN  2018-02-17 00:00:00   \n",
              "3              Recebi bem antes do prazo estipulado.  2017-04-21 00:00:00   \n",
              "4  Parabéns lojas lannister adorei comprar pela I...  2018-03-01 00:00:00   \n",
              "\n",
              "  review_answer_timestamp  \n",
              "0     2018-01-18 21:46:59  \n",
              "1     2018-03-11 03:05:13  \n",
              "2     2018-02-18 14:36:24  \n",
              "3     2017-04-21 22:02:06  \n",
              "4     2018-03-02 10:26:53  "
            ]
          },
          "execution_count": 6,
          "metadata": {},
          "output_type": "execute_result"
        }
      ],
      "source": [
        "df_order_reviews=pd.read_csv('data\\order_reviews_dataset.csv')\n",
        "df_order_reviews.head()"
      ]
    },
    {
      "cell_type": "markdown",
      "metadata": {
        "id": "6cbsLGfhIH1q"
      },
      "source": [
        "Membaca dataset orders"
      ]
    },
    {
      "cell_type": "code",
      "execution_count": 7,
      "metadata": {
        "colab": {
          "base_uri": "https://localhost:8080/",
          "height": 226
        },
        "id": "VkMPvgHoIKsA",
        "outputId": "ffe1a1bc-b8fc-4efb-a090-970fc9d3933a"
      },
      "outputs": [
        {
          "data": {
            "text/html": [
              "<div>\n",
              "<style scoped>\n",
              "    .dataframe tbody tr th:only-of-type {\n",
              "        vertical-align: middle;\n",
              "    }\n",
              "\n",
              "    .dataframe tbody tr th {\n",
              "        vertical-align: top;\n",
              "    }\n",
              "\n",
              "    .dataframe thead th {\n",
              "        text-align: right;\n",
              "    }\n",
              "</style>\n",
              "<table border=\"1\" class=\"dataframe\">\n",
              "  <thead>\n",
              "    <tr style=\"text-align: right;\">\n",
              "      <th></th>\n",
              "      <th>order_id</th>\n",
              "      <th>customer_id</th>\n",
              "      <th>order_status</th>\n",
              "      <th>order_purchase_timestamp</th>\n",
              "      <th>order_approved_at</th>\n",
              "      <th>order_delivered_carrier_date</th>\n",
              "      <th>order_delivered_customer_date</th>\n",
              "      <th>order_estimated_delivery_date</th>\n",
              "    </tr>\n",
              "  </thead>\n",
              "  <tbody>\n",
              "    <tr>\n",
              "      <th>0</th>\n",
              "      <td>e481f51cbdc54678b7cc49136f2d6af7</td>\n",
              "      <td>9ef432eb6251297304e76186b10a928d</td>\n",
              "      <td>delivered</td>\n",
              "      <td>2017-10-02 10:56:33</td>\n",
              "      <td>2017-10-02 11:07:15</td>\n",
              "      <td>2017-10-04 19:55:00</td>\n",
              "      <td>2017-10-10 21:25:13</td>\n",
              "      <td>2017-10-18 00:00:00</td>\n",
              "    </tr>\n",
              "    <tr>\n",
              "      <th>1</th>\n",
              "      <td>53cdb2fc8bc7dce0b6741e2150273451</td>\n",
              "      <td>b0830fb4747a6c6d20dea0b8c802d7ef</td>\n",
              "      <td>delivered</td>\n",
              "      <td>2018-07-24 20:41:37</td>\n",
              "      <td>2018-07-26 03:24:27</td>\n",
              "      <td>2018-07-26 14:31:00</td>\n",
              "      <td>2018-08-07 15:27:45</td>\n",
              "      <td>2018-08-13 00:00:00</td>\n",
              "    </tr>\n",
              "    <tr>\n",
              "      <th>2</th>\n",
              "      <td>47770eb9100c2d0c44946d9cf07ec65d</td>\n",
              "      <td>41ce2a54c0b03bf3443c3d931a367089</td>\n",
              "      <td>delivered</td>\n",
              "      <td>2018-08-08 08:38:49</td>\n",
              "      <td>2018-08-08 08:55:23</td>\n",
              "      <td>2018-08-08 13:50:00</td>\n",
              "      <td>2018-08-17 18:06:29</td>\n",
              "      <td>2018-09-04 00:00:00</td>\n",
              "    </tr>\n",
              "    <tr>\n",
              "      <th>3</th>\n",
              "      <td>949d5b44dbf5de918fe9c16f97b45f8a</td>\n",
              "      <td>f88197465ea7920adcdbec7375364d82</td>\n",
              "      <td>delivered</td>\n",
              "      <td>2017-11-18 19:28:06</td>\n",
              "      <td>2017-11-18 19:45:59</td>\n",
              "      <td>2017-11-22 13:39:59</td>\n",
              "      <td>2017-12-02 00:28:42</td>\n",
              "      <td>2017-12-15 00:00:00</td>\n",
              "    </tr>\n",
              "    <tr>\n",
              "      <th>4</th>\n",
              "      <td>ad21c59c0840e6cb83a9ceb5573f8159</td>\n",
              "      <td>8ab97904e6daea8866dbdbc4fb7aad2c</td>\n",
              "      <td>delivered</td>\n",
              "      <td>2018-02-13 21:18:39</td>\n",
              "      <td>2018-02-13 22:20:29</td>\n",
              "      <td>2018-02-14 19:46:34</td>\n",
              "      <td>2018-02-16 18:17:02</td>\n",
              "      <td>2018-02-26 00:00:00</td>\n",
              "    </tr>\n",
              "  </tbody>\n",
              "</table>\n",
              "</div>"
            ],
            "text/plain": [
              "                           order_id                       customer_id  \\\n",
              "0  e481f51cbdc54678b7cc49136f2d6af7  9ef432eb6251297304e76186b10a928d   \n",
              "1  53cdb2fc8bc7dce0b6741e2150273451  b0830fb4747a6c6d20dea0b8c802d7ef   \n",
              "2  47770eb9100c2d0c44946d9cf07ec65d  41ce2a54c0b03bf3443c3d931a367089   \n",
              "3  949d5b44dbf5de918fe9c16f97b45f8a  f88197465ea7920adcdbec7375364d82   \n",
              "4  ad21c59c0840e6cb83a9ceb5573f8159  8ab97904e6daea8866dbdbc4fb7aad2c   \n",
              "\n",
              "  order_status order_purchase_timestamp    order_approved_at  \\\n",
              "0    delivered      2017-10-02 10:56:33  2017-10-02 11:07:15   \n",
              "1    delivered      2018-07-24 20:41:37  2018-07-26 03:24:27   \n",
              "2    delivered      2018-08-08 08:38:49  2018-08-08 08:55:23   \n",
              "3    delivered      2017-11-18 19:28:06  2017-11-18 19:45:59   \n",
              "4    delivered      2018-02-13 21:18:39  2018-02-13 22:20:29   \n",
              "\n",
              "  order_delivered_carrier_date order_delivered_customer_date  \\\n",
              "0          2017-10-04 19:55:00           2017-10-10 21:25:13   \n",
              "1          2018-07-26 14:31:00           2018-08-07 15:27:45   \n",
              "2          2018-08-08 13:50:00           2018-08-17 18:06:29   \n",
              "3          2017-11-22 13:39:59           2017-12-02 00:28:42   \n",
              "4          2018-02-14 19:46:34           2018-02-16 18:17:02   \n",
              "\n",
              "  order_estimated_delivery_date  \n",
              "0           2017-10-18 00:00:00  \n",
              "1           2018-08-13 00:00:00  \n",
              "2           2018-09-04 00:00:00  \n",
              "3           2017-12-15 00:00:00  \n",
              "4           2018-02-26 00:00:00  "
            ]
          },
          "execution_count": 7,
          "metadata": {},
          "output_type": "execute_result"
        }
      ],
      "source": [
        "df_orders=pd.read_csv('data\\orders_dataset.csv')\n",
        "df_orders.head()"
      ]
    },
    {
      "cell_type": "markdown",
      "metadata": {
        "id": "JbhW-QoqIRRS"
      },
      "source": [
        "Membaca dataset product category"
      ]
    },
    {
      "cell_type": "code",
      "execution_count": 8,
      "metadata": {
        "colab": {
          "base_uri": "https://localhost:8080/",
          "height": 206
        },
        "id": "6Cj1wRZuIB_x",
        "outputId": "b153ec35-9345-496a-ec8a-840414f87463"
      },
      "outputs": [
        {
          "data": {
            "text/html": [
              "<div>\n",
              "<style scoped>\n",
              "    .dataframe tbody tr th:only-of-type {\n",
              "        vertical-align: middle;\n",
              "    }\n",
              "\n",
              "    .dataframe tbody tr th {\n",
              "        vertical-align: top;\n",
              "    }\n",
              "\n",
              "    .dataframe thead th {\n",
              "        text-align: right;\n",
              "    }\n",
              "</style>\n",
              "<table border=\"1\" class=\"dataframe\">\n",
              "  <thead>\n",
              "    <tr style=\"text-align: right;\">\n",
              "      <th></th>\n",
              "      <th>product_category_name</th>\n",
              "      <th>product_category_name_english</th>\n",
              "    </tr>\n",
              "  </thead>\n",
              "  <tbody>\n",
              "    <tr>\n",
              "      <th>0</th>\n",
              "      <td>beleza_saude</td>\n",
              "      <td>health_beauty</td>\n",
              "    </tr>\n",
              "    <tr>\n",
              "      <th>1</th>\n",
              "      <td>informatica_acessorios</td>\n",
              "      <td>computers_accessories</td>\n",
              "    </tr>\n",
              "    <tr>\n",
              "      <th>2</th>\n",
              "      <td>automotivo</td>\n",
              "      <td>auto</td>\n",
              "    </tr>\n",
              "    <tr>\n",
              "      <th>3</th>\n",
              "      <td>cama_mesa_banho</td>\n",
              "      <td>bed_bath_table</td>\n",
              "    </tr>\n",
              "    <tr>\n",
              "      <th>4</th>\n",
              "      <td>moveis_decoracao</td>\n",
              "      <td>furniture_decor</td>\n",
              "    </tr>\n",
              "  </tbody>\n",
              "</table>\n",
              "</div>"
            ],
            "text/plain": [
              "    product_category_name product_category_name_english\n",
              "0            beleza_saude                 health_beauty\n",
              "1  informatica_acessorios         computers_accessories\n",
              "2              automotivo                          auto\n",
              "3         cama_mesa_banho                bed_bath_table\n",
              "4        moveis_decoracao               furniture_decor"
            ]
          },
          "execution_count": 8,
          "metadata": {},
          "output_type": "execute_result"
        }
      ],
      "source": [
        "df_product_category=pd.read_csv('data\\product_category_name_translation.csv')\n",
        "df_product_category.head()"
      ]
    },
    {
      "cell_type": "markdown",
      "metadata": {
        "id": "v3x9-VcLIZJw"
      },
      "source": [
        "Membaca dataset products"
      ]
    },
    {
      "cell_type": "code",
      "execution_count": 9,
      "metadata": {
        "colab": {
          "base_uri": "https://localhost:8080/",
          "height": 226
        },
        "id": "sy1CqRUlIbWr",
        "outputId": "1eddcc7e-5417-4885-fab0-97ea192743f2"
      },
      "outputs": [
        {
          "data": {
            "text/html": [
              "<div>\n",
              "<style scoped>\n",
              "    .dataframe tbody tr th:only-of-type {\n",
              "        vertical-align: middle;\n",
              "    }\n",
              "\n",
              "    .dataframe tbody tr th {\n",
              "        vertical-align: top;\n",
              "    }\n",
              "\n",
              "    .dataframe thead th {\n",
              "        text-align: right;\n",
              "    }\n",
              "</style>\n",
              "<table border=\"1\" class=\"dataframe\">\n",
              "  <thead>\n",
              "    <tr style=\"text-align: right;\">\n",
              "      <th></th>\n",
              "      <th>product_id</th>\n",
              "      <th>product_category_name</th>\n",
              "      <th>product_name_lenght</th>\n",
              "      <th>product_description_lenght</th>\n",
              "      <th>product_photos_qty</th>\n",
              "      <th>product_weight_g</th>\n",
              "      <th>product_length_cm</th>\n",
              "      <th>product_height_cm</th>\n",
              "      <th>product_width_cm</th>\n",
              "    </tr>\n",
              "  </thead>\n",
              "  <tbody>\n",
              "    <tr>\n",
              "      <th>0</th>\n",
              "      <td>1e9e8ef04dbcff4541ed26657ea517e5</td>\n",
              "      <td>perfumaria</td>\n",
              "      <td>40.0</td>\n",
              "      <td>287.0</td>\n",
              "      <td>1.0</td>\n",
              "      <td>225.0</td>\n",
              "      <td>16.0</td>\n",
              "      <td>10.0</td>\n",
              "      <td>14.0</td>\n",
              "    </tr>\n",
              "    <tr>\n",
              "      <th>1</th>\n",
              "      <td>3aa071139cb16b67ca9e5dea641aaa2f</td>\n",
              "      <td>artes</td>\n",
              "      <td>44.0</td>\n",
              "      <td>276.0</td>\n",
              "      <td>1.0</td>\n",
              "      <td>1000.0</td>\n",
              "      <td>30.0</td>\n",
              "      <td>18.0</td>\n",
              "      <td>20.0</td>\n",
              "    </tr>\n",
              "    <tr>\n",
              "      <th>2</th>\n",
              "      <td>96bd76ec8810374ed1b65e291975717f</td>\n",
              "      <td>esporte_lazer</td>\n",
              "      <td>46.0</td>\n",
              "      <td>250.0</td>\n",
              "      <td>1.0</td>\n",
              "      <td>154.0</td>\n",
              "      <td>18.0</td>\n",
              "      <td>9.0</td>\n",
              "      <td>15.0</td>\n",
              "    </tr>\n",
              "    <tr>\n",
              "      <th>3</th>\n",
              "      <td>cef67bcfe19066a932b7673e239eb23d</td>\n",
              "      <td>bebes</td>\n",
              "      <td>27.0</td>\n",
              "      <td>261.0</td>\n",
              "      <td>1.0</td>\n",
              "      <td>371.0</td>\n",
              "      <td>26.0</td>\n",
              "      <td>4.0</td>\n",
              "      <td>26.0</td>\n",
              "    </tr>\n",
              "    <tr>\n",
              "      <th>4</th>\n",
              "      <td>9dc1a7de274444849c219cff195d0b71</td>\n",
              "      <td>utilidades_domesticas</td>\n",
              "      <td>37.0</td>\n",
              "      <td>402.0</td>\n",
              "      <td>4.0</td>\n",
              "      <td>625.0</td>\n",
              "      <td>20.0</td>\n",
              "      <td>17.0</td>\n",
              "      <td>13.0</td>\n",
              "    </tr>\n",
              "  </tbody>\n",
              "</table>\n",
              "</div>"
            ],
            "text/plain": [
              "                         product_id  product_category_name  \\\n",
              "0  1e9e8ef04dbcff4541ed26657ea517e5             perfumaria   \n",
              "1  3aa071139cb16b67ca9e5dea641aaa2f                  artes   \n",
              "2  96bd76ec8810374ed1b65e291975717f          esporte_lazer   \n",
              "3  cef67bcfe19066a932b7673e239eb23d                  bebes   \n",
              "4  9dc1a7de274444849c219cff195d0b71  utilidades_domesticas   \n",
              "\n",
              "   product_name_lenght  product_description_lenght  product_photos_qty  \\\n",
              "0                 40.0                       287.0                 1.0   \n",
              "1                 44.0                       276.0                 1.0   \n",
              "2                 46.0                       250.0                 1.0   \n",
              "3                 27.0                       261.0                 1.0   \n",
              "4                 37.0                       402.0                 4.0   \n",
              "\n",
              "   product_weight_g  product_length_cm  product_height_cm  product_width_cm  \n",
              "0             225.0               16.0               10.0              14.0  \n",
              "1            1000.0               30.0               18.0              20.0  \n",
              "2             154.0               18.0                9.0              15.0  \n",
              "3             371.0               26.0                4.0              26.0  \n",
              "4             625.0               20.0               17.0              13.0  "
            ]
          },
          "execution_count": 9,
          "metadata": {},
          "output_type": "execute_result"
        }
      ],
      "source": [
        "df_products=pd.read_csv('data\\products_dataset.csv')\n",
        "df_products.head()"
      ]
    },
    {
      "cell_type": "markdown",
      "metadata": {
        "id": "GV8Wln1LIhAi"
      },
      "source": [
        "Membaca dataset sellers"
      ]
    },
    {
      "cell_type": "code",
      "execution_count": 10,
      "metadata": {
        "colab": {
          "base_uri": "https://localhost:8080/",
          "height": 206
        },
        "id": "gvMtDlOoIbM4",
        "outputId": "07f24e36-a54a-42e6-bf7d-00c841096cd8"
      },
      "outputs": [
        {
          "data": {
            "text/html": [
              "<div>\n",
              "<style scoped>\n",
              "    .dataframe tbody tr th:only-of-type {\n",
              "        vertical-align: middle;\n",
              "    }\n",
              "\n",
              "    .dataframe tbody tr th {\n",
              "        vertical-align: top;\n",
              "    }\n",
              "\n",
              "    .dataframe thead th {\n",
              "        text-align: right;\n",
              "    }\n",
              "</style>\n",
              "<table border=\"1\" class=\"dataframe\">\n",
              "  <thead>\n",
              "    <tr style=\"text-align: right;\">\n",
              "      <th></th>\n",
              "      <th>seller_id</th>\n",
              "      <th>seller_zip_code_prefix</th>\n",
              "      <th>seller_city</th>\n",
              "      <th>seller_state</th>\n",
              "    </tr>\n",
              "  </thead>\n",
              "  <tbody>\n",
              "    <tr>\n",
              "      <th>0</th>\n",
              "      <td>3442f8959a84dea7ee197c632cb2df15</td>\n",
              "      <td>13023</td>\n",
              "      <td>campinas</td>\n",
              "      <td>SP</td>\n",
              "    </tr>\n",
              "    <tr>\n",
              "      <th>1</th>\n",
              "      <td>d1b65fc7debc3361ea86b5f14c68d2e2</td>\n",
              "      <td>13844</td>\n",
              "      <td>mogi guacu</td>\n",
              "      <td>SP</td>\n",
              "    </tr>\n",
              "    <tr>\n",
              "      <th>2</th>\n",
              "      <td>ce3ad9de960102d0677a81f5d0bb7b2d</td>\n",
              "      <td>20031</td>\n",
              "      <td>rio de janeiro</td>\n",
              "      <td>RJ</td>\n",
              "    </tr>\n",
              "    <tr>\n",
              "      <th>3</th>\n",
              "      <td>c0f3eea2e14555b6faeea3dd58c1b1c3</td>\n",
              "      <td>4195</td>\n",
              "      <td>sao paulo</td>\n",
              "      <td>SP</td>\n",
              "    </tr>\n",
              "    <tr>\n",
              "      <th>4</th>\n",
              "      <td>51a04a8a6bdcb23deccc82b0b80742cf</td>\n",
              "      <td>12914</td>\n",
              "      <td>braganca paulista</td>\n",
              "      <td>SP</td>\n",
              "    </tr>\n",
              "  </tbody>\n",
              "</table>\n",
              "</div>"
            ],
            "text/plain": [
              "                          seller_id  seller_zip_code_prefix  \\\n",
              "0  3442f8959a84dea7ee197c632cb2df15                   13023   \n",
              "1  d1b65fc7debc3361ea86b5f14c68d2e2                   13844   \n",
              "2  ce3ad9de960102d0677a81f5d0bb7b2d                   20031   \n",
              "3  c0f3eea2e14555b6faeea3dd58c1b1c3                    4195   \n",
              "4  51a04a8a6bdcb23deccc82b0b80742cf                   12914   \n",
              "\n",
              "         seller_city seller_state  \n",
              "0           campinas           SP  \n",
              "1         mogi guacu           SP  \n",
              "2     rio de janeiro           RJ  \n",
              "3          sao paulo           SP  \n",
              "4  braganca paulista           SP  "
            ]
          },
          "execution_count": 10,
          "metadata": {},
          "output_type": "execute_result"
        }
      ],
      "source": [
        "df_sellers=pd.read_csv('data\\sellers_dataset.csv')\n",
        "df_sellers.head()"
      ]
    },
    {
      "cell_type": "markdown",
      "metadata": {
        "id": "FHSiqaZp8DC1"
      },
      "source": [
        "### Assessing Data"
      ]
    },
    {
      "cell_type": "markdown",
      "metadata": {
        "id": "yHJlAUATJUb4"
      },
      "source": [
        "Melihat info setiap dataframe"
      ]
    },
    {
      "cell_type": "code",
      "execution_count": 11,
      "metadata": {
        "colab": {
          "base_uri": "https://localhost:8080/"
        },
        "id": "ax-3tEjc9Cj1",
        "outputId": "6f676c8c-e315-408f-8a1b-21f6ff79f746"
      },
      "outputs": [
        {
          "name": "stdout",
          "output_type": "stream",
          "text": [
            "<class 'pandas.core.frame.DataFrame'>\n",
            "RangeIndex: 32951 entries, 0 to 32950\n",
            "Data columns (total 9 columns):\n",
            " #   Column                      Non-Null Count  Dtype  \n",
            "---  ------                      --------------  -----  \n",
            " 0   product_id                  32951 non-null  object \n",
            " 1   product_category_name       32341 non-null  object \n",
            " 2   product_name_lenght         32341 non-null  float64\n",
            " 3   product_description_lenght  32341 non-null  float64\n",
            " 4   product_photos_qty          32341 non-null  float64\n",
            " 5   product_weight_g            32949 non-null  float64\n",
            " 6   product_length_cm           32949 non-null  float64\n",
            " 7   product_height_cm           32949 non-null  float64\n",
            " 8   product_width_cm            32949 non-null  float64\n",
            "dtypes: float64(7), object(2)\n",
            "memory usage: 2.3+ MB\n",
            "<class 'pandas.core.frame.DataFrame'>\n",
            "RangeIndex: 1000163 entries, 0 to 1000162\n",
            "Data columns (total 5 columns):\n",
            " #   Column                       Non-Null Count    Dtype  \n",
            "---  ------                       --------------    -----  \n",
            " 0   geolocation_zip_code_prefix  1000163 non-null  int64  \n",
            " 1   geolocation_lat              1000163 non-null  float64\n",
            " 2   geolocation_lng              1000163 non-null  float64\n",
            " 3   geolocation_city             1000163 non-null  object \n",
            " 4   geolocation_state            1000163 non-null  object \n",
            "dtypes: float64(2), int64(1), object(2)\n",
            "memory usage: 38.2+ MB\n",
            "<class 'pandas.core.frame.DataFrame'>\n",
            "RangeIndex: 112650 entries, 0 to 112649\n",
            "Data columns (total 7 columns):\n",
            " #   Column               Non-Null Count   Dtype  \n",
            "---  ------               --------------   -----  \n",
            " 0   order_id             112650 non-null  object \n",
            " 1   order_item_id        112650 non-null  int64  \n",
            " 2   product_id           112650 non-null  object \n",
            " 3   seller_id            112650 non-null  object \n",
            " 4   shipping_limit_date  112650 non-null  object \n",
            " 5   price                112650 non-null  float64\n",
            " 6   freight_value        112650 non-null  float64\n",
            "dtypes: float64(2), int64(1), object(4)\n",
            "memory usage: 6.0+ MB\n",
            "<class 'pandas.core.frame.DataFrame'>\n",
            "RangeIndex: 103886 entries, 0 to 103885\n",
            "Data columns (total 5 columns):\n",
            " #   Column                Non-Null Count   Dtype  \n",
            "---  ------                --------------   -----  \n",
            " 0   order_id              103886 non-null  object \n",
            " 1   payment_sequential    103886 non-null  int64  \n",
            " 2   payment_type          103886 non-null  object \n",
            " 3   payment_installments  103886 non-null  int64  \n",
            " 4   payment_value         103886 non-null  float64\n",
            "dtypes: float64(1), int64(2), object(2)\n",
            "memory usage: 4.0+ MB\n",
            "<class 'pandas.core.frame.DataFrame'>\n",
            "RangeIndex: 99224 entries, 0 to 99223\n",
            "Data columns (total 7 columns):\n",
            " #   Column                   Non-Null Count  Dtype \n",
            "---  ------                   --------------  ----- \n",
            " 0   review_id                99224 non-null  object\n",
            " 1   order_id                 99224 non-null  object\n",
            " 2   review_score             99224 non-null  int64 \n",
            " 3   review_comment_title     11568 non-null  object\n",
            " 4   review_comment_message   40977 non-null  object\n",
            " 5   review_creation_date     99224 non-null  object\n",
            " 6   review_answer_timestamp  99224 non-null  object\n",
            "dtypes: int64(1), object(6)\n",
            "memory usage: 5.3+ MB\n",
            "<class 'pandas.core.frame.DataFrame'>\n",
            "RangeIndex: 99441 entries, 0 to 99440\n",
            "Data columns (total 8 columns):\n",
            " #   Column                         Non-Null Count  Dtype \n",
            "---  ------                         --------------  ----- \n",
            " 0   order_id                       99441 non-null  object\n",
            " 1   customer_id                    99441 non-null  object\n",
            " 2   order_status                   99441 non-null  object\n",
            " 3   order_purchase_timestamp       99441 non-null  object\n",
            " 4   order_approved_at              99281 non-null  object\n",
            " 5   order_delivered_carrier_date   97658 non-null  object\n",
            " 6   order_delivered_customer_date  96476 non-null  object\n",
            " 7   order_estimated_delivery_date  99441 non-null  object\n",
            "dtypes: object(8)\n",
            "memory usage: 6.1+ MB\n",
            "<class 'pandas.core.frame.DataFrame'>\n",
            "RangeIndex: 71 entries, 0 to 70\n",
            "Data columns (total 2 columns):\n",
            " #   Column                         Non-Null Count  Dtype \n",
            "---  ------                         --------------  ----- \n",
            " 0   product_category_name          71 non-null     object\n",
            " 1   product_category_name_english  71 non-null     object\n",
            "dtypes: object(2)\n",
            "memory usage: 1.2+ KB\n",
            "<class 'pandas.core.frame.DataFrame'>\n",
            "RangeIndex: 32951 entries, 0 to 32950\n",
            "Data columns (total 9 columns):\n",
            " #   Column                      Non-Null Count  Dtype  \n",
            "---  ------                      --------------  -----  \n",
            " 0   product_id                  32951 non-null  object \n",
            " 1   product_category_name       32341 non-null  object \n",
            " 2   product_name_lenght         32341 non-null  float64\n",
            " 3   product_description_lenght  32341 non-null  float64\n",
            " 4   product_photos_qty          32341 non-null  float64\n",
            " 5   product_weight_g            32949 non-null  float64\n",
            " 6   product_length_cm           32949 non-null  float64\n",
            " 7   product_height_cm           32949 non-null  float64\n",
            " 8   product_width_cm            32949 non-null  float64\n",
            "dtypes: float64(7), object(2)\n",
            "memory usage: 2.3+ MB\n",
            "<class 'pandas.core.frame.DataFrame'>\n",
            "RangeIndex: 3095 entries, 0 to 3094\n",
            "Data columns (total 4 columns):\n",
            " #   Column                  Non-Null Count  Dtype \n",
            "---  ------                  --------------  ----- \n",
            " 0   seller_id               3095 non-null   object\n",
            " 1   seller_zip_code_prefix  3095 non-null   int64 \n",
            " 2   seller_city             3095 non-null   object\n",
            " 3   seller_state            3095 non-null   object\n",
            "dtypes: int64(1), object(3)\n",
            "memory usage: 96.8+ KB\n"
          ]
        }
      ],
      "source": [
        "df_products.info()\n",
        "df_geolocation.info()\n",
        "df_order_items.info()\n",
        "df_order_payments.info()\n",
        "df_order_reviews.info()\n",
        "df_orders.info()\n",
        "df_product_category.info()\n",
        "df_products.info()\n",
        "df_sellers.info()"
      ]
    },
    {
      "cell_type": "markdown",
      "metadata": {
        "id": "nPnUq9sOKjRX"
      },
      "source": [
        "Mengecek data null pada setiap dataframe"
      ]
    },
    {
      "cell_type": "code",
      "execution_count": 12,
      "metadata": {
        "colab": {
          "base_uri": "https://localhost:8080/"
        },
        "id": "Ghd1xEE3Kd2W",
        "outputId": "a2179c6e-b392-4b9f-b93d-11489f83289d"
      },
      "outputs": [
        {
          "name": "stdout",
          "output_type": "stream",
          "text": [
            "Info data null customers:          \n",
            "customer_id                 0\n",
            "customer_unique_id          0\n",
            "customer_zip_code_prefix    0\n",
            "customer_city               0\n",
            "customer_state              0\n",
            "dtype: int64\n",
            "\n",
            "Info data null geolocation:      \n",
            "geolocation_zip_code_prefix    0\n",
            "geolocation_lat                0\n",
            "geolocation_lng                0\n",
            "geolocation_city               0\n",
            "geolocation_state              0\n",
            "dtype: int64\n",
            "\n",
            "Info data null order items:      \n",
            "order_id               0\n",
            "order_item_id          0\n",
            "product_id             0\n",
            "seller_id              0\n",
            "shipping_limit_date    0\n",
            "price                  0\n",
            "freight_value          0\n",
            "dtype: int64\n",
            "\n",
            "Info data null order payments:   \n",
            "order_id                0\n",
            "payment_sequential      0\n",
            "payment_type            0\n",
            "payment_installments    0\n",
            "payment_value           0\n",
            "dtype: int64\n",
            "\n",
            "Info data null order reviews:    \n",
            "review_id                      0\n",
            "order_id                       0\n",
            "review_score                   0\n",
            "review_comment_title       87656\n",
            "review_comment_message     58247\n",
            "review_creation_date           0\n",
            "review_answer_timestamp        0\n",
            "dtype: int64\n",
            "\n",
            "Info data null orders:           \n",
            "order_id                            0\n",
            "customer_id                         0\n",
            "order_status                        0\n",
            "order_purchase_timestamp            0\n",
            "order_approved_at                 160\n",
            "order_delivered_carrier_date     1783\n",
            "order_delivered_customer_date    2965\n",
            "order_estimated_delivery_date       0\n",
            "dtype: int64\n",
            "\n",
            "Info data null product category: \n",
            "product_category_name            0\n",
            "product_category_name_english    0\n",
            "dtype: int64\n",
            "\n",
            "Info data null products:         \n",
            "product_id                      0\n",
            "product_category_name         610\n",
            "product_name_lenght           610\n",
            "product_description_lenght    610\n",
            "product_photos_qty            610\n",
            "product_weight_g                2\n",
            "product_length_cm               2\n",
            "product_height_cm               2\n",
            "product_width_cm                2\n",
            "dtype: int64\n",
            "\n",
            "Info data null sellers:          \n",
            "seller_id                 0\n",
            "seller_zip_code_prefix    0\n",
            "seller_city               0\n",
            "seller_state              0\n",
            "dtype: int64\n",
            "\n"
          ]
        }
      ],
      "source": [
        "print(f'Info data null customers:          \\n{df_customers.isna().sum()}\\n'\n",
        "      f'\\nInfo data null geolocation:      \\n{df_geolocation.isna().sum()}\\n'\n",
        "      f'\\nInfo data null order items:      \\n{df_order_items.isna().sum()}\\n'\n",
        "      f'\\nInfo data null order payments:   \\n{df_order_payments.isna().sum()}\\n'\n",
        "      f'\\nInfo data null order reviews:    \\n{df_order_reviews.isna().sum()}\\n'\n",
        "      f'\\nInfo data null orders:           \\n{df_orders.isna().sum()}\\n'\n",
        "      f'\\nInfo data null product category: \\n{df_product_category.isna().sum()}\\n'\n",
        "      f'\\nInfo data null products:         \\n{df_products.isna().sum()}\\n'\n",
        "      f'\\nInfo data null sellers:          \\n{df_sellers.isna().sum()}\\n'\n",
        ")"
      ]
    },
    {
      "cell_type": "markdown",
      "metadata": {
        "id": "emSyaye1Knuj"
      },
      "source": [
        "Mengecek data duplikat"
      ]
    },
    {
      "cell_type": "code",
      "execution_count": 13,
      "metadata": {
        "colab": {
          "base_uri": "https://localhost:8080/"
        },
        "id": "l27L-kFAKp00",
        "outputId": "0b510469-6ae9-4636-c773-e1193b9f9eb7"
      },
      "outputs": [
        {
          "name": "stdout",
          "output_type": "stream",
          "text": [
            "Total duplicate customers        = 0\n",
            "Total duplicate geolocation      = 261831\n",
            "Total duplicate order items      = 0\n",
            "Total duplicate order payments   = 0\n",
            "Total duplicate order review     = 0\n",
            "Total duplicate order            = 0\n",
            "Total duplicate products         = 0\n",
            "Total duplicate seller           = 0\n",
            "Total duplicate product category = 0\n",
            "\n"
          ]
        }
      ],
      "source": [
        "print(f'Total duplicate customers        = {df_customers.duplicated().sum()}\\n'\n",
        "      f'Total duplicate geolocation      = {df_geolocation.duplicated().sum()}\\n'\n",
        "      f'Total duplicate order items      = {df_order_items.duplicated().sum()}\\n'\n",
        "      f'Total duplicate order payments   = {df_order_payments.duplicated().sum()}\\n'\n",
        "      f'Total duplicate order review     = {df_order_reviews.duplicated().sum()}\\n'\n",
        "      f'Total duplicate order            = {df_orders.duplicated().sum()}\\n'\n",
        "      f'Total duplicate products         = {df_products.duplicated().sum()}\\n'\n",
        "      f'Total duplicate seller           = {df_sellers.duplicated().sum()}\\n'\n",
        "      f'Total duplicate product category = {df_product_category.duplicated().sum()}\\n'\n",
        "      )"
      ]
    },
    {
      "cell_type": "markdown",
      "metadata": {
        "id": "LwaoxQCqKt8Y"
      },
      "source": [
        "Mendeskripsikan masing-masing dataframe"
      ]
    },
    {
      "cell_type": "code",
      "execution_count": 14,
      "metadata": {
        "colab": {
          "base_uri": "https://localhost:8080/",
          "height": 300
        },
        "id": "MoC04KR1Kx3f",
        "outputId": "273ffa54-8b25-4eef-f354-9096f35bab36"
      },
      "outputs": [
        {
          "data": {
            "text/html": [
              "<div>\n",
              "<style scoped>\n",
              "    .dataframe tbody tr th:only-of-type {\n",
              "        vertical-align: middle;\n",
              "    }\n",
              "\n",
              "    .dataframe tbody tr th {\n",
              "        vertical-align: top;\n",
              "    }\n",
              "\n",
              "    .dataframe thead th {\n",
              "        text-align: right;\n",
              "    }\n",
              "</style>\n",
              "<table border=\"1\" class=\"dataframe\">\n",
              "  <thead>\n",
              "    <tr style=\"text-align: right;\">\n",
              "      <th></th>\n",
              "      <th>customer_zip_code_prefix</th>\n",
              "    </tr>\n",
              "  </thead>\n",
              "  <tbody>\n",
              "    <tr>\n",
              "      <th>count</th>\n",
              "      <td>99441.000000</td>\n",
              "    </tr>\n",
              "    <tr>\n",
              "      <th>mean</th>\n",
              "      <td>35137.474583</td>\n",
              "    </tr>\n",
              "    <tr>\n",
              "      <th>std</th>\n",
              "      <td>29797.938996</td>\n",
              "    </tr>\n",
              "    <tr>\n",
              "      <th>min</th>\n",
              "      <td>1003.000000</td>\n",
              "    </tr>\n",
              "    <tr>\n",
              "      <th>25%</th>\n",
              "      <td>11347.000000</td>\n",
              "    </tr>\n",
              "    <tr>\n",
              "      <th>50%</th>\n",
              "      <td>24416.000000</td>\n",
              "    </tr>\n",
              "    <tr>\n",
              "      <th>75%</th>\n",
              "      <td>58900.000000</td>\n",
              "    </tr>\n",
              "    <tr>\n",
              "      <th>max</th>\n",
              "      <td>99990.000000</td>\n",
              "    </tr>\n",
              "  </tbody>\n",
              "</table>\n",
              "</div>"
            ],
            "text/plain": [
              "       customer_zip_code_prefix\n",
              "count              99441.000000\n",
              "mean               35137.474583\n",
              "std                29797.938996\n",
              "min                 1003.000000\n",
              "25%                11347.000000\n",
              "50%                24416.000000\n",
              "75%                58900.000000\n",
              "max                99990.000000"
            ]
          },
          "execution_count": 14,
          "metadata": {},
          "output_type": "execute_result"
        }
      ],
      "source": [
        "df_customers.describe()"
      ]
    },
    {
      "cell_type": "code",
      "execution_count": 15,
      "metadata": {
        "colab": {
          "base_uri": "https://localhost:8080/",
          "height": 300
        },
        "id": "iDXTVMeqK1jT",
        "outputId": "1075c634-8cad-40e5-9a65-32a55dc41ee1"
      },
      "outputs": [
        {
          "data": {
            "text/html": [
              "<div>\n",
              "<style scoped>\n",
              "    .dataframe tbody tr th:only-of-type {\n",
              "        vertical-align: middle;\n",
              "    }\n",
              "\n",
              "    .dataframe tbody tr th {\n",
              "        vertical-align: top;\n",
              "    }\n",
              "\n",
              "    .dataframe thead th {\n",
              "        text-align: right;\n",
              "    }\n",
              "</style>\n",
              "<table border=\"1\" class=\"dataframe\">\n",
              "  <thead>\n",
              "    <tr style=\"text-align: right;\">\n",
              "      <th></th>\n",
              "      <th>geolocation_zip_code_prefix</th>\n",
              "      <th>geolocation_lat</th>\n",
              "      <th>geolocation_lng</th>\n",
              "    </tr>\n",
              "  </thead>\n",
              "  <tbody>\n",
              "    <tr>\n",
              "      <th>count</th>\n",
              "      <td>1.000163e+06</td>\n",
              "      <td>1.000163e+06</td>\n",
              "      <td>1.000163e+06</td>\n",
              "    </tr>\n",
              "    <tr>\n",
              "      <th>mean</th>\n",
              "      <td>3.657417e+04</td>\n",
              "      <td>-2.117615e+01</td>\n",
              "      <td>-4.639054e+01</td>\n",
              "    </tr>\n",
              "    <tr>\n",
              "      <th>std</th>\n",
              "      <td>3.054934e+04</td>\n",
              "      <td>5.715866e+00</td>\n",
              "      <td>4.269748e+00</td>\n",
              "    </tr>\n",
              "    <tr>\n",
              "      <th>min</th>\n",
              "      <td>1.001000e+03</td>\n",
              "      <td>-3.660537e+01</td>\n",
              "      <td>-1.014668e+02</td>\n",
              "    </tr>\n",
              "    <tr>\n",
              "      <th>25%</th>\n",
              "      <td>1.107500e+04</td>\n",
              "      <td>-2.360355e+01</td>\n",
              "      <td>-4.857317e+01</td>\n",
              "    </tr>\n",
              "    <tr>\n",
              "      <th>50%</th>\n",
              "      <td>2.653000e+04</td>\n",
              "      <td>-2.291938e+01</td>\n",
              "      <td>-4.663788e+01</td>\n",
              "    </tr>\n",
              "    <tr>\n",
              "      <th>75%</th>\n",
              "      <td>6.350400e+04</td>\n",
              "      <td>-1.997962e+01</td>\n",
              "      <td>-4.376771e+01</td>\n",
              "    </tr>\n",
              "    <tr>\n",
              "      <th>max</th>\n",
              "      <td>9.999000e+04</td>\n",
              "      <td>4.506593e+01</td>\n",
              "      <td>1.211054e+02</td>\n",
              "    </tr>\n",
              "  </tbody>\n",
              "</table>\n",
              "</div>"
            ],
            "text/plain": [
              "       geolocation_zip_code_prefix  geolocation_lat  geolocation_lng\n",
              "count                 1.000163e+06     1.000163e+06     1.000163e+06\n",
              "mean                  3.657417e+04    -2.117615e+01    -4.639054e+01\n",
              "std                   3.054934e+04     5.715866e+00     4.269748e+00\n",
              "min                   1.001000e+03    -3.660537e+01    -1.014668e+02\n",
              "25%                   1.107500e+04    -2.360355e+01    -4.857317e+01\n",
              "50%                   2.653000e+04    -2.291938e+01    -4.663788e+01\n",
              "75%                   6.350400e+04    -1.997962e+01    -4.376771e+01\n",
              "max                   9.999000e+04     4.506593e+01     1.211054e+02"
            ]
          },
          "execution_count": 15,
          "metadata": {},
          "output_type": "execute_result"
        }
      ],
      "source": [
        "df_geolocation.describe()"
      ]
    },
    {
      "cell_type": "code",
      "execution_count": 16,
      "metadata": {
        "colab": {
          "base_uri": "https://localhost:8080/",
          "height": 300
        },
        "id": "1F6fnp_cK5WQ",
        "outputId": "1d531677-57a4-43ca-eeb5-c7436bc6300c"
      },
      "outputs": [
        {
          "data": {
            "text/html": [
              "<div>\n",
              "<style scoped>\n",
              "    .dataframe tbody tr th:only-of-type {\n",
              "        vertical-align: middle;\n",
              "    }\n",
              "\n",
              "    .dataframe tbody tr th {\n",
              "        vertical-align: top;\n",
              "    }\n",
              "\n",
              "    .dataframe thead th {\n",
              "        text-align: right;\n",
              "    }\n",
              "</style>\n",
              "<table border=\"1\" class=\"dataframe\">\n",
              "  <thead>\n",
              "    <tr style=\"text-align: right;\">\n",
              "      <th></th>\n",
              "      <th>order_item_id</th>\n",
              "      <th>price</th>\n",
              "      <th>freight_value</th>\n",
              "    </tr>\n",
              "  </thead>\n",
              "  <tbody>\n",
              "    <tr>\n",
              "      <th>count</th>\n",
              "      <td>112650.000000</td>\n",
              "      <td>112650.000000</td>\n",
              "      <td>112650.000000</td>\n",
              "    </tr>\n",
              "    <tr>\n",
              "      <th>mean</th>\n",
              "      <td>1.197834</td>\n",
              "      <td>120.653739</td>\n",
              "      <td>19.990320</td>\n",
              "    </tr>\n",
              "    <tr>\n",
              "      <th>std</th>\n",
              "      <td>0.705124</td>\n",
              "      <td>183.633928</td>\n",
              "      <td>15.806405</td>\n",
              "    </tr>\n",
              "    <tr>\n",
              "      <th>min</th>\n",
              "      <td>1.000000</td>\n",
              "      <td>0.850000</td>\n",
              "      <td>0.000000</td>\n",
              "    </tr>\n",
              "    <tr>\n",
              "      <th>25%</th>\n",
              "      <td>1.000000</td>\n",
              "      <td>39.900000</td>\n",
              "      <td>13.080000</td>\n",
              "    </tr>\n",
              "    <tr>\n",
              "      <th>50%</th>\n",
              "      <td>1.000000</td>\n",
              "      <td>74.990000</td>\n",
              "      <td>16.260000</td>\n",
              "    </tr>\n",
              "    <tr>\n",
              "      <th>75%</th>\n",
              "      <td>1.000000</td>\n",
              "      <td>134.900000</td>\n",
              "      <td>21.150000</td>\n",
              "    </tr>\n",
              "    <tr>\n",
              "      <th>max</th>\n",
              "      <td>21.000000</td>\n",
              "      <td>6735.000000</td>\n",
              "      <td>409.680000</td>\n",
              "    </tr>\n",
              "  </tbody>\n",
              "</table>\n",
              "</div>"
            ],
            "text/plain": [
              "       order_item_id          price  freight_value\n",
              "count  112650.000000  112650.000000  112650.000000\n",
              "mean        1.197834     120.653739      19.990320\n",
              "std         0.705124     183.633928      15.806405\n",
              "min         1.000000       0.850000       0.000000\n",
              "25%         1.000000      39.900000      13.080000\n",
              "50%         1.000000      74.990000      16.260000\n",
              "75%         1.000000     134.900000      21.150000\n",
              "max        21.000000    6735.000000     409.680000"
            ]
          },
          "execution_count": 16,
          "metadata": {},
          "output_type": "execute_result"
        }
      ],
      "source": [
        "df_order_items.describe()"
      ]
    },
    {
      "cell_type": "code",
      "execution_count": 17,
      "metadata": {
        "colab": {
          "base_uri": "https://localhost:8080/",
          "height": 300
        },
        "id": "UkU65aziK8fu",
        "outputId": "dd4b7ac4-ad12-4ee8-d814-c9edf5bb564b"
      },
      "outputs": [
        {
          "data": {
            "text/html": [
              "<div>\n",
              "<style scoped>\n",
              "    .dataframe tbody tr th:only-of-type {\n",
              "        vertical-align: middle;\n",
              "    }\n",
              "\n",
              "    .dataframe tbody tr th {\n",
              "        vertical-align: top;\n",
              "    }\n",
              "\n",
              "    .dataframe thead th {\n",
              "        text-align: right;\n",
              "    }\n",
              "</style>\n",
              "<table border=\"1\" class=\"dataframe\">\n",
              "  <thead>\n",
              "    <tr style=\"text-align: right;\">\n",
              "      <th></th>\n",
              "      <th>payment_sequential</th>\n",
              "      <th>payment_installments</th>\n",
              "      <th>payment_value</th>\n",
              "    </tr>\n",
              "  </thead>\n",
              "  <tbody>\n",
              "    <tr>\n",
              "      <th>count</th>\n",
              "      <td>103886.000000</td>\n",
              "      <td>103886.000000</td>\n",
              "      <td>103886.000000</td>\n",
              "    </tr>\n",
              "    <tr>\n",
              "      <th>mean</th>\n",
              "      <td>1.092679</td>\n",
              "      <td>2.853349</td>\n",
              "      <td>154.100380</td>\n",
              "    </tr>\n",
              "    <tr>\n",
              "      <th>std</th>\n",
              "      <td>0.706584</td>\n",
              "      <td>2.687051</td>\n",
              "      <td>217.494064</td>\n",
              "    </tr>\n",
              "    <tr>\n",
              "      <th>min</th>\n",
              "      <td>1.000000</td>\n",
              "      <td>0.000000</td>\n",
              "      <td>0.000000</td>\n",
              "    </tr>\n",
              "    <tr>\n",
              "      <th>25%</th>\n",
              "      <td>1.000000</td>\n",
              "      <td>1.000000</td>\n",
              "      <td>56.790000</td>\n",
              "    </tr>\n",
              "    <tr>\n",
              "      <th>50%</th>\n",
              "      <td>1.000000</td>\n",
              "      <td>1.000000</td>\n",
              "      <td>100.000000</td>\n",
              "    </tr>\n",
              "    <tr>\n",
              "      <th>75%</th>\n",
              "      <td>1.000000</td>\n",
              "      <td>4.000000</td>\n",
              "      <td>171.837500</td>\n",
              "    </tr>\n",
              "    <tr>\n",
              "      <th>max</th>\n",
              "      <td>29.000000</td>\n",
              "      <td>24.000000</td>\n",
              "      <td>13664.080000</td>\n",
              "    </tr>\n",
              "  </tbody>\n",
              "</table>\n",
              "</div>"
            ],
            "text/plain": [
              "       payment_sequential  payment_installments  payment_value\n",
              "count       103886.000000         103886.000000  103886.000000\n",
              "mean             1.092679              2.853349     154.100380\n",
              "std              0.706584              2.687051     217.494064\n",
              "min              1.000000              0.000000       0.000000\n",
              "25%              1.000000              1.000000      56.790000\n",
              "50%              1.000000              1.000000     100.000000\n",
              "75%              1.000000              4.000000     171.837500\n",
              "max             29.000000             24.000000   13664.080000"
            ]
          },
          "execution_count": 17,
          "metadata": {},
          "output_type": "execute_result"
        }
      ],
      "source": [
        "df_order_payments.describe()"
      ]
    },
    {
      "cell_type": "code",
      "execution_count": 18,
      "metadata": {
        "colab": {
          "base_uri": "https://localhost:8080/",
          "height": 300
        },
        "id": "zBbNF6fwK-n_",
        "outputId": "05c44467-dbb5-4a66-d615-adee7fbbffba"
      },
      "outputs": [
        {
          "data": {
            "text/html": [
              "<div>\n",
              "<style scoped>\n",
              "    .dataframe tbody tr th:only-of-type {\n",
              "        vertical-align: middle;\n",
              "    }\n",
              "\n",
              "    .dataframe tbody tr th {\n",
              "        vertical-align: top;\n",
              "    }\n",
              "\n",
              "    .dataframe thead th {\n",
              "        text-align: right;\n",
              "    }\n",
              "</style>\n",
              "<table border=\"1\" class=\"dataframe\">\n",
              "  <thead>\n",
              "    <tr style=\"text-align: right;\">\n",
              "      <th></th>\n",
              "      <th>review_score</th>\n",
              "    </tr>\n",
              "  </thead>\n",
              "  <tbody>\n",
              "    <tr>\n",
              "      <th>count</th>\n",
              "      <td>99224.000000</td>\n",
              "    </tr>\n",
              "    <tr>\n",
              "      <th>mean</th>\n",
              "      <td>4.086421</td>\n",
              "    </tr>\n",
              "    <tr>\n",
              "      <th>std</th>\n",
              "      <td>1.347579</td>\n",
              "    </tr>\n",
              "    <tr>\n",
              "      <th>min</th>\n",
              "      <td>1.000000</td>\n",
              "    </tr>\n",
              "    <tr>\n",
              "      <th>25%</th>\n",
              "      <td>4.000000</td>\n",
              "    </tr>\n",
              "    <tr>\n",
              "      <th>50%</th>\n",
              "      <td>5.000000</td>\n",
              "    </tr>\n",
              "    <tr>\n",
              "      <th>75%</th>\n",
              "      <td>5.000000</td>\n",
              "    </tr>\n",
              "    <tr>\n",
              "      <th>max</th>\n",
              "      <td>5.000000</td>\n",
              "    </tr>\n",
              "  </tbody>\n",
              "</table>\n",
              "</div>"
            ],
            "text/plain": [
              "       review_score\n",
              "count  99224.000000\n",
              "mean       4.086421\n",
              "std        1.347579\n",
              "min        1.000000\n",
              "25%        4.000000\n",
              "50%        5.000000\n",
              "75%        5.000000\n",
              "max        5.000000"
            ]
          },
          "execution_count": 18,
          "metadata": {},
          "output_type": "execute_result"
        }
      ],
      "source": [
        "df_order_reviews.describe()"
      ]
    },
    {
      "cell_type": "code",
      "execution_count": 19,
      "metadata": {
        "colab": {
          "base_uri": "https://localhost:8080/",
          "height": 195
        },
        "id": "soNm2Z_wLBLr",
        "outputId": "beaadf15-914a-4ac5-86a3-75cc238c8eea"
      },
      "outputs": [
        {
          "data": {
            "text/html": [
              "<div>\n",
              "<style scoped>\n",
              "    .dataframe tbody tr th:only-of-type {\n",
              "        vertical-align: middle;\n",
              "    }\n",
              "\n",
              "    .dataframe tbody tr th {\n",
              "        vertical-align: top;\n",
              "    }\n",
              "\n",
              "    .dataframe thead th {\n",
              "        text-align: right;\n",
              "    }\n",
              "</style>\n",
              "<table border=\"1\" class=\"dataframe\">\n",
              "  <thead>\n",
              "    <tr style=\"text-align: right;\">\n",
              "      <th></th>\n",
              "      <th>order_id</th>\n",
              "      <th>customer_id</th>\n",
              "      <th>order_status</th>\n",
              "      <th>order_purchase_timestamp</th>\n",
              "      <th>order_approved_at</th>\n",
              "      <th>order_delivered_carrier_date</th>\n",
              "      <th>order_delivered_customer_date</th>\n",
              "      <th>order_estimated_delivery_date</th>\n",
              "    </tr>\n",
              "  </thead>\n",
              "  <tbody>\n",
              "    <tr>\n",
              "      <th>count</th>\n",
              "      <td>99441</td>\n",
              "      <td>99441</td>\n",
              "      <td>99441</td>\n",
              "      <td>99441</td>\n",
              "      <td>99281</td>\n",
              "      <td>97658</td>\n",
              "      <td>96476</td>\n",
              "      <td>99441</td>\n",
              "    </tr>\n",
              "    <tr>\n",
              "      <th>unique</th>\n",
              "      <td>99441</td>\n",
              "      <td>99441</td>\n",
              "      <td>8</td>\n",
              "      <td>98875</td>\n",
              "      <td>90733</td>\n",
              "      <td>81018</td>\n",
              "      <td>95664</td>\n",
              "      <td>459</td>\n",
              "    </tr>\n",
              "    <tr>\n",
              "      <th>top</th>\n",
              "      <td>66dea50a8b16d9b4dee7af250b4be1a5</td>\n",
              "      <td>edb027a75a1449115f6b43211ae02a24</td>\n",
              "      <td>delivered</td>\n",
              "      <td>2018-08-02 12:05:26</td>\n",
              "      <td>2018-02-27 04:31:10</td>\n",
              "      <td>2018-05-09 15:48:00</td>\n",
              "      <td>2018-05-08 19:36:48</td>\n",
              "      <td>2017-12-20 00:00:00</td>\n",
              "    </tr>\n",
              "    <tr>\n",
              "      <th>freq</th>\n",
              "      <td>1</td>\n",
              "      <td>1</td>\n",
              "      <td>96478</td>\n",
              "      <td>3</td>\n",
              "      <td>9</td>\n",
              "      <td>47</td>\n",
              "      <td>3</td>\n",
              "      <td>522</td>\n",
              "    </tr>\n",
              "  </tbody>\n",
              "</table>\n",
              "</div>"
            ],
            "text/plain": [
              "                                order_id                       customer_id  \\\n",
              "count                              99441                             99441   \n",
              "unique                             99441                             99441   \n",
              "top     66dea50a8b16d9b4dee7af250b4be1a5  edb027a75a1449115f6b43211ae02a24   \n",
              "freq                                   1                                 1   \n",
              "\n",
              "       order_status order_purchase_timestamp    order_approved_at  \\\n",
              "count         99441                    99441                99281   \n",
              "unique            8                    98875                90733   \n",
              "top       delivered      2018-08-02 12:05:26  2018-02-27 04:31:10   \n",
              "freq          96478                        3                    9   \n",
              "\n",
              "       order_delivered_carrier_date order_delivered_customer_date  \\\n",
              "count                         97658                         96476   \n",
              "unique                        81018                         95664   \n",
              "top             2018-05-09 15:48:00           2018-05-08 19:36:48   \n",
              "freq                             47                             3   \n",
              "\n",
              "       order_estimated_delivery_date  \n",
              "count                          99441  \n",
              "unique                           459  \n",
              "top              2017-12-20 00:00:00  \n",
              "freq                             522  "
            ]
          },
          "execution_count": 19,
          "metadata": {},
          "output_type": "execute_result"
        }
      ],
      "source": [
        "df_orders.describe()"
      ]
    },
    {
      "cell_type": "code",
      "execution_count": 20,
      "metadata": {
        "colab": {
          "base_uri": "https://localhost:8080/",
          "height": 175
        },
        "id": "a_mFrpeiLCbh",
        "outputId": "5e21c656-6d34-43df-93b2-ee1b66c1f534"
      },
      "outputs": [
        {
          "data": {
            "text/html": [
              "<div>\n",
              "<style scoped>\n",
              "    .dataframe tbody tr th:only-of-type {\n",
              "        vertical-align: middle;\n",
              "    }\n",
              "\n",
              "    .dataframe tbody tr th {\n",
              "        vertical-align: top;\n",
              "    }\n",
              "\n",
              "    .dataframe thead th {\n",
              "        text-align: right;\n",
              "    }\n",
              "</style>\n",
              "<table border=\"1\" class=\"dataframe\">\n",
              "  <thead>\n",
              "    <tr style=\"text-align: right;\">\n",
              "      <th></th>\n",
              "      <th>product_category_name</th>\n",
              "      <th>product_category_name_english</th>\n",
              "    </tr>\n",
              "  </thead>\n",
              "  <tbody>\n",
              "    <tr>\n",
              "      <th>count</th>\n",
              "      <td>71</td>\n",
              "      <td>71</td>\n",
              "    </tr>\n",
              "    <tr>\n",
              "      <th>unique</th>\n",
              "      <td>71</td>\n",
              "      <td>71</td>\n",
              "    </tr>\n",
              "    <tr>\n",
              "      <th>top</th>\n",
              "      <td>beleza_saude</td>\n",
              "      <td>health_beauty</td>\n",
              "    </tr>\n",
              "    <tr>\n",
              "      <th>freq</th>\n",
              "      <td>1</td>\n",
              "      <td>1</td>\n",
              "    </tr>\n",
              "  </tbody>\n",
              "</table>\n",
              "</div>"
            ],
            "text/plain": [
              "       product_category_name product_category_name_english\n",
              "count                     71                            71\n",
              "unique                    71                            71\n",
              "top             beleza_saude                 health_beauty\n",
              "freq                       1                             1"
            ]
          },
          "execution_count": 20,
          "metadata": {},
          "output_type": "execute_result"
        }
      ],
      "source": [
        "df_product_category.describe()"
      ]
    },
    {
      "cell_type": "code",
      "execution_count": 21,
      "metadata": {
        "colab": {
          "base_uri": "https://localhost:8080/",
          "height": 300
        },
        "id": "uPvi8D1sLD-g",
        "outputId": "3e48782c-a8fe-4374-aa40-630866f3c2ce"
      },
      "outputs": [
        {
          "data": {
            "text/html": [
              "<div>\n",
              "<style scoped>\n",
              "    .dataframe tbody tr th:only-of-type {\n",
              "        vertical-align: middle;\n",
              "    }\n",
              "\n",
              "    .dataframe tbody tr th {\n",
              "        vertical-align: top;\n",
              "    }\n",
              "\n",
              "    .dataframe thead th {\n",
              "        text-align: right;\n",
              "    }\n",
              "</style>\n",
              "<table border=\"1\" class=\"dataframe\">\n",
              "  <thead>\n",
              "    <tr style=\"text-align: right;\">\n",
              "      <th></th>\n",
              "      <th>product_name_lenght</th>\n",
              "      <th>product_description_lenght</th>\n",
              "      <th>product_photos_qty</th>\n",
              "      <th>product_weight_g</th>\n",
              "      <th>product_length_cm</th>\n",
              "      <th>product_height_cm</th>\n",
              "      <th>product_width_cm</th>\n",
              "    </tr>\n",
              "  </thead>\n",
              "  <tbody>\n",
              "    <tr>\n",
              "      <th>count</th>\n",
              "      <td>32341.000000</td>\n",
              "      <td>32341.000000</td>\n",
              "      <td>32341.000000</td>\n",
              "      <td>32949.000000</td>\n",
              "      <td>32949.000000</td>\n",
              "      <td>32949.000000</td>\n",
              "      <td>32949.000000</td>\n",
              "    </tr>\n",
              "    <tr>\n",
              "      <th>mean</th>\n",
              "      <td>48.476949</td>\n",
              "      <td>771.495285</td>\n",
              "      <td>2.188986</td>\n",
              "      <td>2276.472488</td>\n",
              "      <td>30.815078</td>\n",
              "      <td>16.937661</td>\n",
              "      <td>23.196728</td>\n",
              "    </tr>\n",
              "    <tr>\n",
              "      <th>std</th>\n",
              "      <td>10.245741</td>\n",
              "      <td>635.115225</td>\n",
              "      <td>1.736766</td>\n",
              "      <td>4282.038731</td>\n",
              "      <td>16.914458</td>\n",
              "      <td>13.637554</td>\n",
              "      <td>12.079047</td>\n",
              "    </tr>\n",
              "    <tr>\n",
              "      <th>min</th>\n",
              "      <td>5.000000</td>\n",
              "      <td>4.000000</td>\n",
              "      <td>1.000000</td>\n",
              "      <td>0.000000</td>\n",
              "      <td>7.000000</td>\n",
              "      <td>2.000000</td>\n",
              "      <td>6.000000</td>\n",
              "    </tr>\n",
              "    <tr>\n",
              "      <th>25%</th>\n",
              "      <td>42.000000</td>\n",
              "      <td>339.000000</td>\n",
              "      <td>1.000000</td>\n",
              "      <td>300.000000</td>\n",
              "      <td>18.000000</td>\n",
              "      <td>8.000000</td>\n",
              "      <td>15.000000</td>\n",
              "    </tr>\n",
              "    <tr>\n",
              "      <th>50%</th>\n",
              "      <td>51.000000</td>\n",
              "      <td>595.000000</td>\n",
              "      <td>1.000000</td>\n",
              "      <td>700.000000</td>\n",
              "      <td>25.000000</td>\n",
              "      <td>13.000000</td>\n",
              "      <td>20.000000</td>\n",
              "    </tr>\n",
              "    <tr>\n",
              "      <th>75%</th>\n",
              "      <td>57.000000</td>\n",
              "      <td>972.000000</td>\n",
              "      <td>3.000000</td>\n",
              "      <td>1900.000000</td>\n",
              "      <td>38.000000</td>\n",
              "      <td>21.000000</td>\n",
              "      <td>30.000000</td>\n",
              "    </tr>\n",
              "    <tr>\n",
              "      <th>max</th>\n",
              "      <td>76.000000</td>\n",
              "      <td>3992.000000</td>\n",
              "      <td>20.000000</td>\n",
              "      <td>40425.000000</td>\n",
              "      <td>105.000000</td>\n",
              "      <td>105.000000</td>\n",
              "      <td>118.000000</td>\n",
              "    </tr>\n",
              "  </tbody>\n",
              "</table>\n",
              "</div>"
            ],
            "text/plain": [
              "       product_name_lenght  product_description_lenght  product_photos_qty  \\\n",
              "count         32341.000000                32341.000000        32341.000000   \n",
              "mean             48.476949                  771.495285            2.188986   \n",
              "std              10.245741                  635.115225            1.736766   \n",
              "min               5.000000                    4.000000            1.000000   \n",
              "25%              42.000000                  339.000000            1.000000   \n",
              "50%              51.000000                  595.000000            1.000000   \n",
              "75%              57.000000                  972.000000            3.000000   \n",
              "max              76.000000                 3992.000000           20.000000   \n",
              "\n",
              "       product_weight_g  product_length_cm  product_height_cm  \\\n",
              "count      32949.000000       32949.000000       32949.000000   \n",
              "mean        2276.472488          30.815078          16.937661   \n",
              "std         4282.038731          16.914458          13.637554   \n",
              "min            0.000000           7.000000           2.000000   \n",
              "25%          300.000000          18.000000           8.000000   \n",
              "50%          700.000000          25.000000          13.000000   \n",
              "75%         1900.000000          38.000000          21.000000   \n",
              "max        40425.000000         105.000000         105.000000   \n",
              "\n",
              "       product_width_cm  \n",
              "count      32949.000000  \n",
              "mean          23.196728  \n",
              "std           12.079047  \n",
              "min            6.000000  \n",
              "25%           15.000000  \n",
              "50%           20.000000  \n",
              "75%           30.000000  \n",
              "max          118.000000  "
            ]
          },
          "execution_count": 21,
          "metadata": {},
          "output_type": "execute_result"
        }
      ],
      "source": [
        "df_products.describe()"
      ]
    },
    {
      "cell_type": "code",
      "execution_count": 22,
      "metadata": {
        "colab": {
          "base_uri": "https://localhost:8080/",
          "height": 300
        },
        "id": "AtMZ3LU2LFZM",
        "outputId": "306a478b-a53a-4c8f-c6ef-5a799bd06df2"
      },
      "outputs": [
        {
          "data": {
            "text/html": [
              "<div>\n",
              "<style scoped>\n",
              "    .dataframe tbody tr th:only-of-type {\n",
              "        vertical-align: middle;\n",
              "    }\n",
              "\n",
              "    .dataframe tbody tr th {\n",
              "        vertical-align: top;\n",
              "    }\n",
              "\n",
              "    .dataframe thead th {\n",
              "        text-align: right;\n",
              "    }\n",
              "</style>\n",
              "<table border=\"1\" class=\"dataframe\">\n",
              "  <thead>\n",
              "    <tr style=\"text-align: right;\">\n",
              "      <th></th>\n",
              "      <th>seller_zip_code_prefix</th>\n",
              "    </tr>\n",
              "  </thead>\n",
              "  <tbody>\n",
              "    <tr>\n",
              "      <th>count</th>\n",
              "      <td>3095.000000</td>\n",
              "    </tr>\n",
              "    <tr>\n",
              "      <th>mean</th>\n",
              "      <td>32291.059451</td>\n",
              "    </tr>\n",
              "    <tr>\n",
              "      <th>std</th>\n",
              "      <td>32713.453830</td>\n",
              "    </tr>\n",
              "    <tr>\n",
              "      <th>min</th>\n",
              "      <td>1001.000000</td>\n",
              "    </tr>\n",
              "    <tr>\n",
              "      <th>25%</th>\n",
              "      <td>7093.500000</td>\n",
              "    </tr>\n",
              "    <tr>\n",
              "      <th>50%</th>\n",
              "      <td>14940.000000</td>\n",
              "    </tr>\n",
              "    <tr>\n",
              "      <th>75%</th>\n",
              "      <td>64552.500000</td>\n",
              "    </tr>\n",
              "    <tr>\n",
              "      <th>max</th>\n",
              "      <td>99730.000000</td>\n",
              "    </tr>\n",
              "  </tbody>\n",
              "</table>\n",
              "</div>"
            ],
            "text/plain": [
              "       seller_zip_code_prefix\n",
              "count             3095.000000\n",
              "mean             32291.059451\n",
              "std              32713.453830\n",
              "min               1001.000000\n",
              "25%               7093.500000\n",
              "50%              14940.000000\n",
              "75%              64552.500000\n",
              "max              99730.000000"
            ]
          },
          "execution_count": 22,
          "metadata": {},
          "output_type": "execute_result"
        }
      ],
      "source": [
        "df_sellers.describe()"
      ]
    },
    {
      "cell_type": "markdown",
      "metadata": {
        "id": "EhN5R4hr8DC1"
      },
      "source": [
        "### Cleaning Data"
      ]
    },
    {
      "cell_type": "markdown",
      "metadata": {
        "id": "kc54u0jyLNyE"
      },
      "source": [
        "Mengubah kolom-kolom yang berisi tanggal dan jam dari tipe data object atau string menjadi tipe data datetime"
      ]
    },
    {
      "cell_type": "code",
      "execution_count": 23,
      "metadata": {
        "id": "jVnYpprE9Evz"
      },
      "outputs": [],
      "source": [
        "order_items_col=['shipping_limit_date']\n",
        "for col in order_items_col:\n",
        "    df_order_items[col]=pd.to_datetime(df_order_items[col])"
      ]
    },
    {
      "cell_type": "code",
      "execution_count": 24,
      "metadata": {
        "id": "vowm7b42MkIr"
      },
      "outputs": [],
      "source": [
        "order_reviews_col=['review_creation_date', 'review_answer_timestamp']\n",
        "for col in order_reviews_col:\n",
        "    df_order_reviews[col]=pd.to_datetime(df_order_reviews[col])"
      ]
    },
    {
      "cell_type": "code",
      "execution_count": 25,
      "metadata": {
        "id": "OHBO0R7RMlSq"
      },
      "outputs": [],
      "source": [
        "orders_col=['order_purchase_timestamp', 'order_approved_at', 'order_delivered_carrier_date','order_delivered_customer_date', 'order_estimated_delivery_date']\n",
        "for col in orders_col:\n",
        "    df_orders[col]=pd.to_datetime(df_orders[col])"
      ]
    },
    {
      "cell_type": "markdown",
      "metadata": {
        "id": "mrw5HwuQMmp3"
      },
      "source": [
        "Menghapus data duplikat"
      ]
    },
    {
      "cell_type": "code",
      "execution_count": 26,
      "metadata": {
        "colab": {
          "base_uri": "https://localhost:8080/"
        },
        "id": "nCvYWC_-Mod1",
        "outputId": "c7aac8e8-b4e5-4280-bbdc-8ef47870cd4c"
      },
      "outputs": [
        {
          "data": {
            "text/plain": [
              "np.int64(261831)"
            ]
          },
          "execution_count": 26,
          "metadata": {},
          "output_type": "execute_result"
        }
      ],
      "source": [
        "df_geolocation.duplicated().sum()"
      ]
    },
    {
      "cell_type": "code",
      "execution_count": 27,
      "metadata": {
        "id": "EuFYgWdIMvPO"
      },
      "outputs": [],
      "source": [
        "df_geolocation.drop_duplicates(inplace=True)"
      ]
    },
    {
      "cell_type": "code",
      "execution_count": 28,
      "metadata": {
        "colab": {
          "base_uri": "https://localhost:8080/"
        },
        "id": "gp2NbzVEMwZJ",
        "outputId": "5597f3ff-c161-4a49-840d-02fbc317633b"
      },
      "outputs": [
        {
          "data": {
            "text/plain": [
              "np.int64(0)"
            ]
          },
          "execution_count": 28,
          "metadata": {},
          "output_type": "execute_result"
        }
      ],
      "source": [
        "df_geolocation.duplicated().sum()"
      ]
    },
    {
      "cell_type": "markdown",
      "metadata": {
        "id": "X-_s3LHtMyqx"
      },
      "source": [
        "Membersihkan data null pada df_order_reviews"
      ]
    },
    {
      "cell_type": "code",
      "execution_count": 29,
      "metadata": {
        "colab": {
          "base_uri": "https://localhost:8080/",
          "height": 303
        },
        "id": "sX7hml7kM3SN",
        "outputId": "ccf66e8a-2090-4116-8190-14db1cfb20c7"
      },
      "outputs": [
        {
          "data": {
            "text/plain": [
              "review_id                      0\n",
              "order_id                       0\n",
              "review_score                   0\n",
              "review_comment_title       87656\n",
              "review_comment_message     58247\n",
              "review_creation_date           0\n",
              "review_answer_timestamp        0\n",
              "dtype: int64"
            ]
          },
          "execution_count": 29,
          "metadata": {},
          "output_type": "execute_result"
        }
      ],
      "source": [
        "df_order_reviews.isna().sum()"
      ]
    },
    {
      "cell_type": "markdown",
      "metadata": {
        "id": "egcgQVbiM8SY"
      },
      "source": [
        "Mengganti nilai column review_comment_title & review_comment_message yang memiliki nilai null dengan string \"Not Available\""
      ]
    },
    {
      "cell_type": "code",
      "execution_count": 30,
      "metadata": {
        "id": "fEOcFCRRM9s2"
      },
      "outputs": [],
      "source": [
        "df_order_reviews[\"review_comment_title\"] = df_order_reviews[\"review_comment_title\"].fillna(\"Not Available\")\n",
        "df_order_reviews[\"review_comment_message\"] = df_order_reviews[\"review_comment_message\"].fillna(\"Not Available\")"
      ]
    },
    {
      "cell_type": "markdown",
      "metadata": {
        "id": "guPxvJHnNASx"
      },
      "source": [
        "Mengecek kembali jumlah nilai null pada df order review setelah di cleaning"
      ]
    },
    {
      "cell_type": "code",
      "execution_count": 31,
      "metadata": {
        "colab": {
          "base_uri": "https://localhost:8080/",
          "height": 303
        },
        "id": "OxxYh2hSNBGa",
        "outputId": "407ae032-9b6e-4034-d44d-42469c4c425b"
      },
      "outputs": [
        {
          "data": {
            "text/plain": [
              "review_id                  0\n",
              "order_id                   0\n",
              "review_score               0\n",
              "review_comment_title       0\n",
              "review_comment_message     0\n",
              "review_creation_date       0\n",
              "review_answer_timestamp    0\n",
              "dtype: int64"
            ]
          },
          "execution_count": 31,
          "metadata": {},
          "output_type": "execute_result"
        }
      ],
      "source": [
        "df_order_reviews.isna().sum()"
      ]
    },
    {
      "cell_type": "markdown",
      "metadata": {
        "id": "CZAWo477NJDY"
      },
      "source": [
        "Pada df_orders, kolom yang berisi nilai null terletak pada kolom yang memiliki tipedata datetime. Jika menggantinya ke nilai yang lain, maka tipedata kolom tersebut akan berubah ke object, sehingga pada tahap ini saya tidak mengubahnya dan membiarkan nilai null tersebut karena bisa saja baris tuple tersebut memiliki sesuatu yang penting"
      ]
    },
    {
      "cell_type": "code",
      "execution_count": 32,
      "metadata": {
        "colab": {
          "base_uri": "https://localhost:8080/",
          "height": 335
        },
        "id": "W3rjBQe8NV3Z",
        "outputId": "53437ccd-9e6a-4c5e-e246-26aaf9845ae4"
      },
      "outputs": [
        {
          "data": {
            "text/plain": [
              "order_id                            0\n",
              "customer_id                         0\n",
              "order_status                        0\n",
              "order_purchase_timestamp            0\n",
              "order_approved_at                 160\n",
              "order_delivered_carrier_date     1783\n",
              "order_delivered_customer_date    2965\n",
              "order_estimated_delivery_date       0\n",
              "dtype: int64"
            ]
          },
          "execution_count": 32,
          "metadata": {},
          "output_type": "execute_result"
        }
      ],
      "source": [
        "df_orders.isna().sum()"
      ]
    },
    {
      "cell_type": "code",
      "execution_count": 33,
      "metadata": {
        "colab": {
          "base_uri": "https://localhost:8080/",
          "height": 366
        },
        "id": "VzdC-PUwNiv6",
        "outputId": "af9aefad-fef1-40ff-df8b-8c9edaba20f5"
      },
      "outputs": [
        {
          "data": {
            "text/plain": [
              "product_id                      0\n",
              "product_category_name         610\n",
              "product_name_lenght           610\n",
              "product_description_lenght    610\n",
              "product_photos_qty            610\n",
              "product_weight_g                2\n",
              "product_length_cm               2\n",
              "product_height_cm               2\n",
              "product_width_cm                2\n",
              "dtype: int64"
            ]
          },
          "execution_count": 33,
          "metadata": {},
          "output_type": "execute_result"
        }
      ],
      "source": [
        "df_products.isna().sum()"
      ]
    },
    {
      "cell_type": "markdown",
      "metadata": {
        "id": "hgPbWKCgNszk"
      },
      "source": [
        "Pada df_products, hampir semua kolom memiliki nilai null, kecuali product_id. Pada kolom product_category_name bertipe data object, artinya kita tidak bisa mengisi NaN tersebut dengan metode imputation atau interpolation, maka biarkan berisi NaN. Tetapi pada kolom yang lain, digunakan metode median imputation untuk mengisi nilai null pada kolom tersebut."
      ]
    },
    {
      "cell_type": "code",
      "execution_count": 34,
      "metadata": {
        "id": "Sh5euNyANz2w"
      },
      "outputs": [],
      "source": [
        "df_products['product_name_lenght']        = df_products['product_name_lenght'].fillna(df_products['product_name_lenght'].median())\n",
        "df_products['product_description_lenght'] = df_products['product_description_lenght'].fillna(df_products['product_description_lenght'].median())\n",
        "df_products['product_photos_qty']         = df_products['product_photos_qty'].fillna(df_products['product_photos_qty'].median())\n",
        "df_products['product_weight_g']           = df_products['product_weight_g'].fillna(df_products['product_weight_g'].median())\n",
        "df_products['product_length_cm']          = df_products['product_length_cm'].fillna(df_products['product_length_cm'].median())\n",
        "df_products['product_height_cm']          = df_products['product_height_cm'].fillna(df_products['product_height_cm'].median())\n",
        "df_products['product_width_cm']           = df_products['product_width_cm'].fillna(df_products['product_width_cm'].median())\n"
      ]
    },
    {
      "cell_type": "code",
      "execution_count": 35,
      "metadata": {
        "colab": {
          "base_uri": "https://localhost:8080/",
          "height": 366
        },
        "id": "75TRePN4N2xq",
        "outputId": "dabcdd99-0282-4579-f7c5-377254214545"
      },
      "outputs": [
        {
          "data": {
            "text/plain": [
              "product_id                      0\n",
              "product_category_name         610\n",
              "product_name_lenght             0\n",
              "product_description_lenght      0\n",
              "product_photos_qty              0\n",
              "product_weight_g                0\n",
              "product_length_cm               0\n",
              "product_height_cm               0\n",
              "product_width_cm                0\n",
              "dtype: int64"
            ]
          },
          "execution_count": 35,
          "metadata": {},
          "output_type": "execute_result"
        }
      ],
      "source": [
        "df_products.isnull().sum()"
      ]
    },
    {
      "cell_type": "markdown",
      "metadata": {
        "id": "gp-Y6wU38DC1"
      },
      "source": [
        "## Exploratory Data Analysis (EDA)"
      ]
    },
    {
      "cell_type": "markdown",
      "metadata": {
        "id": "MW7WF2kr8DC1"
      },
      "source": [
        "\n",
        "### Explore df_customers"
      ]
    },
    {
      "cell_type": "code",
      "execution_count": 36,
      "metadata": {
        "colab": {
          "base_uri": "https://localhost:8080/",
          "height": 423
        },
        "id": "e9CQCZjk8DC2",
        "outputId": "4136f702-d2bf-427c-d495-ac485f3fa52a"
      },
      "outputs": [
        {
          "data": {
            "text/html": [
              "<div>\n",
              "<style scoped>\n",
              "    .dataframe tbody tr th:only-of-type {\n",
              "        vertical-align: middle;\n",
              "    }\n",
              "\n",
              "    .dataframe tbody tr th {\n",
              "        vertical-align: top;\n",
              "    }\n",
              "\n",
              "    .dataframe thead th {\n",
              "        text-align: right;\n",
              "    }\n",
              "</style>\n",
              "<table border=\"1\" class=\"dataframe\">\n",
              "  <thead>\n",
              "    <tr style=\"text-align: right;\">\n",
              "      <th></th>\n",
              "      <th>customer_id</th>\n",
              "      <th>customer_unique_id</th>\n",
              "      <th>customer_zip_code_prefix</th>\n",
              "      <th>customer_city</th>\n",
              "      <th>customer_state</th>\n",
              "    </tr>\n",
              "  </thead>\n",
              "  <tbody>\n",
              "    <tr>\n",
              "      <th>0</th>\n",
              "      <td>06b8999e2fba1a1fbc88172c00ba8bc7</td>\n",
              "      <td>861eff4711a542e4b93843c6dd7febb0</td>\n",
              "      <td>14409</td>\n",
              "      <td>franca</td>\n",
              "      <td>SP</td>\n",
              "    </tr>\n",
              "    <tr>\n",
              "      <th>1</th>\n",
              "      <td>18955e83d337fd6b2def6b18a428ac77</td>\n",
              "      <td>290c77bc529b7ac935b93aa66c333dc3</td>\n",
              "      <td>9790</td>\n",
              "      <td>sao bernardo do campo</td>\n",
              "      <td>SP</td>\n",
              "    </tr>\n",
              "    <tr>\n",
              "      <th>2</th>\n",
              "      <td>4e7b3e00288586ebd08712fdd0374a03</td>\n",
              "      <td>060e732b5b29e8181a18229c7b0b2b5e</td>\n",
              "      <td>1151</td>\n",
              "      <td>sao paulo</td>\n",
              "      <td>SP</td>\n",
              "    </tr>\n",
              "    <tr>\n",
              "      <th>3</th>\n",
              "      <td>b2b6027bc5c5109e529d4dc6358b12c3</td>\n",
              "      <td>259dac757896d24d7702b9acbbff3f3c</td>\n",
              "      <td>8775</td>\n",
              "      <td>mogi das cruzes</td>\n",
              "      <td>SP</td>\n",
              "    </tr>\n",
              "    <tr>\n",
              "      <th>4</th>\n",
              "      <td>4f2d8ab171c80ec8364f7c12e35b23ad</td>\n",
              "      <td>345ecd01c38d18a9036ed96c73b8d066</td>\n",
              "      <td>13056</td>\n",
              "      <td>campinas</td>\n",
              "      <td>SP</td>\n",
              "    </tr>\n",
              "    <tr>\n",
              "      <th>...</th>\n",
              "      <td>...</td>\n",
              "      <td>...</td>\n",
              "      <td>...</td>\n",
              "      <td>...</td>\n",
              "      <td>...</td>\n",
              "    </tr>\n",
              "    <tr>\n",
              "      <th>99436</th>\n",
              "      <td>17ddf5dd5d51696bb3d7c6291687be6f</td>\n",
              "      <td>1a29b476fee25c95fbafc67c5ac95cf8</td>\n",
              "      <td>3937</td>\n",
              "      <td>sao paulo</td>\n",
              "      <td>SP</td>\n",
              "    </tr>\n",
              "    <tr>\n",
              "      <th>99437</th>\n",
              "      <td>e7b71a9017aa05c9a7fd292d714858e8</td>\n",
              "      <td>d52a67c98be1cf6a5c84435bd38d095d</td>\n",
              "      <td>6764</td>\n",
              "      <td>taboao da serra</td>\n",
              "      <td>SP</td>\n",
              "    </tr>\n",
              "    <tr>\n",
              "      <th>99438</th>\n",
              "      <td>5e28dfe12db7fb50a4b2f691faecea5e</td>\n",
              "      <td>e9f50caf99f032f0bf3c55141f019d99</td>\n",
              "      <td>60115</td>\n",
              "      <td>fortaleza</td>\n",
              "      <td>CE</td>\n",
              "    </tr>\n",
              "    <tr>\n",
              "      <th>99439</th>\n",
              "      <td>56b18e2166679b8a959d72dd06da27f9</td>\n",
              "      <td>73c2643a0a458b49f58cea58833b192e</td>\n",
              "      <td>92120</td>\n",
              "      <td>canoas</td>\n",
              "      <td>RS</td>\n",
              "    </tr>\n",
              "    <tr>\n",
              "      <th>99440</th>\n",
              "      <td>274fa6071e5e17fe303b9748641082c8</td>\n",
              "      <td>84732c5050c01db9b23e19ba39899398</td>\n",
              "      <td>6703</td>\n",
              "      <td>cotia</td>\n",
              "      <td>SP</td>\n",
              "    </tr>\n",
              "  </tbody>\n",
              "</table>\n",
              "<p>99441 rows × 5 columns</p>\n",
              "</div>"
            ],
            "text/plain": [
              "                            customer_id                customer_unique_id  \\\n",
              "0      06b8999e2fba1a1fbc88172c00ba8bc7  861eff4711a542e4b93843c6dd7febb0   \n",
              "1      18955e83d337fd6b2def6b18a428ac77  290c77bc529b7ac935b93aa66c333dc3   \n",
              "2      4e7b3e00288586ebd08712fdd0374a03  060e732b5b29e8181a18229c7b0b2b5e   \n",
              "3      b2b6027bc5c5109e529d4dc6358b12c3  259dac757896d24d7702b9acbbff3f3c   \n",
              "4      4f2d8ab171c80ec8364f7c12e35b23ad  345ecd01c38d18a9036ed96c73b8d066   \n",
              "...                                 ...                               ...   \n",
              "99436  17ddf5dd5d51696bb3d7c6291687be6f  1a29b476fee25c95fbafc67c5ac95cf8   \n",
              "99437  e7b71a9017aa05c9a7fd292d714858e8  d52a67c98be1cf6a5c84435bd38d095d   \n",
              "99438  5e28dfe12db7fb50a4b2f691faecea5e  e9f50caf99f032f0bf3c55141f019d99   \n",
              "99439  56b18e2166679b8a959d72dd06da27f9  73c2643a0a458b49f58cea58833b192e   \n",
              "99440  274fa6071e5e17fe303b9748641082c8  84732c5050c01db9b23e19ba39899398   \n",
              "\n",
              "       customer_zip_code_prefix          customer_city customer_state  \n",
              "0                         14409                 franca             SP  \n",
              "1                          9790  sao bernardo do campo             SP  \n",
              "2                          1151              sao paulo             SP  \n",
              "3                          8775        mogi das cruzes             SP  \n",
              "4                         13056               campinas             SP  \n",
              "...                         ...                    ...            ...  \n",
              "99436                      3937              sao paulo             SP  \n",
              "99437                      6764        taboao da serra             SP  \n",
              "99438                     60115              fortaleza             CE  \n",
              "99439                     92120                 canoas             RS  \n",
              "99440                      6703                  cotia             SP  \n",
              "\n",
              "[99441 rows x 5 columns]"
            ]
          },
          "execution_count": 36,
          "metadata": {},
          "output_type": "execute_result"
        }
      ],
      "source": [
        "df_customers"
      ]
    },
    {
      "cell_type": "code",
      "execution_count": 37,
      "metadata": {
        "colab": {
          "base_uri": "https://localhost:8080/",
          "height": 241
        },
        "id": "Wyn_V9QQOGfa",
        "outputId": "c43ab5ea-a9f7-4b88-d7a9-8ce9dcf3c735"
      },
      "outputs": [
        {
          "data": {
            "text/plain": [
              "customer_id                 99441\n",
              "customer_unique_id          96096\n",
              "customer_zip_code_prefix    14994\n",
              "customer_city                4119\n",
              "customer_state                 27\n",
              "dtype: int64"
            ]
          },
          "execution_count": 37,
          "metadata": {},
          "output_type": "execute_result"
        }
      ],
      "source": [
        "df_customers.nunique()"
      ]
    },
    {
      "cell_type": "code",
      "execution_count": 38,
      "metadata": {
        "colab": {
          "base_uri": "https://localhost:8080/",
          "height": 394
        },
        "id": "fjSQ0dA3OKwy",
        "outputId": "ca35fd8e-9a09-43a0-9c85-e299e9de6a48"
      },
      "outputs": [
        {
          "data": {
            "text/html": [
              "<div>\n",
              "<style scoped>\n",
              "    .dataframe tbody tr th:only-of-type {\n",
              "        vertical-align: middle;\n",
              "    }\n",
              "\n",
              "    .dataframe tbody tr th {\n",
              "        vertical-align: top;\n",
              "    }\n",
              "\n",
              "    .dataframe thead th {\n",
              "        text-align: right;\n",
              "    }\n",
              "</style>\n",
              "<table border=\"1\" class=\"dataframe\">\n",
              "  <thead>\n",
              "    <tr style=\"text-align: right;\">\n",
              "      <th></th>\n",
              "      <th>customer_id</th>\n",
              "      <th>customer_unique_id</th>\n",
              "      <th>customer_zip_code_prefix</th>\n",
              "      <th>customer_city</th>\n",
              "      <th>customer_state</th>\n",
              "    </tr>\n",
              "  </thead>\n",
              "  <tbody>\n",
              "    <tr>\n",
              "      <th>count</th>\n",
              "      <td>99441</td>\n",
              "      <td>99441</td>\n",
              "      <td>99441.000000</td>\n",
              "      <td>99441</td>\n",
              "      <td>99441</td>\n",
              "    </tr>\n",
              "    <tr>\n",
              "      <th>unique</th>\n",
              "      <td>99441</td>\n",
              "      <td>96096</td>\n",
              "      <td>NaN</td>\n",
              "      <td>4119</td>\n",
              "      <td>27</td>\n",
              "    </tr>\n",
              "    <tr>\n",
              "      <th>top</th>\n",
              "      <td>274fa6071e5e17fe303b9748641082c8</td>\n",
              "      <td>8d50f5eadf50201ccdcedfb9e2ac8455</td>\n",
              "      <td>NaN</td>\n",
              "      <td>sao paulo</td>\n",
              "      <td>SP</td>\n",
              "    </tr>\n",
              "    <tr>\n",
              "      <th>freq</th>\n",
              "      <td>1</td>\n",
              "      <td>17</td>\n",
              "      <td>NaN</td>\n",
              "      <td>15540</td>\n",
              "      <td>41746</td>\n",
              "    </tr>\n",
              "    <tr>\n",
              "      <th>mean</th>\n",
              "      <td>NaN</td>\n",
              "      <td>NaN</td>\n",
              "      <td>35137.474583</td>\n",
              "      <td>NaN</td>\n",
              "      <td>NaN</td>\n",
              "    </tr>\n",
              "    <tr>\n",
              "      <th>std</th>\n",
              "      <td>NaN</td>\n",
              "      <td>NaN</td>\n",
              "      <td>29797.938996</td>\n",
              "      <td>NaN</td>\n",
              "      <td>NaN</td>\n",
              "    </tr>\n",
              "    <tr>\n",
              "      <th>min</th>\n",
              "      <td>NaN</td>\n",
              "      <td>NaN</td>\n",
              "      <td>1003.000000</td>\n",
              "      <td>NaN</td>\n",
              "      <td>NaN</td>\n",
              "    </tr>\n",
              "    <tr>\n",
              "      <th>25%</th>\n",
              "      <td>NaN</td>\n",
              "      <td>NaN</td>\n",
              "      <td>11347.000000</td>\n",
              "      <td>NaN</td>\n",
              "      <td>NaN</td>\n",
              "    </tr>\n",
              "    <tr>\n",
              "      <th>50%</th>\n",
              "      <td>NaN</td>\n",
              "      <td>NaN</td>\n",
              "      <td>24416.000000</td>\n",
              "      <td>NaN</td>\n",
              "      <td>NaN</td>\n",
              "    </tr>\n",
              "    <tr>\n",
              "      <th>75%</th>\n",
              "      <td>NaN</td>\n",
              "      <td>NaN</td>\n",
              "      <td>58900.000000</td>\n",
              "      <td>NaN</td>\n",
              "      <td>NaN</td>\n",
              "    </tr>\n",
              "    <tr>\n",
              "      <th>max</th>\n",
              "      <td>NaN</td>\n",
              "      <td>NaN</td>\n",
              "      <td>99990.000000</td>\n",
              "      <td>NaN</td>\n",
              "      <td>NaN</td>\n",
              "    </tr>\n",
              "  </tbody>\n",
              "</table>\n",
              "</div>"
            ],
            "text/plain": [
              "                             customer_id                customer_unique_id  \\\n",
              "count                              99441                             99441   \n",
              "unique                             99441                             96096   \n",
              "top     274fa6071e5e17fe303b9748641082c8  8d50f5eadf50201ccdcedfb9e2ac8455   \n",
              "freq                                   1                                17   \n",
              "mean                                 NaN                               NaN   \n",
              "std                                  NaN                               NaN   \n",
              "min                                  NaN                               NaN   \n",
              "25%                                  NaN                               NaN   \n",
              "50%                                  NaN                               NaN   \n",
              "75%                                  NaN                               NaN   \n",
              "max                                  NaN                               NaN   \n",
              "\n",
              "        customer_zip_code_prefix customer_city customer_state  \n",
              "count               99441.000000         99441          99441  \n",
              "unique                       NaN          4119             27  \n",
              "top                          NaN     sao paulo             SP  \n",
              "freq                         NaN         15540          41746  \n",
              "mean                35137.474583           NaN            NaN  \n",
              "std                 29797.938996           NaN            NaN  \n",
              "min                  1003.000000           NaN            NaN  \n",
              "25%                 11347.000000           NaN            NaN  \n",
              "50%                 24416.000000           NaN            NaN  \n",
              "75%                 58900.000000           NaN            NaN  \n",
              "max                 99990.000000           NaN            NaN  "
            ]
          },
          "execution_count": 38,
          "metadata": {},
          "output_type": "execute_result"
        }
      ],
      "source": [
        "df_customers.describe(include='all')"
      ]
    },
    {
      "cell_type": "markdown",
      "metadata": {
        "id": "zsyZjqak8DC2"
      },
      "source": [
        "## Visualization & Explanatory Analysis"
      ]
    },
    {
      "cell_type": "markdown",
      "metadata": {
        "id": "0CDrfmC5d1j6"
      },
      "source": [
        "## Pertanyaan ke 1 : Bagaimana pola pembelian pelanggan berdasarkan lokasi geografis di Brazil dari waktu ke waktu, dan area mana yang memiliki nilai transaksi tertinggi ?\n"
      ]
    },
    {
      "cell_type": "markdown",
      "metadata": {
        "id": "USiQHgKeVvfL"
      },
      "source": [
        "Menggabungkan dataframe pesanan (df_orders) dengan dataframe pelanggan (df_customers) berdasarkan customer_id untuk menghubungkan informasi pesanan dengan data lokasi pelanggan."
      ]
    },
    {
      "cell_type": "code",
      "execution_count": 39,
      "metadata": {
        "id": "5v44ovnbYcl3"
      },
      "outputs": [],
      "source": [
        "# Menggabungkan data pelanggan dan pesanan\n",
        "customer_orders = pd.merge(df_orders, df_customers, on='customer_id')"
      ]
    },
    {
      "cell_type": "markdown",
      "metadata": {
        "id": "aetKMT7NYiEH"
      },
      "source": [
        "- Mengelompokkan item pesanan berdasarkan order_id\n",
        "- Menghitung jumlah harga produk (price) dan biaya pengiriman (freight_value) untuk setiap pesanan\n",
        "- Membuat kolom total_value yang merupakan total nilai transaksi (harga produk + biaya pengiriman)"
      ]
    },
    {
      "cell_type": "code",
      "execution_count": 40,
      "metadata": {
        "id": "jmREogeAYiV9"
      },
      "outputs": [],
      "source": [
        "# Menggabungkan data pesanan dan order_items untuk mendapatkan nilai transaksi\n",
        "order_values = df_order_items.groupby('order_id').agg({'price': 'sum', 'freight_value': 'sum'}).reset_index()\n",
        "order_values['total_value'] = order_values['price'] + order_values['freight_value']"
      ]
    },
    {
      "cell_type": "markdown",
      "metadata": {
        "id": "Zi0hIL_rYqCZ"
      },
      "source": [
        "Menggabungkan informasi customer dan nilai transaksi menjadi satu dataframe komprehensif"
      ]
    },
    {
      "cell_type": "code",
      "execution_count": 41,
      "metadata": {
        "id": "NSVUO2s8YqXd"
      },
      "outputs": [],
      "source": [
        "# Menggabungkan dengan customer_orders\n",
        "geo_orders = pd.merge(customer_orders, order_values, on='order_id')"
      ]
    },
    {
      "cell_type": "markdown",
      "metadata": {
        "id": "SN97JbpHYzes"
      },
      "source": [
        "- Mengelompokkan data berdasarkan customer_state (negara bagian)\n",
        "- Menghitung jumlah pesanan dan total nilai transaksi per negara bagian"
      ]
    },
    {
      "cell_type": "code",
      "execution_count": 42,
      "metadata": {
        "colab": {
          "base_uri": "https://localhost:8080/"
        },
        "id": "hZDvRLczYy9Y",
        "outputId": "d6200da6-7861-4e93-bb48-87ac6f3e0470"
      },
      "outputs": [
        {
          "name": "stdout",
          "output_type": "stream",
          "text": [
            "\n",
            "===== ANALISIS POLA PEMBELIAN BERDASARKAN LOKASI GEOGRAFIS =====\n",
            "\n",
            "Total nilai transaksi per negara bagian (Top 10):\n",
            "   State  Order Count  Total Value\n",
            "25    SP        41375   5921678.12\n",
            "18    RJ        12762   2129681.98\n",
            "10    MG        11544   1856161.49\n",
            "22    RS         5432    885826.76\n",
            "17    PR         4998    800935.44\n",
            "4     BA         3358    611506.67\n",
            "23    SC         3612    610213.60\n",
            "6     DF         2125    353229.44\n",
            "8     GO         2007    347706.93\n",
            "7     ES         2025    324801.91\n"
          ]
        }
      ],
      "source": [
        "# Analisis transaksi per negara bagian\n",
        "state_orders = geo_orders.groupby('customer_state').agg({\n",
        "    'order_id': 'count',\n",
        "    'total_value': 'sum'\n",
        "}).reset_index()\n",
        "state_orders.columns = ['State', 'Order Count', 'Total Value']\n",
        "state_orders = state_orders.sort_values('Total Value', ascending=False)\n",
        "print(\"\\n===== ANALISIS POLA PEMBELIAN BERDASARKAN LOKASI GEOGRAFIS =====\")\n",
        "print(\"\\nTotal nilai transaksi per negara bagian (Top 10):\")\n",
        "print(state_orders.head(10))"
      ]
    },
    {
      "cell_type": "markdown",
      "metadata": {
        "id": "72vKSHBgZDa7"
      },
      "source": [
        "- Membuat kolom order_month untuk analisis berdasarkan bulan\n",
        "- Mengelompokkan data berdasarkan bulan dan negara bagian untuk melihat tren temporal"
      ]
    },
    {
      "cell_type": "code",
      "execution_count": 43,
      "metadata": {
        "colab": {
          "base_uri": "https://localhost:8080/"
        },
        "id": "cGwpodIyZCjY",
        "outputId": "1a3282c6-a66a-4d54-de30-3c33b3165fe4"
      },
      "outputs": [
        {
          "name": "stdout",
          "output_type": "stream",
          "text": [
            "\n",
            "===== ANALISIS POLA PEMBELIAN BERDASARKAN LOKASI GEOGRAFIS =====\n",
            "\n",
            "Trend pembelian bulanan untuk 5 negara bagian dengan nilai transaksi tertinggi: ['SP', 'RJ', 'MG', 'RS', 'PR']\n",
            "\n",
            "State: SP\n",
            "    order_month customer_state  order_id  total_value\n",
            "2       2016-09             SP         1       143.46\n",
            "23      2016-10             SP       109     16486.34\n",
            "47      2017-01             SP       295     46942.77\n",
            "74      2017-02             SP       633     89887.72\n",
            "101     2017-03             SP       998    154613.07\n",
            "\n",
            "State: RJ\n",
            "    order_month customer_state  order_id  total_value\n",
            "17      2016-10             RJ        49     12347.60\n",
            "41      2017-01             RJ        96     14747.45\n",
            "67      2017-02             RJ       246     38120.86\n",
            "94      2017-03             RJ       391     64082.61\n",
            "120     2017-04             RJ       334     65036.56\n",
            "\n",
            "State: MG\n",
            "    order_month customer_state  order_id  total_value\n",
            "10      2016-10             MG        40      5620.55\n",
            "33      2017-01             MG       106     18615.96\n",
            "59      2017-02             MG       251     35270.20\n",
            "86      2017-03             MG       352     50100.89\n",
            "112     2017-04             MG       275     47115.25\n",
            "\n",
            "State: RS\n",
            "   order_month customer_state  order_id  total_value\n",
            "1      2016-09             RS         1        75.06\n",
            "20     2016-10             RS        23      4637.91\n",
            "44     2017-01             RS        53     13615.90\n",
            "71     2017-02             RS       104     18324.02\n",
            "98     2017-03             RS       148     23629.97\n",
            "\n",
            "State: PR\n",
            "   order_month customer_state  order_id  total_value\n",
            "16     2016-10             PR        19      2475.10\n",
            "24     2016-12             PR         1        19.62\n",
            "40     2017-01             PR        65      6483.24\n",
            "66     2017-02             PR       112     21332.58\n",
            "93     2017-03             PR       125     18426.58\n"
          ]
        }
      ],
      "source": [
        "# Analisis pola pembelian dari waktu ke waktu\n",
        "geo_orders['order_month'] = geo_orders['order_purchase_timestamp'].dt.to_period('M')\n",
        "monthly_state_orders = geo_orders.groupby(['order_month', 'customer_state']).agg({\n",
        "    'order_id': 'count',\n",
        "    'total_value': 'sum'\n",
        "}).reset_index()\n",
        "\n",
        "# Mengambil 5 negara bagian dengan nilai transaksi tertinggi\n",
        "top_states = state_orders.head(5)['State'].tolist()\n",
        "print(\"\\n===== ANALISIS POLA PEMBELIAN BERDASARKAN LOKASI GEOGRAFIS =====\")\n",
        "print(f\"\\nTrend pembelian bulanan untuk 5 negara bagian dengan nilai transaksi tertinggi: {top_states}\")\n",
        "for state in top_states:\n",
        "    state_monthly = monthly_state_orders[monthly_state_orders['customer_state'] == state]\n",
        "    state_monthly = state_monthly.sort_values('order_month')\n",
        "    print(f\"\\nState: {state}\")\n",
        "    print(state_monthly.head())"
      ]
    },
    {
      "cell_type": "markdown",
      "metadata": {
        "id": "UyJ2D7pYaRf5"
      },
      "source": [
        "- Mengelompokkan data berdasarkan negara bagian dan kota\n",
        "- Menghitung jumlah pesanan dan total nilai transaksi per kota"
      ]
    },
    {
      "cell_type": "code",
      "execution_count": 44,
      "metadata": {
        "colab": {
          "base_uri": "https://localhost:8080/"
        },
        "id": "r4N7dMFeYSiM",
        "outputId": "8996ec81-a8e3-47fc-ff31-2bc5e2cabc29"
      },
      "outputs": [
        {
          "name": "stdout",
          "output_type": "stream",
          "text": [
            "\n",
            "===== ANALISIS POLA PEMBELIAN BERDASARKAN LOKASI GEOGRAFIS =====\n",
            "\n",
            "Kota dengan nilai transaksi tertinggi (Top 10):\n",
            "     customer_state   customer_city  order_id  total_value\n",
            "4166             SP       sao paulo     15402   2170227.12\n",
            "2782             RJ  rio de janeiro      6834   1154234.02\n",
            "1059             MG  belo horizonte      2750    416733.39\n",
            "600              DF        brasilia      2116    352305.14\n",
            "2402             PR        curitiba      1510    244739.87\n",
            "3201             RS    porto alegre      1372    224064.09\n",
            "371              BA        salvador      1238    216772.40\n",
            "3720             SP        campinas      1429    212541.70\n",
            "3827             SP       guarulhos      1178    163575.82\n",
            "2753             RJ         niteroi       845    137919.38\n"
          ]
        }
      ],
      "source": [
        "# Analisis kota dengan nilai transaksi tertinggi\n",
        "city_orders = geo_orders.groupby(['customer_state', 'customer_city']).agg({\n",
        "    'order_id': 'count',\n",
        "    'total_value': 'sum'\n",
        "}).reset_index()\n",
        "city_orders = city_orders.sort_values('total_value', ascending=False)\n",
        "print(\"\\n===== ANALISIS POLA PEMBELIAN BERDASARKAN LOKASI GEOGRAFIS =====\")\n",
        "print(\"\\nKota dengan nilai transaksi tertinggi (Top 10):\")\n",
        "print(city_orders.head(10))"
      ]
    },
    {
      "cell_type": "markdown",
      "metadata": {
        "id": "USRlPJynaXm1"
      },
      "source": [
        "Dari analisis diatas, didapatkan insight tentang dominasi SP (São Paulo), distribusi nilai transaksi per negara bagian dan kota, serta pola temporal pembelian."
      ]
    },
    {
      "cell_type": "code",
      "execution_count": 45,
      "metadata": {
        "colab": {
          "base_uri": "https://localhost:8080/",
          "height": 542
        },
        "id": "PK4Ok6R91wOd",
        "outputId": "9abb0416-dc8e-4cff-8654-79d665d9f899"
      },
      "outputs": [
        {
          "data": {
            "application/vnd.plotly.v1+json": {
              "config": {
                "plotlyServerURL": "https://plot.ly"
              },
              "data": [
                {
                  "coloraxis": "coloraxis",
                  "featureidkey": "properties.sigla",
                  "geo": "geo",
                  "geojson": "https://raw.githubusercontent.com/codeforamerica/click_that_hood/master/public/data/brazil-states.geojson",
                  "hovertemplate": "customer_state=%{location}<br>total_value=%{z}<extra></extra>",
                  "locations": [
                    "AC",
                    "AL",
                    "AM",
                    "AP",
                    "BA",
                    "CE",
                    "DF",
                    "ES",
                    "GO",
                    "MA",
                    "MG",
                    "MS",
                    "MT",
                    "PA",
                    "PB",
                    "PE",
                    "PI",
                    "PR",
                    "RJ",
                    "RN",
                    "RO",
                    "RR",
                    "RS",
                    "SC",
                    "SE",
                    "SP",
                    "TO"
                  ],
                  "name": "",
                  "type": "choropleth",
                  "z": {
                    "bdata": "zczMzGw100BmZmZmVn73QIXrUbjuLttAZmZmZmbDz0BxPQpXZakiQTMzMzNZ0hBBKVyPwjWPFUE9CtejB9MTQYXrUbjrOBVBuB6F6x90AkHXo3B9oVI8QcP1KFylmABB4XoUrse5BkEUrkfheJEKQa5H4XreNQFBKVyPwvaqE0GuR+F6RGb6QBSuR+FOcShB16Nw/Yg/QEF7FK5HceD4QD4K16PAGuxAw/UoXE+ow0BSuB6FhQgrQTMzMzNLnyJB7FG4HoXU8UB7FK6H45ZWQQrXo3BN9e1A",
                    "dtype": "f8"
                  }
                }
              ],
              "layout": {
                "coloraxis": {
                  "colorbar": {
                    "title": {
                      "text": "total_value"
                    }
                  },
                  "colorscale": [
                    [
                      0,
                      "#440154"
                    ],
                    [
                      0.1111111111111111,
                      "#482878"
                    ],
                    [
                      0.2222222222222222,
                      "#3e4989"
                    ],
                    [
                      0.3333333333333333,
                      "#31688e"
                    ],
                    [
                      0.4444444444444444,
                      "#26828e"
                    ],
                    [
                      0.5555555555555556,
                      "#1f9e89"
                    ],
                    [
                      0.6666666666666666,
                      "#35b779"
                    ],
                    [
                      0.7777777777777778,
                      "#6ece58"
                    ],
                    [
                      0.8888888888888888,
                      "#b5de2b"
                    ],
                    [
                      1,
                      "#fde725"
                    ]
                  ]
                },
                "geo": {
                  "center": {},
                  "domain": {
                    "x": [
                      0,
                      1
                    ],
                    "y": [
                      0,
                      1
                    ]
                  },
                  "fitbounds": "locations",
                  "visible": false
                },
                "legend": {
                  "tracegroupgap": 0
                },
                "template": {
                  "data": {
                    "bar": [
                      {
                        "error_x": {
                          "color": "#2a3f5f"
                        },
                        "error_y": {
                          "color": "#2a3f5f"
                        },
                        "marker": {
                          "line": {
                            "color": "#E5ECF6",
                            "width": 0.5
                          },
                          "pattern": {
                            "fillmode": "overlay",
                            "size": 10,
                            "solidity": 0.2
                          }
                        },
                        "type": "bar"
                      }
                    ],
                    "barpolar": [
                      {
                        "marker": {
                          "line": {
                            "color": "#E5ECF6",
                            "width": 0.5
                          },
                          "pattern": {
                            "fillmode": "overlay",
                            "size": 10,
                            "solidity": 0.2
                          }
                        },
                        "type": "barpolar"
                      }
                    ],
                    "carpet": [
                      {
                        "aaxis": {
                          "endlinecolor": "#2a3f5f",
                          "gridcolor": "white",
                          "linecolor": "white",
                          "minorgridcolor": "white",
                          "startlinecolor": "#2a3f5f"
                        },
                        "baxis": {
                          "endlinecolor": "#2a3f5f",
                          "gridcolor": "white",
                          "linecolor": "white",
                          "minorgridcolor": "white",
                          "startlinecolor": "#2a3f5f"
                        },
                        "type": "carpet"
                      }
                    ],
                    "choropleth": [
                      {
                        "colorbar": {
                          "outlinewidth": 0,
                          "ticks": ""
                        },
                        "type": "choropleth"
                      }
                    ],
                    "contour": [
                      {
                        "colorbar": {
                          "outlinewidth": 0,
                          "ticks": ""
                        },
                        "colorscale": [
                          [
                            0,
                            "#0d0887"
                          ],
                          [
                            0.1111111111111111,
                            "#46039f"
                          ],
                          [
                            0.2222222222222222,
                            "#7201a8"
                          ],
                          [
                            0.3333333333333333,
                            "#9c179e"
                          ],
                          [
                            0.4444444444444444,
                            "#bd3786"
                          ],
                          [
                            0.5555555555555556,
                            "#d8576b"
                          ],
                          [
                            0.6666666666666666,
                            "#ed7953"
                          ],
                          [
                            0.7777777777777778,
                            "#fb9f3a"
                          ],
                          [
                            0.8888888888888888,
                            "#fdca26"
                          ],
                          [
                            1,
                            "#f0f921"
                          ]
                        ],
                        "type": "contour"
                      }
                    ],
                    "contourcarpet": [
                      {
                        "colorbar": {
                          "outlinewidth": 0,
                          "ticks": ""
                        },
                        "type": "contourcarpet"
                      }
                    ],
                    "heatmap": [
                      {
                        "colorbar": {
                          "outlinewidth": 0,
                          "ticks": ""
                        },
                        "colorscale": [
                          [
                            0,
                            "#0d0887"
                          ],
                          [
                            0.1111111111111111,
                            "#46039f"
                          ],
                          [
                            0.2222222222222222,
                            "#7201a8"
                          ],
                          [
                            0.3333333333333333,
                            "#9c179e"
                          ],
                          [
                            0.4444444444444444,
                            "#bd3786"
                          ],
                          [
                            0.5555555555555556,
                            "#d8576b"
                          ],
                          [
                            0.6666666666666666,
                            "#ed7953"
                          ],
                          [
                            0.7777777777777778,
                            "#fb9f3a"
                          ],
                          [
                            0.8888888888888888,
                            "#fdca26"
                          ],
                          [
                            1,
                            "#f0f921"
                          ]
                        ],
                        "type": "heatmap"
                      }
                    ],
                    "histogram": [
                      {
                        "marker": {
                          "pattern": {
                            "fillmode": "overlay",
                            "size": 10,
                            "solidity": 0.2
                          }
                        },
                        "type": "histogram"
                      }
                    ],
                    "histogram2d": [
                      {
                        "colorbar": {
                          "outlinewidth": 0,
                          "ticks": ""
                        },
                        "colorscale": [
                          [
                            0,
                            "#0d0887"
                          ],
                          [
                            0.1111111111111111,
                            "#46039f"
                          ],
                          [
                            0.2222222222222222,
                            "#7201a8"
                          ],
                          [
                            0.3333333333333333,
                            "#9c179e"
                          ],
                          [
                            0.4444444444444444,
                            "#bd3786"
                          ],
                          [
                            0.5555555555555556,
                            "#d8576b"
                          ],
                          [
                            0.6666666666666666,
                            "#ed7953"
                          ],
                          [
                            0.7777777777777778,
                            "#fb9f3a"
                          ],
                          [
                            0.8888888888888888,
                            "#fdca26"
                          ],
                          [
                            1,
                            "#f0f921"
                          ]
                        ],
                        "type": "histogram2d"
                      }
                    ],
                    "histogram2dcontour": [
                      {
                        "colorbar": {
                          "outlinewidth": 0,
                          "ticks": ""
                        },
                        "colorscale": [
                          [
                            0,
                            "#0d0887"
                          ],
                          [
                            0.1111111111111111,
                            "#46039f"
                          ],
                          [
                            0.2222222222222222,
                            "#7201a8"
                          ],
                          [
                            0.3333333333333333,
                            "#9c179e"
                          ],
                          [
                            0.4444444444444444,
                            "#bd3786"
                          ],
                          [
                            0.5555555555555556,
                            "#d8576b"
                          ],
                          [
                            0.6666666666666666,
                            "#ed7953"
                          ],
                          [
                            0.7777777777777778,
                            "#fb9f3a"
                          ],
                          [
                            0.8888888888888888,
                            "#fdca26"
                          ],
                          [
                            1,
                            "#f0f921"
                          ]
                        ],
                        "type": "histogram2dcontour"
                      }
                    ],
                    "mesh3d": [
                      {
                        "colorbar": {
                          "outlinewidth": 0,
                          "ticks": ""
                        },
                        "type": "mesh3d"
                      }
                    ],
                    "parcoords": [
                      {
                        "line": {
                          "colorbar": {
                            "outlinewidth": 0,
                            "ticks": ""
                          }
                        },
                        "type": "parcoords"
                      }
                    ],
                    "pie": [
                      {
                        "automargin": true,
                        "type": "pie"
                      }
                    ],
                    "scatter": [
                      {
                        "fillpattern": {
                          "fillmode": "overlay",
                          "size": 10,
                          "solidity": 0.2
                        },
                        "type": "scatter"
                      }
                    ],
                    "scatter3d": [
                      {
                        "line": {
                          "colorbar": {
                            "outlinewidth": 0,
                            "ticks": ""
                          }
                        },
                        "marker": {
                          "colorbar": {
                            "outlinewidth": 0,
                            "ticks": ""
                          }
                        },
                        "type": "scatter3d"
                      }
                    ],
                    "scattercarpet": [
                      {
                        "marker": {
                          "colorbar": {
                            "outlinewidth": 0,
                            "ticks": ""
                          }
                        },
                        "type": "scattercarpet"
                      }
                    ],
                    "scattergeo": [
                      {
                        "marker": {
                          "colorbar": {
                            "outlinewidth": 0,
                            "ticks": ""
                          }
                        },
                        "type": "scattergeo"
                      }
                    ],
                    "scattergl": [
                      {
                        "marker": {
                          "colorbar": {
                            "outlinewidth": 0,
                            "ticks": ""
                          }
                        },
                        "type": "scattergl"
                      }
                    ],
                    "scattermap": [
                      {
                        "marker": {
                          "colorbar": {
                            "outlinewidth": 0,
                            "ticks": ""
                          }
                        },
                        "type": "scattermap"
                      }
                    ],
                    "scattermapbox": [
                      {
                        "marker": {
                          "colorbar": {
                            "outlinewidth": 0,
                            "ticks": ""
                          }
                        },
                        "type": "scattermapbox"
                      }
                    ],
                    "scatterpolar": [
                      {
                        "marker": {
                          "colorbar": {
                            "outlinewidth": 0,
                            "ticks": ""
                          }
                        },
                        "type": "scatterpolar"
                      }
                    ],
                    "scatterpolargl": [
                      {
                        "marker": {
                          "colorbar": {
                            "outlinewidth": 0,
                            "ticks": ""
                          }
                        },
                        "type": "scatterpolargl"
                      }
                    ],
                    "scatterternary": [
                      {
                        "marker": {
                          "colorbar": {
                            "outlinewidth": 0,
                            "ticks": ""
                          }
                        },
                        "type": "scatterternary"
                      }
                    ],
                    "surface": [
                      {
                        "colorbar": {
                          "outlinewidth": 0,
                          "ticks": ""
                        },
                        "colorscale": [
                          [
                            0,
                            "#0d0887"
                          ],
                          [
                            0.1111111111111111,
                            "#46039f"
                          ],
                          [
                            0.2222222222222222,
                            "#7201a8"
                          ],
                          [
                            0.3333333333333333,
                            "#9c179e"
                          ],
                          [
                            0.4444444444444444,
                            "#bd3786"
                          ],
                          [
                            0.5555555555555556,
                            "#d8576b"
                          ],
                          [
                            0.6666666666666666,
                            "#ed7953"
                          ],
                          [
                            0.7777777777777778,
                            "#fb9f3a"
                          ],
                          [
                            0.8888888888888888,
                            "#fdca26"
                          ],
                          [
                            1,
                            "#f0f921"
                          ]
                        ],
                        "type": "surface"
                      }
                    ],
                    "table": [
                      {
                        "cells": {
                          "fill": {
                            "color": "#EBF0F8"
                          },
                          "line": {
                            "color": "white"
                          }
                        },
                        "header": {
                          "fill": {
                            "color": "#C8D4E3"
                          },
                          "line": {
                            "color": "white"
                          }
                        },
                        "type": "table"
                      }
                    ]
                  },
                  "layout": {
                    "annotationdefaults": {
                      "arrowcolor": "#2a3f5f",
                      "arrowhead": 0,
                      "arrowwidth": 1
                    },
                    "autotypenumbers": "strict",
                    "coloraxis": {
                      "colorbar": {
                        "outlinewidth": 0,
                        "ticks": ""
                      }
                    },
                    "colorscale": {
                      "diverging": [
                        [
                          0,
                          "#8e0152"
                        ],
                        [
                          0.1,
                          "#c51b7d"
                        ],
                        [
                          0.2,
                          "#de77ae"
                        ],
                        [
                          0.3,
                          "#f1b6da"
                        ],
                        [
                          0.4,
                          "#fde0ef"
                        ],
                        [
                          0.5,
                          "#f7f7f7"
                        ],
                        [
                          0.6,
                          "#e6f5d0"
                        ],
                        [
                          0.7,
                          "#b8e186"
                        ],
                        [
                          0.8,
                          "#7fbc41"
                        ],
                        [
                          0.9,
                          "#4d9221"
                        ],
                        [
                          1,
                          "#276419"
                        ]
                      ],
                      "sequential": [
                        [
                          0,
                          "#0d0887"
                        ],
                        [
                          0.1111111111111111,
                          "#46039f"
                        ],
                        [
                          0.2222222222222222,
                          "#7201a8"
                        ],
                        [
                          0.3333333333333333,
                          "#9c179e"
                        ],
                        [
                          0.4444444444444444,
                          "#bd3786"
                        ],
                        [
                          0.5555555555555556,
                          "#d8576b"
                        ],
                        [
                          0.6666666666666666,
                          "#ed7953"
                        ],
                        [
                          0.7777777777777778,
                          "#fb9f3a"
                        ],
                        [
                          0.8888888888888888,
                          "#fdca26"
                        ],
                        [
                          1,
                          "#f0f921"
                        ]
                      ],
                      "sequentialminus": [
                        [
                          0,
                          "#0d0887"
                        ],
                        [
                          0.1111111111111111,
                          "#46039f"
                        ],
                        [
                          0.2222222222222222,
                          "#7201a8"
                        ],
                        [
                          0.3333333333333333,
                          "#9c179e"
                        ],
                        [
                          0.4444444444444444,
                          "#bd3786"
                        ],
                        [
                          0.5555555555555556,
                          "#d8576b"
                        ],
                        [
                          0.6666666666666666,
                          "#ed7953"
                        ],
                        [
                          0.7777777777777778,
                          "#fb9f3a"
                        ],
                        [
                          0.8888888888888888,
                          "#fdca26"
                        ],
                        [
                          1,
                          "#f0f921"
                        ]
                      ]
                    },
                    "colorway": [
                      "#636efa",
                      "#EF553B",
                      "#00cc96",
                      "#ab63fa",
                      "#FFA15A",
                      "#19d3f3",
                      "#FF6692",
                      "#B6E880",
                      "#FF97FF",
                      "#FECB52"
                    ],
                    "font": {
                      "color": "#2a3f5f"
                    },
                    "geo": {
                      "bgcolor": "white",
                      "lakecolor": "white",
                      "landcolor": "#E5ECF6",
                      "showlakes": true,
                      "showland": true,
                      "subunitcolor": "white"
                    },
                    "hoverlabel": {
                      "align": "left"
                    },
                    "hovermode": "closest",
                    "mapbox": {
                      "style": "light"
                    },
                    "paper_bgcolor": "white",
                    "plot_bgcolor": "#E5ECF6",
                    "polar": {
                      "angularaxis": {
                        "gridcolor": "white",
                        "linecolor": "white",
                        "ticks": ""
                      },
                      "bgcolor": "#E5ECF6",
                      "radialaxis": {
                        "gridcolor": "white",
                        "linecolor": "white",
                        "ticks": ""
                      }
                    },
                    "scene": {
                      "xaxis": {
                        "backgroundcolor": "#E5ECF6",
                        "gridcolor": "white",
                        "gridwidth": 2,
                        "linecolor": "white",
                        "showbackground": true,
                        "ticks": "",
                        "zerolinecolor": "white"
                      },
                      "yaxis": {
                        "backgroundcolor": "#E5ECF6",
                        "gridcolor": "white",
                        "gridwidth": 2,
                        "linecolor": "white",
                        "showbackground": true,
                        "ticks": "",
                        "zerolinecolor": "white"
                      },
                      "zaxis": {
                        "backgroundcolor": "#E5ECF6",
                        "gridcolor": "white",
                        "gridwidth": 2,
                        "linecolor": "white",
                        "showbackground": true,
                        "ticks": "",
                        "zerolinecolor": "white"
                      }
                    },
                    "shapedefaults": {
                      "line": {
                        "color": "#2a3f5f"
                      }
                    },
                    "ternary": {
                      "aaxis": {
                        "gridcolor": "white",
                        "linecolor": "white",
                        "ticks": ""
                      },
                      "baxis": {
                        "gridcolor": "white",
                        "linecolor": "white",
                        "ticks": ""
                      },
                      "bgcolor": "#E5ECF6",
                      "caxis": {
                        "gridcolor": "white",
                        "linecolor": "white",
                        "ticks": ""
                      }
                    },
                    "title": {
                      "x": 0.05
                    },
                    "xaxis": {
                      "automargin": true,
                      "gridcolor": "white",
                      "linecolor": "white",
                      "ticks": "",
                      "title": {
                        "standoff": 15
                      },
                      "zerolinecolor": "white",
                      "zerolinewidth": 2
                    },
                    "yaxis": {
                      "automargin": true,
                      "gridcolor": "white",
                      "linecolor": "white",
                      "ticks": "",
                      "title": {
                        "standoff": 15
                      },
                      "zerolinecolor": "white",
                      "zerolinewidth": 2
                    }
                  }
                },
                "title": {
                  "text": "Total Nilai Transaksi per Negara Bagian di Brazil"
                }
              }
            }
          },
          "metadata": {},
          "output_type": "display_data"
        }
      ],
      "source": [
        "import pandas as pd\n",
        "import matplotlib.pyplot as plt\n",
        "import seaborn as sns\n",
        "import plotly.express as px\n",
        "\n",
        "# Gabungkan dataframe yang dibutuhkan\n",
        "customer_orders = pd.merge(df_orders, df_customers, on='customer_id')\n",
        "order_values = df_order_items.groupby('order_id').agg({'price': 'sum', 'freight_value': 'sum'}).reset_index()\n",
        "order_values['total_value'] = order_values['price'] + order_values['freight_value']\n",
        "geo_orders = pd.merge(customer_orders, order_values, on='order_id')\n",
        "\n",
        "# Visualisasi 1: Choropleth Map untuk Total Nilai Transaksi per Negara Bagian\n",
        "state_orders = geo_orders.groupby('customer_state').agg({'total_value': 'sum'}).reset_index()\n",
        "fig = px.choropleth(\n",
        "    state_orders,\n",
        "    geojson=\"https://raw.githubusercontent.com/codeforamerica/click_that_hood/master/public/data/brazil-states.geojson\",\n",
        "    locations='customer_state',\n",
        "    featureidkey=\"properties.sigla\",\n",
        "    color='total_value',\n",
        "    color_continuous_scale=\"Viridis\",\n",
        "    title=\"Total Nilai Transaksi per Negara Bagian di Brazil\"\n",
        ")\n",
        "fig.update_geos(fitbounds=\"locations\", visible=False)\n",
        "fig.show()"
      ]
    },
    {
      "cell_type": "code",
      "execution_count": 46,
      "metadata": {
        "colab": {
          "base_uri": "https://localhost:8080/",
          "height": 542
        },
        "id": "DqTlOvdV1xp8",
        "outputId": "27d29303-61fb-48dd-8865-f84cfc9b0332"
      },
      "outputs": [
        {
          "data": {
            "application/vnd.plotly.v1+json": {
              "config": {
                "plotlyServerURL": "https://plot.ly"
              },
              "data": [
                {
                  "hovertemplate": "customer_state=RS<br>order_month=%{x}<br>total_value=%{y}<extra></extra>",
                  "legendgroup": "RS",
                  "line": {
                    "color": "#636efa",
                    "dash": "solid"
                  },
                  "marker": {
                    "symbol": "circle"
                  },
                  "mode": "lines",
                  "name": "RS",
                  "orientation": "v",
                  "showlegend": true,
                  "type": "scatter",
                  "x": [
                    "2016-09",
                    "2016-10",
                    "2017-01",
                    "2017-02",
                    "2017-03",
                    "2017-04",
                    "2017-05",
                    "2017-06",
                    "2017-07",
                    "2017-08",
                    "2017-09",
                    "2017-10",
                    "2017-11",
                    "2017-12",
                    "2018-01",
                    "2018-02",
                    "2018-03",
                    "2018-04",
                    "2018-05",
                    "2018-06",
                    "2018-07",
                    "2018-08"
                  ],
                  "xaxis": "x",
                  "y": {
                    "bdata": "pHA9CtfDUkBcj8L16B2yQDMzMzPzl8pAexSuRwHl0UBI4XoUfhPXQKRwPQoH2NVAuB6F6zEf4EDsUbgepTPcQBWuR+GCMOFA7FG4HkXv40AzMzMzQzblQAAAAACAaeVAcT0K13fH8EDXo3A9wu3nQLgehevZ9utAhetRuLbx6kAVrkfhQp7wQK5H4Xoc/u1AKVyPwl1W7UApXI/CFevpQFyPwvWg3ulAH4XrUXB06UA=",
                    "dtype": "f8"
                  },
                  "yaxis": "y"
                },
                {
                  "hovertemplate": "customer_state=SP<br>order_month=%{x}<br>total_value=%{y}<extra></extra>",
                  "legendgroup": "SP",
                  "line": {
                    "color": "#EF553B",
                    "dash": "solid"
                  },
                  "marker": {
                    "symbol": "circle"
                  },
                  "mode": "lines",
                  "name": "SP",
                  "orientation": "v",
                  "showlegend": true,
                  "type": "scatter",
                  "x": [
                    "2016-09",
                    "2016-10",
                    "2017-01",
                    "2017-02",
                    "2017-03",
                    "2017-04",
                    "2017-05",
                    "2017-06",
                    "2017-07",
                    "2017-08",
                    "2017-09",
                    "2017-10",
                    "2017-11",
                    "2017-12",
                    "2018-01",
                    "2018-02",
                    "2018-03",
                    "2018-04",
                    "2018-05",
                    "2018-06",
                    "2018-07",
                    "2018-08",
                    "2018-09"
                  ],
                  "xaxis": "x",
                  "y": {
                    "bdata": "H4XrUbjuYUApXI/ClRnQQD4K16PY6+ZAUrgehfvx9UD2KFyPqN8CQUjhehRWJgJBZmZmZqyMCEEpXI/C+/kHQVyPwvWC2glB16NwPbbAC0GPwvUoChgOQT0K16Molw9B9ihcj+sfGUHNzMzMyIMTQVK4HoVFABpBAAAAAMe+FUHhehSuQMgaQUjhehR5lhtBw/UoXMX9HUHD9ShcrikYQa5H4Xo+CxdB16NwPReuG0EfhetRuM5kQA==",
                    "dtype": "f8"
                  },
                  "yaxis": "y"
                },
                {
                  "hovertemplate": "customer_state=MG<br>order_month=%{x}<br>total_value=%{y}<extra></extra>",
                  "legendgroup": "MG",
                  "line": {
                    "color": "#00cc96",
                    "dash": "solid"
                  },
                  "marker": {
                    "symbol": "circle"
                  },
                  "mode": "lines",
                  "name": "MG",
                  "orientation": "v",
                  "showlegend": true,
                  "type": "scatter",
                  "x": [
                    "2016-10",
                    "2017-01",
                    "2017-02",
                    "2017-03",
                    "2017-04",
                    "2017-05",
                    "2017-06",
                    "2017-07",
                    "2017-08",
                    "2017-09",
                    "2017-10",
                    "2017-11",
                    "2017-12",
                    "2018-01",
                    "2018-02",
                    "2018-03",
                    "2018-04",
                    "2018-05",
                    "2018-06",
                    "2018-07",
                    "2018-08"
                  ],
                  "xaxis": "x",
                  "y": {
                    "bdata": "zczMzIz0tUAK16Nw/S3SQGZmZmbGOOFArkfhepx26EAAAAAAaAHnQDMzMzNz0+xAzczMzBzH6kDD9ShcF5nvQFyPwvWIMfFAj8L1KNiZ9EBxPQrXnxX3QB+F61EQCANBMzMzM19L+kAVrkfhQGkAQUjhehTakf5AH4XrUWZOAUHD9Shcp+H/QLgehevJq/1AXI/C9dS0/kApXI/ClfP7QHsUrkeR2ftA",
                    "dtype": "f8"
                  },
                  "yaxis": "y"
                },
                {
                  "hovertemplate": "customer_state=PR<br>order_month=%{x}<br>total_value=%{y}<extra></extra>",
                  "legendgroup": "PR",
                  "line": {
                    "color": "#ab63fa",
                    "dash": "solid"
                  },
                  "marker": {
                    "symbol": "circle"
                  },
                  "mode": "lines",
                  "name": "PR",
                  "orientation": "v",
                  "showlegend": true,
                  "type": "scatter",
                  "x": [
                    "2016-10",
                    "2016-12",
                    "2017-01",
                    "2017-02",
                    "2017-03",
                    "2017-04",
                    "2017-05",
                    "2017-06",
                    "2017-07",
                    "2017-08",
                    "2017-09",
                    "2017-10",
                    "2017-11",
                    "2017-12",
                    "2018-01",
                    "2018-02",
                    "2018-03",
                    "2018-04",
                    "2018-05",
                    "2018-06",
                    "2018-07",
                    "2018-08"
                  ],
                  "xaxis": "x",
                  "y": {
                    "bdata": "MzMzMzNWo0AfhetRuJ4zQArXo3A9U7lA61G4HiXV1EDsUbgepf7RQB+F61EIBtJAMzMzMwO74UDsUbgelVXZQKRwPQo3cNxArkfherRW4ECF61G4ruXZQML1KFxHruJAXI/C9SAW60CPwvUoPErhQHE9CteDtelAzczMzFS16UAzMzMz41vtQGZmZmbu0/JAcT0K13Oa6kD2KFyP8pLoQFyPwvUIi+tArkfheqQo6EA=",
                    "dtype": "f8"
                  },
                  "yaxis": "y"
                },
                {
                  "hovertemplate": "customer_state=RJ<br>order_month=%{x}<br>total_value=%{y}<extra></extra>",
                  "legendgroup": "RJ",
                  "line": {
                    "color": "#FFA15A",
                    "dash": "solid"
                  },
                  "marker": {
                    "symbol": "circle"
                  },
                  "mode": "lines",
                  "name": "RJ",
                  "orientation": "v",
                  "showlegend": true,
                  "type": "scatter",
                  "x": [
                    "2016-10",
                    "2017-01",
                    "2017-02",
                    "2017-03",
                    "2017-04",
                    "2017-05",
                    "2017-06",
                    "2017-07",
                    "2017-08",
                    "2017-09",
                    "2017-10",
                    "2017-11",
                    "2017-12",
                    "2018-01",
                    "2018-02",
                    "2018-03",
                    "2018-04",
                    "2018-05",
                    "2018-06",
                    "2018-07",
                    "2018-08"
                  ],
                  "xaxis": "x",
                  "y": {
                    "bdata": "zczMzMwdyECamZmZuc3MQFK4HoUbneJAUrgehVNK70C4HoXrkcHvQDMzMzNH3fRAAAAAAEjc7kDsUbgeAVX2QI/C9Sj0NPZApHA9CuOf+kDD9Shc/337QLgehes5bQVBhetRuFK0AEFxPQrXiXsBQbgeheu78ABB16NwPaI2AUEpXI/CvagBQa5H4XrA5gFBPQrXo1zZ/UAK16NwDVP9QOF6FK6bt/tA",
                    "dtype": "f8"
                  },
                  "yaxis": "y"
                }
              ],
              "layout": {
                "legend": {
                  "title": {
                    "text": "customer_state"
                  },
                  "tracegroupgap": 0
                },
                "template": {
                  "data": {
                    "bar": [
                      {
                        "error_x": {
                          "color": "#2a3f5f"
                        },
                        "error_y": {
                          "color": "#2a3f5f"
                        },
                        "marker": {
                          "line": {
                            "color": "#E5ECF6",
                            "width": 0.5
                          },
                          "pattern": {
                            "fillmode": "overlay",
                            "size": 10,
                            "solidity": 0.2
                          }
                        },
                        "type": "bar"
                      }
                    ],
                    "barpolar": [
                      {
                        "marker": {
                          "line": {
                            "color": "#E5ECF6",
                            "width": 0.5
                          },
                          "pattern": {
                            "fillmode": "overlay",
                            "size": 10,
                            "solidity": 0.2
                          }
                        },
                        "type": "barpolar"
                      }
                    ],
                    "carpet": [
                      {
                        "aaxis": {
                          "endlinecolor": "#2a3f5f",
                          "gridcolor": "white",
                          "linecolor": "white",
                          "minorgridcolor": "white",
                          "startlinecolor": "#2a3f5f"
                        },
                        "baxis": {
                          "endlinecolor": "#2a3f5f",
                          "gridcolor": "white",
                          "linecolor": "white",
                          "minorgridcolor": "white",
                          "startlinecolor": "#2a3f5f"
                        },
                        "type": "carpet"
                      }
                    ],
                    "choropleth": [
                      {
                        "colorbar": {
                          "outlinewidth": 0,
                          "ticks": ""
                        },
                        "type": "choropleth"
                      }
                    ],
                    "contour": [
                      {
                        "colorbar": {
                          "outlinewidth": 0,
                          "ticks": ""
                        },
                        "colorscale": [
                          [
                            0,
                            "#0d0887"
                          ],
                          [
                            0.1111111111111111,
                            "#46039f"
                          ],
                          [
                            0.2222222222222222,
                            "#7201a8"
                          ],
                          [
                            0.3333333333333333,
                            "#9c179e"
                          ],
                          [
                            0.4444444444444444,
                            "#bd3786"
                          ],
                          [
                            0.5555555555555556,
                            "#d8576b"
                          ],
                          [
                            0.6666666666666666,
                            "#ed7953"
                          ],
                          [
                            0.7777777777777778,
                            "#fb9f3a"
                          ],
                          [
                            0.8888888888888888,
                            "#fdca26"
                          ],
                          [
                            1,
                            "#f0f921"
                          ]
                        ],
                        "type": "contour"
                      }
                    ],
                    "contourcarpet": [
                      {
                        "colorbar": {
                          "outlinewidth": 0,
                          "ticks": ""
                        },
                        "type": "contourcarpet"
                      }
                    ],
                    "heatmap": [
                      {
                        "colorbar": {
                          "outlinewidth": 0,
                          "ticks": ""
                        },
                        "colorscale": [
                          [
                            0,
                            "#0d0887"
                          ],
                          [
                            0.1111111111111111,
                            "#46039f"
                          ],
                          [
                            0.2222222222222222,
                            "#7201a8"
                          ],
                          [
                            0.3333333333333333,
                            "#9c179e"
                          ],
                          [
                            0.4444444444444444,
                            "#bd3786"
                          ],
                          [
                            0.5555555555555556,
                            "#d8576b"
                          ],
                          [
                            0.6666666666666666,
                            "#ed7953"
                          ],
                          [
                            0.7777777777777778,
                            "#fb9f3a"
                          ],
                          [
                            0.8888888888888888,
                            "#fdca26"
                          ],
                          [
                            1,
                            "#f0f921"
                          ]
                        ],
                        "type": "heatmap"
                      }
                    ],
                    "histogram": [
                      {
                        "marker": {
                          "pattern": {
                            "fillmode": "overlay",
                            "size": 10,
                            "solidity": 0.2
                          }
                        },
                        "type": "histogram"
                      }
                    ],
                    "histogram2d": [
                      {
                        "colorbar": {
                          "outlinewidth": 0,
                          "ticks": ""
                        },
                        "colorscale": [
                          [
                            0,
                            "#0d0887"
                          ],
                          [
                            0.1111111111111111,
                            "#46039f"
                          ],
                          [
                            0.2222222222222222,
                            "#7201a8"
                          ],
                          [
                            0.3333333333333333,
                            "#9c179e"
                          ],
                          [
                            0.4444444444444444,
                            "#bd3786"
                          ],
                          [
                            0.5555555555555556,
                            "#d8576b"
                          ],
                          [
                            0.6666666666666666,
                            "#ed7953"
                          ],
                          [
                            0.7777777777777778,
                            "#fb9f3a"
                          ],
                          [
                            0.8888888888888888,
                            "#fdca26"
                          ],
                          [
                            1,
                            "#f0f921"
                          ]
                        ],
                        "type": "histogram2d"
                      }
                    ],
                    "histogram2dcontour": [
                      {
                        "colorbar": {
                          "outlinewidth": 0,
                          "ticks": ""
                        },
                        "colorscale": [
                          [
                            0,
                            "#0d0887"
                          ],
                          [
                            0.1111111111111111,
                            "#46039f"
                          ],
                          [
                            0.2222222222222222,
                            "#7201a8"
                          ],
                          [
                            0.3333333333333333,
                            "#9c179e"
                          ],
                          [
                            0.4444444444444444,
                            "#bd3786"
                          ],
                          [
                            0.5555555555555556,
                            "#d8576b"
                          ],
                          [
                            0.6666666666666666,
                            "#ed7953"
                          ],
                          [
                            0.7777777777777778,
                            "#fb9f3a"
                          ],
                          [
                            0.8888888888888888,
                            "#fdca26"
                          ],
                          [
                            1,
                            "#f0f921"
                          ]
                        ],
                        "type": "histogram2dcontour"
                      }
                    ],
                    "mesh3d": [
                      {
                        "colorbar": {
                          "outlinewidth": 0,
                          "ticks": ""
                        },
                        "type": "mesh3d"
                      }
                    ],
                    "parcoords": [
                      {
                        "line": {
                          "colorbar": {
                            "outlinewidth": 0,
                            "ticks": ""
                          }
                        },
                        "type": "parcoords"
                      }
                    ],
                    "pie": [
                      {
                        "automargin": true,
                        "type": "pie"
                      }
                    ],
                    "scatter": [
                      {
                        "fillpattern": {
                          "fillmode": "overlay",
                          "size": 10,
                          "solidity": 0.2
                        },
                        "type": "scatter"
                      }
                    ],
                    "scatter3d": [
                      {
                        "line": {
                          "colorbar": {
                            "outlinewidth": 0,
                            "ticks": ""
                          }
                        },
                        "marker": {
                          "colorbar": {
                            "outlinewidth": 0,
                            "ticks": ""
                          }
                        },
                        "type": "scatter3d"
                      }
                    ],
                    "scattercarpet": [
                      {
                        "marker": {
                          "colorbar": {
                            "outlinewidth": 0,
                            "ticks": ""
                          }
                        },
                        "type": "scattercarpet"
                      }
                    ],
                    "scattergeo": [
                      {
                        "marker": {
                          "colorbar": {
                            "outlinewidth": 0,
                            "ticks": ""
                          }
                        },
                        "type": "scattergeo"
                      }
                    ],
                    "scattergl": [
                      {
                        "marker": {
                          "colorbar": {
                            "outlinewidth": 0,
                            "ticks": ""
                          }
                        },
                        "type": "scattergl"
                      }
                    ],
                    "scattermap": [
                      {
                        "marker": {
                          "colorbar": {
                            "outlinewidth": 0,
                            "ticks": ""
                          }
                        },
                        "type": "scattermap"
                      }
                    ],
                    "scattermapbox": [
                      {
                        "marker": {
                          "colorbar": {
                            "outlinewidth": 0,
                            "ticks": ""
                          }
                        },
                        "type": "scattermapbox"
                      }
                    ],
                    "scatterpolar": [
                      {
                        "marker": {
                          "colorbar": {
                            "outlinewidth": 0,
                            "ticks": ""
                          }
                        },
                        "type": "scatterpolar"
                      }
                    ],
                    "scatterpolargl": [
                      {
                        "marker": {
                          "colorbar": {
                            "outlinewidth": 0,
                            "ticks": ""
                          }
                        },
                        "type": "scatterpolargl"
                      }
                    ],
                    "scatterternary": [
                      {
                        "marker": {
                          "colorbar": {
                            "outlinewidth": 0,
                            "ticks": ""
                          }
                        },
                        "type": "scatterternary"
                      }
                    ],
                    "surface": [
                      {
                        "colorbar": {
                          "outlinewidth": 0,
                          "ticks": ""
                        },
                        "colorscale": [
                          [
                            0,
                            "#0d0887"
                          ],
                          [
                            0.1111111111111111,
                            "#46039f"
                          ],
                          [
                            0.2222222222222222,
                            "#7201a8"
                          ],
                          [
                            0.3333333333333333,
                            "#9c179e"
                          ],
                          [
                            0.4444444444444444,
                            "#bd3786"
                          ],
                          [
                            0.5555555555555556,
                            "#d8576b"
                          ],
                          [
                            0.6666666666666666,
                            "#ed7953"
                          ],
                          [
                            0.7777777777777778,
                            "#fb9f3a"
                          ],
                          [
                            0.8888888888888888,
                            "#fdca26"
                          ],
                          [
                            1,
                            "#f0f921"
                          ]
                        ],
                        "type": "surface"
                      }
                    ],
                    "table": [
                      {
                        "cells": {
                          "fill": {
                            "color": "#EBF0F8"
                          },
                          "line": {
                            "color": "white"
                          }
                        },
                        "header": {
                          "fill": {
                            "color": "#C8D4E3"
                          },
                          "line": {
                            "color": "white"
                          }
                        },
                        "type": "table"
                      }
                    ]
                  },
                  "layout": {
                    "annotationdefaults": {
                      "arrowcolor": "#2a3f5f",
                      "arrowhead": 0,
                      "arrowwidth": 1
                    },
                    "autotypenumbers": "strict",
                    "coloraxis": {
                      "colorbar": {
                        "outlinewidth": 0,
                        "ticks": ""
                      }
                    },
                    "colorscale": {
                      "diverging": [
                        [
                          0,
                          "#8e0152"
                        ],
                        [
                          0.1,
                          "#c51b7d"
                        ],
                        [
                          0.2,
                          "#de77ae"
                        ],
                        [
                          0.3,
                          "#f1b6da"
                        ],
                        [
                          0.4,
                          "#fde0ef"
                        ],
                        [
                          0.5,
                          "#f7f7f7"
                        ],
                        [
                          0.6,
                          "#e6f5d0"
                        ],
                        [
                          0.7,
                          "#b8e186"
                        ],
                        [
                          0.8,
                          "#7fbc41"
                        ],
                        [
                          0.9,
                          "#4d9221"
                        ],
                        [
                          1,
                          "#276419"
                        ]
                      ],
                      "sequential": [
                        [
                          0,
                          "#0d0887"
                        ],
                        [
                          0.1111111111111111,
                          "#46039f"
                        ],
                        [
                          0.2222222222222222,
                          "#7201a8"
                        ],
                        [
                          0.3333333333333333,
                          "#9c179e"
                        ],
                        [
                          0.4444444444444444,
                          "#bd3786"
                        ],
                        [
                          0.5555555555555556,
                          "#d8576b"
                        ],
                        [
                          0.6666666666666666,
                          "#ed7953"
                        ],
                        [
                          0.7777777777777778,
                          "#fb9f3a"
                        ],
                        [
                          0.8888888888888888,
                          "#fdca26"
                        ],
                        [
                          1,
                          "#f0f921"
                        ]
                      ],
                      "sequentialminus": [
                        [
                          0,
                          "#0d0887"
                        ],
                        [
                          0.1111111111111111,
                          "#46039f"
                        ],
                        [
                          0.2222222222222222,
                          "#7201a8"
                        ],
                        [
                          0.3333333333333333,
                          "#9c179e"
                        ],
                        [
                          0.4444444444444444,
                          "#bd3786"
                        ],
                        [
                          0.5555555555555556,
                          "#d8576b"
                        ],
                        [
                          0.6666666666666666,
                          "#ed7953"
                        ],
                        [
                          0.7777777777777778,
                          "#fb9f3a"
                        ],
                        [
                          0.8888888888888888,
                          "#fdca26"
                        ],
                        [
                          1,
                          "#f0f921"
                        ]
                      ]
                    },
                    "colorway": [
                      "#636efa",
                      "#EF553B",
                      "#00cc96",
                      "#ab63fa",
                      "#FFA15A",
                      "#19d3f3",
                      "#FF6692",
                      "#B6E880",
                      "#FF97FF",
                      "#FECB52"
                    ],
                    "font": {
                      "color": "#2a3f5f"
                    },
                    "geo": {
                      "bgcolor": "white",
                      "lakecolor": "white",
                      "landcolor": "#E5ECF6",
                      "showlakes": true,
                      "showland": true,
                      "subunitcolor": "white"
                    },
                    "hoverlabel": {
                      "align": "left"
                    },
                    "hovermode": "closest",
                    "mapbox": {
                      "style": "light"
                    },
                    "paper_bgcolor": "white",
                    "plot_bgcolor": "#E5ECF6",
                    "polar": {
                      "angularaxis": {
                        "gridcolor": "white",
                        "linecolor": "white",
                        "ticks": ""
                      },
                      "bgcolor": "#E5ECF6",
                      "radialaxis": {
                        "gridcolor": "white",
                        "linecolor": "white",
                        "ticks": ""
                      }
                    },
                    "scene": {
                      "xaxis": {
                        "backgroundcolor": "#E5ECF6",
                        "gridcolor": "white",
                        "gridwidth": 2,
                        "linecolor": "white",
                        "showbackground": true,
                        "ticks": "",
                        "zerolinecolor": "white"
                      },
                      "yaxis": {
                        "backgroundcolor": "#E5ECF6",
                        "gridcolor": "white",
                        "gridwidth": 2,
                        "linecolor": "white",
                        "showbackground": true,
                        "ticks": "",
                        "zerolinecolor": "white"
                      },
                      "zaxis": {
                        "backgroundcolor": "#E5ECF6",
                        "gridcolor": "white",
                        "gridwidth": 2,
                        "linecolor": "white",
                        "showbackground": true,
                        "ticks": "",
                        "zerolinecolor": "white"
                      }
                    },
                    "shapedefaults": {
                      "line": {
                        "color": "#2a3f5f"
                      }
                    },
                    "ternary": {
                      "aaxis": {
                        "gridcolor": "white",
                        "linecolor": "white",
                        "ticks": ""
                      },
                      "baxis": {
                        "gridcolor": "white",
                        "linecolor": "white",
                        "ticks": ""
                      },
                      "bgcolor": "#E5ECF6",
                      "caxis": {
                        "gridcolor": "white",
                        "linecolor": "white",
                        "ticks": ""
                      }
                    },
                    "title": {
                      "x": 0.05
                    },
                    "xaxis": {
                      "automargin": true,
                      "gridcolor": "white",
                      "linecolor": "white",
                      "ticks": "",
                      "title": {
                        "standoff": 15
                      },
                      "zerolinecolor": "white",
                      "zerolinewidth": 2
                    },
                    "yaxis": {
                      "automargin": true,
                      "gridcolor": "white",
                      "linecolor": "white",
                      "ticks": "",
                      "title": {
                        "standoff": 15
                      },
                      "zerolinecolor": "white",
                      "zerolinewidth": 2
                    }
                  }
                },
                "title": {
                  "text": "Tren Pembelian per Bulan untuk 5 Negara Bagian Teratas"
                },
                "xaxis": {
                  "anchor": "y",
                  "domain": [
                    0,
                    1
                  ],
                  "title": {
                    "text": "order_month"
                  }
                },
                "yaxis": {
                  "anchor": "x",
                  "domain": [
                    0,
                    1
                  ],
                  "title": {
                    "text": "total_value"
                  }
                }
              }
            }
          },
          "metadata": {},
          "output_type": "display_data"
        }
      ],
      "source": [
        "# Visualisasi 2: Time Series untuk Tren Pembelian per Bulan\n",
        "geo_orders['order_month'] = geo_orders['order_purchase_timestamp'].dt.to_period('M')\n",
        "monthly_state_orders = geo_orders.groupby(['order_month', 'customer_state']).agg({'total_value': 'sum'}).reset_index()\n",
        "top_states = geo_orders.groupby('customer_state')['total_value'].sum().sort_values(ascending=False).head(5).index\n",
        "# Convert 'order_month' to string before plotting\n",
        "monthly_state_orders['order_month'] = monthly_state_orders['order_month'].astype(str)\n",
        "fig = px.line(\n",
        "    monthly_state_orders[monthly_state_orders['customer_state'].isin(top_states)],\n",
        "    x='order_month',\n",
        "    y='total_value',\n",
        "    color='customer_state',\n",
        "    title=\"Tren Pembelian per Bulan untuk 5 Negara Bagian Teratas\"\n",
        ")\n",
        "fig.show()"
      ]
    },
    {
      "cell_type": "code",
      "execution_count": 47,
      "metadata": {
        "colab": {
          "base_uri": "https://localhost:8080/",
          "height": 607
        },
        "id": "nVVYqpyEyPnW",
        "outputId": "3d5d2e73-6e19-4a25-8def-c7a5d46852ca"
      },
      "outputs": [
        {
          "data": {
            "image/png": "[encoded data removed]",
            "text/plain": [
              "<Figure size 1200x600 with 1 Axes>"
            ]
          },
          "metadata": {},
          "output_type": "display_data"
        }
      ],
      "source": [
        "# Visualisasi 3: Bar Chart untuk Kota dengan Nilai Transaksi Tertinggi\n",
        "city_orders = geo_orders.groupby(['customer_state', 'customer_city']).agg({'total_value': 'sum'}).reset_index()\n",
        "city_orders = city_orders.sort_values('total_value', ascending=False).head(10)\n",
        "plt.figure(figsize=(12, 6))\n",
        "sns.barplot(x='customer_city', y='total_value', data=city_orders, hue='customer_state', dodge=False)\n",
        "plt.title('10 Kota dengan Nilai Transaksi Tertinggi', fontsize=16)\n",
        "plt.xlabel('Kota', fontsize=12)\n",
        "plt.ylabel('Total Nilai Transaksi (R$)', fontsize=12)\n",
        "plt.xticks(rotation=45, ha='right')\n",
        "plt.tight_layout()\n",
        "plt.show()"
      ]
    },
    {
      "cell_type": "markdown",
      "metadata": {
        "id": "MLkytnEnn5Z8"
      },
      "source": [
        "## **Bagaimana pola pembelian pelanggan berdasarkan lokasi geografis di Brazil dari waktu ke waktu, dan area mana yang memiliki nilai transaksi tertinggi?**\n",
        "\n",
        "- Dominasi São Paulo (SP): SP mendominasi nilai transaksi e-commerce di Brazil, menunjukkan konsentrasi ekonomi yang kuat di wilayah tenggara.\n",
        "- Tren Temporal: Nilai transaksi di SP menunjukkan pertumbuhan konsisten dengan lonjakan di akhir 2017 dan awal 2018. Negara bagian lain memiliki pertumbuhan stabil dengan nilai transaksi yang lebih rendah.\n",
        "- Konsentrasi di Kota Besar: Pola pembelian terkonsentrasi di kota-kota besar seperti São Paulo dan Rio de Janeiro.\n",
        "- Penurunan di September 2018: Terdapat penurunan signifikan nilai transaksi di semua negara bagian pada September 2018, yang mungkin mengindikasikan faktor musiman atau artefak data."
      ]
    },
    {
      "cell_type": "markdown",
      "metadata": {
        "id": "ZjMVRooiavZQ"
      },
      "source": [
        "## Pertanyaan ke - 2 : Bagaimana performa penjual berdasarkan lokasi, jumlah pesanan, dan nilai penjualan, serta penjual dari negara bagian mana yang memiliki tingkat kepuasan pelanggan tertinggi?"
      ]
    },
    {
      "cell_type": "markdown",
      "metadata": {
        "id": "Sa8zDW0xa-9I"
      },
      "source": [
        "Menggabungkan informasi item pesanan dengan data penjual berdasarkan seller_id\n",
        "\n"
      ]
    },
    {
      "cell_type": "code",
      "execution_count": 48,
      "metadata": {
        "id": "-AnxkuutbBPD"
      },
      "outputs": [],
      "source": [
        "# Menggabungkan data penjual dengan order_items\n",
        "seller_orders = pd.merge(df_order_items, df_sellers, on='seller_id')"
      ]
    },
    {
      "cell_type": "markdown",
      "metadata": {
        "id": "vEOjGAcWbCuJ"
      },
      "source": [
        "- Menggabungkan data pesanan dengan ulasan pelanggan\n",
        "- Kemudian menggabungkan data penjual dengan ulasan untuk menganalisis performa penjual"
      ]
    },
    {
      "cell_type": "code",
      "execution_count": 49,
      "metadata": {
        "id": "KO2idGGlbJdi"
      },
      "outputs": [],
      "source": [
        "# Menggabungkan dengan reviews\n",
        "seller_reviews = pd.merge(df_orders[['order_id']], df_order_reviews[['order_id', 'review_score']], on='order_id')\n",
        "seller_performance = pd.merge(seller_orders, seller_reviews, on='order_id', how='left')"
      ]
    },
    {
      "cell_type": "markdown",
      "metadata": {
        "id": "2xCSwjwUbLVA"
      },
      "source": [
        "- Mengelompokkan data berdasarkan negara bagian penjual\n",
        "- Menghitung jumlah pesanan, total nilai penjualan, dan statistik ulasan (rata-rata dan jumlah) per negara bagian"
      ]
    },
    {
      "cell_type": "code",
      "execution_count": 50,
      "metadata": {
        "colab": {
          "base_uri": "https://localhost:8080/"
        },
        "id": "uv5cr_H5bL1Q",
        "outputId": "f4af0320-7410-4ea0-d0d2-0399f456f862"
      },
      "outputs": [
        {
          "name": "stdout",
          "output_type": "stream",
          "text": [
            "\n",
            "===== ANALISIS PERFORMA PENJUAL =====\n",
            "\n",
            "Performa penjual berdasarkan negara bagian:\n",
            "   seller_state  order_id_count   price_sum  review_score_mean  \\\n",
            "22           SP           80834  8794512.46           4.005078   \n",
            "15           PR            8748  1270406.16           4.072292   \n",
            "8            MG            8874  1015142.45           4.105868   \n",
            "16           RJ            4835   846763.01           4.101670   \n",
            "20           SC            4089   633864.61           4.093865   \n",
            "19           RS            2210   381013.30           4.214351   \n",
            "2            BA             645   285682.56           4.090202   \n",
            "4            DF             901    97821.36           4.033333   \n",
            "13           PE             448    91493.85           4.132584   \n",
            "6            GO             521    66479.11           4.254826   \n",
            "5            ES             372    47689.61           4.005450   \n",
            "7            MA             406    36531.94           4.002506   \n",
            "3            CE              94    20240.64           4.138298   \n",
            "12           PB              38    17095.00           3.864865   \n",
            "10           MT             145    17070.72           4.165517   \n",
            "17           RN              56     9992.60           4.267857   \n",
            "9            MS              50     8551.69           4.469388   \n",
            "18           RO              14     4762.20           3.857143   \n",
            "14           PI              12     2522.00           4.083333   \n",
            "21           SE              10     1606.20           3.900000   \n",
            "11           PA               8     1238.00           4.500000   \n",
            "1            AM               3     1177.00           2.333333   \n",
            "0            AC               1      267.00           1.000000   \n",
            "\n",
            "    review_score_count  \n",
            "22               80153  \n",
            "15                8687  \n",
            "8                 8794  \n",
            "16                4790  \n",
            "20                4059  \n",
            "19                2188  \n",
            "2                  643  \n",
            "4                  900  \n",
            "13                 445  \n",
            "6                  518  \n",
            "5                  367  \n",
            "7                  399  \n",
            "3                   94  \n",
            "12                  37  \n",
            "10                 145  \n",
            "17                  56  \n",
            "9                   49  \n",
            "18                  14  \n",
            "14                  12  \n",
            "21                  10  \n",
            "11                   8  \n",
            "1                    3  \n",
            "0                    1  \n"
          ]
        }
      ],
      "source": [
        "# Analisis performa penjual berdasarkan lokasi\n",
        "seller_state_performance = seller_performance.groupby('seller_state').agg({\n",
        "    'order_id': 'count',\n",
        "    'price': 'sum',\n",
        "    'review_score': ['mean', 'count']\n",
        "}).reset_index()\n",
        "\n",
        "# Flatten MultiIndex columns\n",
        "seller_state_performance.columns = ['_'.join(col).strip('_') for col in seller_state_performance.columns.values]\n",
        "\n",
        "# Mengurutkan berdasarkan total penjualan\n",
        "seller_state_performance = seller_state_performance.sort_values('price_sum', ascending=False)\n",
        "print(\"\\n===== ANALISIS PERFORMA PENJUAL =====\")\n",
        "print(\"\\nPerforma penjual berdasarkan negara bagian:\")\n",
        "print(seller_state_performance)"
      ]
    },
    {
      "cell_type": "markdown",
      "metadata": {
        "id": "BVR5cVKjbkKz"
      },
      "source": [
        "- Melakukan analisis yang sama tetapi pada level penjual individual\n",
        "- Mengidentifikasi penjual dengan performa tertinggi berdasarkan nilai penjualan"
      ]
    },
    {
      "cell_type": "code",
      "execution_count": 51,
      "metadata": {
        "colab": {
          "base_uri": "https://localhost:8080/"
        },
        "id": "zzGABxv-pKA7",
        "outputId": "34e58014-6f7f-4b7e-a1de-16cfacdd0509"
      },
      "outputs": [
        {
          "name": "stdout",
          "output_type": "stream",
          "text": [
            "\n",
            "===== ANALISIS PERFORMA PENJUAL =====\n",
            "\n",
            "Top 10 penjual berdasarkan nilai penjualan:\n",
            "                             seller_id  order_id_count  price_sum  \\\n",
            "857   4869f7a5dfa277a7dca6462dcf3b52b2            1156  229472.63   \n",
            "1013  53243585a1d6dc2643021fd1853d8905             410  222776.05   \n",
            "881   4a3ca9315b744ce9f8e9374361493884            2009  202999.12   \n",
            "3024  fa1c13f2614d7b5c4749cbc52fecda94             586  194042.03   \n",
            "1535  7c67e1448b00f6e969d365cea6b010ab            1375  189417.67   \n",
            "1560  7e93a43ef30c4f03f38b393420bc753a             340  176431.87   \n",
            "2643  da8622b14eb17ae2831f4ac5b9dab84a            1574  162723.37   \n",
            "1505  7a67c85e85bb2ce8582c35f2203ad736            1175  142325.49   \n",
            "192   1025f0e2d44d7041d6cf58b6550e0bfa            1443  140513.14   \n",
            "1824  955fee9216a65b617aa5c0531780ce60            1501  135241.70   \n",
            "\n",
            "      review_score_mean  review_score_count       seller_city seller_state  \n",
            "857            4.122822                1148           guariba           SP  \n",
            "1013           4.075980                 408  lauro de freitas           BA  \n",
            "881            3.803931                1984          ibitinga           SP  \n",
            "3024           4.340206                 582            sumare           SP  \n",
            "1535           3.348208                1367   itaquaquecetuba           SP  \n",
            "1560           4.206490                 339           barueri           SP  \n",
            "2643           4.071429                1568        piracicaba           SP  \n",
            "1505           4.234991                1166         sao paulo           SP  \n",
            "192            3.849755                1431         sao paulo           SP  \n",
            "1824           4.051713                1489         sao paulo           SP  \n"
          ]
        }
      ],
      "source": [
        "# Analisis penjual individu (top performers)\n",
        "individual_seller_performance = seller_performance.groupby('seller_id').agg({\n",
        "    'order_id': 'count',\n",
        "    'price': 'sum',\n",
        "    'review_score': ['mean', 'count']\n",
        "}).reset_index()\n",
        "\n",
        "# Flatten MultiIndex columns\n",
        "individual_seller_performance.columns = ['_'.join(col).strip('_') for col in individual_seller_performance.columns.values]\n",
        "\n",
        "# Menambahkan informasi lokasi penjual\n",
        "individual_seller_performance = pd.merge(\n",
        "    individual_seller_performance,\n",
        "    df_sellers[['seller_id', 'seller_city', 'seller_state']],\n",
        "    on='seller_id'\n",
        ")\n",
        "\n",
        "# Mengurutkan berdasarkan total penjualan\n",
        "top_sellers = individual_seller_performance.sort_values('price_sum', ascending=False)\n",
        "print(\"\\n===== ANALISIS PERFORMA PENJUAL =====\")\n",
        "print(\"\\nTop 10 penjual berdasarkan nilai penjualan:\")\n",
        "print(top_sellers.head(10))"
      ]
    },
    {
      "cell_type": "markdown",
      "metadata": {
        "id": "hwz7H83vcHtS"
      },
      "source": [
        "- Menghitung korelasi Pearson antara rata-rata skor ulasan dan total nilai penjualan\n",
        "- Hasil menunjukkan korelasi yang sangat lemah (0,02), menandakan bahwa rating tinggi tidak selalu berkorelasi dengan nilai penjualan tinggi"
      ]
    },
    {
      "cell_type": "code",
      "execution_count": 52,
      "metadata": {
        "colab": {
          "base_uri": "https://localhost:8080/"
        },
        "id": "R6mHyBrHyRoW",
        "outputId": "53511e60-961b-4bf4-a731-09896bed64aa"
      },
      "outputs": [
        {
          "name": "stdout",
          "output_type": "stream",
          "text": [
            "\n",
            "===== ANALISIS PERFORMA PENJUAL =====\n",
            "\n",
            "Korelasi antara review score dan nilai penjualan:\n",
            "Korelasi: 0.02086263730608447\n"
          ]
        }
      ],
      "source": [
        "print(\"\\n===== ANALISIS PERFORMA PENJUAL =====\")\n",
        "# Analisis korelasi antara review score dan nilai penjualan\n",
        "print(\"\\nKorelasi antara review score dan nilai penjualan:\")\n",
        "correlation = individual_seller_performance['review_score_mean'].corr(individual_seller_performance['price_sum'])\n",
        "print(f\"Korelasi: {correlation}\")"
      ]
    },
    {
      "cell_type": "markdown",
      "metadata": {
        "id": "x-DR2fOocT68"
      },
      "source": [
        "Membuat kategori rating untuk menganalisis performa berdasarkan kelompok rating\n",
        "\n"
      ]
    },
    {
      "cell_type": "code",
      "execution_count": 53,
      "metadata": {
        "colab": {
          "base_uri": "https://localhost:8080/"
        },
        "id": "xZ10Xa74cXes",
        "outputId": "f97e2c6d-0e55-4b60-e6e6-c649aaa63a1c"
      },
      "outputs": [
        {
          "name": "stdout",
          "output_type": "stream",
          "text": [
            "\n",
            "===== ANALISIS PERFORMA PENJUAL =====\n",
            "\n",
            "Performa rata-rata penjual berdasarkan kategori rating:\n",
            "  rating_category  seller_id    price_sum  order_id_count\n",
            "0             1-2        209   664.189617        2.354067\n",
            "1             2-3        236  1303.247161        8.504237\n",
            "2             3-4        868  5245.281221       50.935484\n",
            "3             4-5       1777  4864.929437       37.477772\n"
          ]
        }
      ],
      "source": [
        "# Mengelompokkan penjual berdasarkan rating\n",
        "individual_seller_performance['rating_category'] = pd.cut(\n",
        "    individual_seller_performance['review_score_mean'],\n",
        "    bins=[0, 2, 3, 4, 5],\n",
        "    labels=['1-2', '2-3', '3-4', '4-5']\n",
        ")\n",
        "\n",
        "rating_groups = individual_seller_performance.groupby('rating_category').agg({\n",
        "    'seller_id': 'count',\n",
        "    'price_sum': 'mean',\n",
        "    'order_id_count': 'mean'\n",
        "}).reset_index()\n",
        "print(\"\\n===== ANALISIS PERFORMA PENJUAL =====\")\n",
        "print(\"\\nPerforma rata-rata penjual berdasarkan kategori rating:\")\n",
        "print(rating_groups)"
      ]
    },
    {
      "cell_type": "markdown",
      "metadata": {
        "id": "aeCLED4FcbUM"
      },
      "source": [
        "Dari analisis diatas, diperoleh insight tentang dominasi penjual SP, distribusi performa penjual berdasarkan lokasi, dan hubungan antara rating dan nilai penjualan."
      ]
    },
    {
      "cell_type": "code",
      "execution_count": 54,
      "metadata": {
        "colab": {
          "base_uri": "https://localhost:8080/",
          "height": 807
        },
        "id": "HqgFFPrY154k",
        "outputId": "28b8941b-7748-41c2-a6ce-81e56e660ab1"
      },
      "outputs": [
        {
          "data": {
            "image/png": "[encoded data removed]",
            "text/plain": [
              "<Figure size 1400x800 with 1 Axes>"
            ]
          },
          "metadata": {},
          "output_type": "display_data"
        }
      ],
      "source": [
        "import pandas as pd\n",
        "import matplotlib.pyplot as plt\n",
        "import seaborn as sns\n",
        "\n",
        "# Gabungkan dataframe yang dibutuhkan\n",
        "seller_orders = pd.merge(df_order_items, df_sellers, on='seller_id')\n",
        "seller_reviews = pd.merge(df_orders[['order_id']], df_order_reviews[['order_id', 'review_score']], on='order_id')\n",
        "seller_performance = pd.merge(seller_orders, seller_reviews, on='order_id', how='left')\n",
        "\n",
        "# Visualisasi 1: Bar Chart untuk Performa Penjual per Negara Bagian (Nilai Penjualan)\n",
        "seller_state_performance = seller_performance.groupby('seller_state').agg({'price': 'sum', 'order_id': 'count'}).reset_index()\n",
        "plt.figure(figsize=(14, 8))\n",
        "sns.barplot(x='seller_state', y='price', data=seller_state_performance.sort_values('price', ascending=False), color='skyblue')\n",
        "plt.title('Performa Penjual per Negara Bagian (Total Nilai Penjualan)', fontsize=16)\n",
        "plt.xlabel('Negara Bagian Penjual', fontsize=12)\n",
        "plt.ylabel('Total Nilai Penjualan (R$)', fontsize=12)\n",
        "plt.xticks(rotation=45, ha='right')\n",
        "plt.tight_layout()\n",
        "plt.show()"
      ]
    },
    {
      "cell_type": "code",
      "execution_count": 55,
      "metadata": {
        "colab": {
          "base_uri": "https://localhost:8080/",
          "height": 807
        },
        "id": "70Xrs09L17SX",
        "outputId": "6aec2b99-a751-4ccb-c5ce-6d42b1522281"
      },
      "outputs": [
        {
          "data": {
            "image/png": "[encoded data removed]",
            "text/plain": [
              "<Figure size 1400x800 with 1 Axes>"
            ]
          },
          "metadata": {},
          "output_type": "display_data"
        }
      ],
      "source": [
        "# Visualisasi 2: Bar Chart untuk Performa Penjual per Negara Bagian (Jumlah Pesanan)\n",
        "plt.figure(figsize=(14, 8))\n",
        "sns.barplot(x='seller_state', y='order_id', data=seller_state_performance.sort_values('order_id', ascending=False), color='lightcoral')\n",
        "plt.title('Performa Penjual per Negara Bagian (Total Jumlah Pesanan)', fontsize=16)\n",
        "plt.xlabel('Negara Bagian Penjual', fontsize=12)\n",
        "plt.ylabel('Total Jumlah Pesanan', fontsize=12)\n",
        "plt.xticks(rotation=45, ha='right')\n",
        "plt.tight_layout()\n",
        "plt.show()"
      ]
    },
    {
      "cell_type": "code",
      "execution_count": 56,
      "metadata": {
        "colab": {
          "base_uri": "https://localhost:8080/",
          "height": 807
        },
        "id": "vLTK_fTuy2yM",
        "outputId": "92152187-f5f7-4a91-fe53-f3c27524ec73"
      },
      "outputs": [
        {
          "data": {
            "image/png": "[encoded data removed]",
            "text/plain": [
              "<Figure size 1400x800 with 1 Axes>"
            ]
          },
          "metadata": {},
          "output_type": "display_data"
        }
      ],
      "source": [
        "# Visualisasi 3: Bar Chart untuk Tingkat Kepuasan Pelanggan per Negara Bagian\n",
        "seller_state_satisfaction = seller_performance.groupby('seller_state').agg({'review_score': 'mean'}).reset_index()\n",
        "plt.figure(figsize=(14, 8))\n",
        "sns.barplot(x='seller_state', y='review_score', data=seller_state_satisfaction.sort_values('review_score', ascending=False), color='lightgreen')\n",
        "plt.title('Tingkat Kepuasan Pelanggan per Negara Bagian Penjual', fontsize=16)\n",
        "plt.xlabel('Negara Bagian Penjual', fontsize=12)\n",
        "plt.ylabel('Rata-rata Skor Ulasan', fontsize=12)\n",
        "plt.xticks(rotation=45, ha='right')\n",
        "plt.tight_layout()\n",
        "plt.show()"
      ]
    },
    {
      "cell_type": "markdown",
      "metadata": {
        "id": "vHEALowSpYRx"
      },
      "source": [
        "## **Bagaimana performa penjual berdasarkan lokasi, jumlah pesanan, dan nilai penjualan, serta penjual dari negara bagian mana yang memiliki tingkat kepuasan pelanggan tertinggi?**\n",
        "- Dominasi SP dalam Penjualan: SP juga mendominasi dalam hal nilai penjualan dari sisi penjual.\n",
        "- Kepuasan Pelanggan: Negara bagian PA dan MS memiliki tingkat kepuasan pelanggan tertinggi, sementara SP memiliki rating yang relatif baik tetapi tidak setinggi PA dan MS.\n",
        "- Korelasi Rating dan Penjualan: Terdapat korelasi yang lemah antara rating dan nilai penjualan. Penjual dengan rating tinggi belum tentu memiliki nilai penjualan tertinggi.\n",
        "- Potensi Penjualan Tinggi: Penjual dengan rating baik (4-5 dan 3-4) memiliki potensi untuk mencapai nilai penjualan yang sangat tinggi, meskipun ada juga yang memiliki nilai penjualan rendah.\n",
        "- Mayoritas Penjual Berkualitas: Sebagian besar penjual (kategori rating 4-5) mampu memberikan layanan berkualitas tinggi."
      ]
    },
    {
      "cell_type": "markdown",
      "metadata": {
        "id": "BB5eQMlXco7n"
      },
      "source": [
        "## Pertanyaan ke - 3 : Bagaimana korelasi antara metode pembayaran, jumlah cicilan, dan nilai transaksi, serta metode pembayaran apa yang paling populer di berbagai negara bagian?\n"
      ]
    },
    {
      "cell_type": "markdown",
      "metadata": {
        "id": "7zwy_9OxcnTa"
      },
      "source": [
        "- Menggabungkan data pembayaran dengan data pesanan, lalu dengan data pelanggan\n",
        "- Ini memungkinkan analisis metode pembayaran berdasarkan lokasi pelanggan"
      ]
    },
    {
      "cell_type": "code",
      "execution_count": 57,
      "metadata": {
        "id": "YpibB5z0cxBT"
      },
      "outputs": [],
      "source": [
        "# Menggabungkan data pembayaran dengan pelanggan\n",
        "payment_with_orders = pd.merge(df_order_payments, df_orders[['order_id', 'customer_id']], on='order_id')\n",
        "payment_with_customers = pd.merge(payment_with_orders, df_customers[['customer_id', 'customer_state']], on='customer_id')"
      ]
    },
    {
      "cell_type": "markdown",
      "metadata": {
        "id": "fYNUMbdfdWTb"
      },
      "source": [
        "- Mengelompokkan data berdasarkan jenis pembayaran\n",
        "- Menghitung berbagai statistik untuk setiap metode pembayaran, termasuk jumlah transaksi, nilai transaksi (rata-rata, median, min, max), dan statistik cicilan"
      ]
    },
    {
      "cell_type": "code",
      "execution_count": 58,
      "metadata": {
        "colab": {
          "base_uri": "https://localhost:8080/"
        },
        "id": "WSYpV-_9yY4r",
        "outputId": "faa326b0-0c77-4dbd-ffd7-282e73175bf9"
      },
      "outputs": [
        {
          "name": "stdout",
          "output_type": "stream",
          "text": [
            "\n",
            "===== ANALISIS METODE PEMBAYARAN =====\n",
            "\n",
            "Statistik metode pembayaran:\n",
            "  payment_type  order_id_count  payment_value_mean  payment_value_median  \\\n",
            "0       boleto           19784          145.034435                 93.89   \n",
            "1  credit_card           76795          163.319021                106.87   \n",
            "2   debit_card            1529          142.570170                 89.30   \n",
            "3  not_defined               3            0.000000                  0.00   \n",
            "4      voucher            5775           65.703354                 39.28   \n",
            "\n",
            "   payment_value_min  payment_value_max  payment_installments_mean  \\\n",
            "0              11.62            7274.88                   1.000000   \n",
            "1               0.01           13664.08                   3.507155   \n",
            "2              13.38            4445.50                   1.000000   \n",
            "3               0.00               0.00                   1.000000   \n",
            "4               0.00            3184.34                   1.000000   \n",
            "\n",
            "   payment_installments_median  payment_installments_max  \n",
            "0                          1.0                         1  \n",
            "1                          3.0                        24  \n",
            "2                          1.0                         1  \n",
            "3                          1.0                         1  \n",
            "4                          1.0                         1  \n"
          ]
        }
      ],
      "source": [
        "# Statistik deskriptif pembayaran\n",
        "payment_stats = df_order_payments.groupby('payment_type').agg({\n",
        "    'order_id': 'count',\n",
        "    'payment_value': ['mean', 'median', 'min', 'max'],\n",
        "    'payment_installments': ['mean', 'median', 'max']\n",
        "}).reset_index()\n",
        "\n",
        "# Flatten MultiIndex columns\n",
        "payment_stats.columns = ['_'.join(col).strip('_') for col in payment_stats.columns.values]\n",
        "print(\"\\n===== ANALISIS METODE PEMBAYARAN =====\")\n",
        "print(\"\\nStatistik metode pembayaran:\")\n",
        "print(payment_stats)"
      ]
    },
    {
      "cell_type": "markdown",
      "metadata": {
        "id": "doN4MI7ddgH9"
      },
      "source": [
        "- Menghitung jumlah penggunaan setiap metode pembayaran per negara bagian\n",
        "- Membuat tabel pivot untuk mempermudah analisis"
      ]
    },
    {
      "cell_type": "code",
      "execution_count": 59,
      "metadata": {
        "id": "5AJKdhiJdjYz"
      },
      "outputs": [],
      "source": [
        "# Popularitas metode pembayaran per negara bagian\n",
        "payment_by_state = payment_with_customers.groupby(['customer_state', 'payment_type']).size().reset_index(name='count')\n",
        "payment_by_state_pivot = payment_by_state.pivot_table(\n",
        "    index='customer_state',\n",
        "    columns='payment_type',\n",
        "    values='count',\n",
        "    fill_value=0\n",
        ")"
      ]
    },
    {
      "cell_type": "markdown",
      "metadata": {
        "id": "ODJ-1Q2IdntX"
      },
      "source": [
        "Mengkonversi jumlah absolut menjadi persentase untuk melihat proporsi penggunaan metode pembayaran di setiap negara bagian"
      ]
    },
    {
      "cell_type": "code",
      "execution_count": 60,
      "metadata": {
        "colab": {
          "base_uri": "https://localhost:8080/"
        },
        "id": "eIop9F2fydCe",
        "outputId": "19980e28-80c4-4e69-83ac-85a66da72001"
      },
      "outputs": [
        {
          "name": "stdout",
          "output_type": "stream",
          "text": [
            "\n",
            "===== ANALISIS METODE PEMBAYARAN =====\n",
            "\n",
            "Metode pembayaran paling populer per negara bagian:\n",
            "   customer_state most_popular_payment    count\n",
            "0              AC          credit_card     61.0\n",
            "1              AL          credit_card    341.0\n",
            "2              AM          credit_card    124.0\n",
            "3              AP          credit_card     47.0\n",
            "4              BA          credit_card   2662.0\n",
            "5              CE          credit_card   1091.0\n",
            "6              DF          credit_card   1700.0\n",
            "7              ES          credit_card   1573.0\n",
            "8              GO          credit_card   1520.0\n",
            "9              MA          credit_card    535.0\n",
            "10             MG          credit_card   9070.0\n",
            "11             MS          credit_card    519.0\n",
            "12             MT          credit_card    659.0\n",
            "13             PA          credit_card    728.0\n",
            "14             PB          credit_card    428.0\n",
            "15             PE          credit_card   1334.0\n",
            "16             PI          credit_card    389.0\n",
            "17             PR          credit_card   3786.0\n",
            "18             RJ          credit_card  10288.0\n",
            "19             RN          credit_card    394.0\n",
            "20             RO          credit_card    186.0\n",
            "21             RR          credit_card     33.0\n",
            "22             RS          credit_card   3985.0\n",
            "23             SC          credit_card   2713.0\n",
            "24             SE          credit_card    264.0\n",
            "25             SP          credit_card  32168.0\n",
            "26             TO          credit_card    197.0\n"
          ]
        }
      ],
      "source": [
        "# Menghitung persentase penggunaan metode pembayaran per negara bagian\n",
        "payment_by_state_pct = payment_by_state_pivot.div(payment_by_state_pivot.sum(axis=1), axis=0) * 100\n",
        "print(\"\\n===== ANALISIS METODE PEMBAYARAN =====\")\n",
        "print(\"\\nMetode pembayaran paling populer per negara bagian:\")\n",
        "most_popular_payment = payment_by_state_pivot.idxmax(axis=1).reset_index()\n",
        "most_popular_payment.columns = ['customer_state', 'most_popular_payment']\n",
        "popular_payment_counts = payment_by_state_pivot.max(axis=1).reset_index()\n",
        "popular_payment_counts.columns = ['customer_state', 'count']\n",
        "most_popular_with_count = pd.merge(most_popular_payment, popular_payment_counts, on='customer_state')\n",
        "print(most_popular_with_count)"
      ]
    },
    {
      "cell_type": "code",
      "execution_count": 61,
      "metadata": {
        "colab": {
          "base_uri": "https://localhost:8080/"
        },
        "id": "-kPEEuD8pYdx",
        "outputId": "c372fb99-e561-4f9a-a016-b78d8997fb36"
      },
      "outputs": [
        {
          "name": "stdout",
          "output_type": "stream",
          "text": [
            "\n",
            "Korelasi antara jumlah cicilan dan nilai transaksi:\n",
            "\n",
            "===== ANALISIS METODE PEMBAYARAN =====\n",
            "Korelasi: 0.37649840070335056\n"
          ]
        }
      ],
      "source": [
        "# ---------- Pertanyaan 3: Korelasi metode pembayaran, cicilan, dan nilai transaksi ----------\n",
        "\n",
        "# Korelasi antara jumlah cicilan dan nilai transaksi\n",
        "print(\"\\nKorelasi antara jumlah cicilan dan nilai transaksi:\")\n",
        "installment_corr = df_order_payments[df_order_payments['payment_type'] == 'credit_card']['payment_installments'].corr(\n",
        "    df_order_payments[df_order_payments['payment_type'] == 'credit_card']['payment_value']\n",
        ")\n",
        "print(\"\\n===== ANALISIS METODE PEMBAYARAN =====\")\n",
        "print(f\"Korelasi: {installment_corr}\")"
      ]
    },
    {
      "cell_type": "markdown",
      "metadata": {
        "id": "X23eMJ9GePzb"
      },
      "source": [
        "- Menghitung rata-rata nilai transaksi dan jumlah transaksi untuk setiap jumlah cicilan\n",
        "- Memungkinkan analisis bagaimana perilaku cicilan berhubungan dengan nilai transaksi"
      ]
    },
    {
      "cell_type": "code",
      "execution_count": 62,
      "metadata": {
        "colab": {
          "base_uri": "https://localhost:8080/"
        },
        "id": "PWqw-O1GeQCB",
        "outputId": "0e1c97db-e12c-4046-f040-489a1f9c1292"
      },
      "outputs": [
        {
          "name": "stdout",
          "output_type": "stream",
          "text": [
            "\n",
            "===== ANALISIS METODE PEMBAYARAN =====\n",
            "\n",
            "Rata-rata nilai transaksi berdasarkan jumlah cicilan:\n",
            "    payment_installments  payment_value  order_id\n",
            "0                      0      94.315000         2\n",
            "1                      1      95.872930     25455\n",
            "2                      2     127.228150     12413\n",
            "3                      3     142.539317     10461\n",
            "4                      4     163.976840      7098\n",
            "5                      5     183.465222      5239\n",
            "6                      6     209.849952      3920\n",
            "7                      7     187.673672      1626\n",
            "8                      8     307.737427      4268\n",
            "9                      9     203.440870       644\n",
            "10                    10     415.085837      5328\n",
            "11                    11     124.932174        23\n",
            "12                    12     321.678496       133\n",
            "13                    13     150.462500        16\n",
            "14                    14     167.962667        15\n",
            "15                    15     445.553108        74\n",
            "16                    16     292.694000         5\n",
            "17                    17     174.602500         8\n",
            "18                    18     486.483333        27\n",
            "19                    20     615.801765        17\n",
            "20                    21     243.700000         3\n",
            "21                    22     228.710000         1\n",
            "22                    23     236.480000         1\n",
            "23                    24     610.048889        18\n"
          ]
        }
      ],
      "source": [
        "# Rata-rata nilai transaksi berdasarkan jumlah cicilan\n",
        "avg_by_installment = df_order_payments[df_order_payments['payment_type'] == 'credit_card'].groupby(\n",
        "    'payment_installments'\n",
        ").agg({\n",
        "    'payment_value': 'mean',\n",
        "    'order_id': 'count'\n",
        "}).reset_index()\n",
        "print(\"\\n===== ANALISIS METODE PEMBAYARAN =====\")\n",
        "print(\"\\nRata-rata nilai transaksi berdasarkan jumlah cicilan:\")\n",
        "print(avg_by_installment)"
      ]
    },
    {
      "cell_type": "markdown",
      "metadata": {
        "id": "ZcotgRmihpuv"
      },
      "source": [
        "Dari analisis ini, didapatkan insight tentang preferensi metode pembayaran (dominasi kartu kredit), pola cicilan, dan hubungan antara jumlah cicilan dengan nilai transaksi."
      ]
    },
    {
      "cell_type": "code",
      "execution_count": 63,
      "metadata": {
        "colab": {
          "base_uri": "https://localhost:8080/",
          "height": 807
        },
        "id": "KKesskzc2BaO",
        "outputId": "3302f63b-c853-45c1-fd4c-6f712fc54422"
      },
      "outputs": [
        {
          "data": {
            "image/png": "[encoded data removed]",
            "text/plain": [
              "<Figure size 1400x800 with 1 Axes>"
            ]
          },
          "metadata": {},
          "output_type": "display_data"
        }
      ],
      "source": [
        "# Import library yang dibutuhkan\n",
        "import pandas as pd\n",
        "import matplotlib.pyplot as plt\n",
        "import seaborn as sns\n",
        "\n",
        "# Menggabungkan data pembayaran dengan data orders dan customers\n",
        "payment_with_orders = pd.merge(df_order_payments, df_orders[['order_id', 'customer_id']], on='order_id')\n",
        "payment_with_customers = pd.merge(payment_with_orders, df_customers[['customer_id', 'customer_state']], on='customer_id')\n",
        "\n",
        "# Visualisasi 1: Bar chart metode pembayaran paling populer per negara bagian\n",
        "plt.figure(figsize=(14, 8))\n",
        "sns.countplot(x='customer_state', hue='payment_type', data=payment_with_customers, order=payment_with_customers['customer_state'].value_counts().index)\n",
        "plt.title('Metode Pembayaran Paling Populer per Negara Bagian', fontsize=16)\n",
        "plt.xlabel('Negara Bagian', fontsize=12)\n",
        "plt.ylabel('Jumlah Transaksi', fontsize=12)\n",
        "plt.xticks(rotation=45, ha='right')\n",
        "plt.legend(title='Metode Pembayaran', loc='upper right', bbox_to_anchor=(1.2, 1))\n",
        "plt.tight_layout()\n",
        "plt.show()"
      ]
    },
    {
      "cell_type": "code",
      "execution_count": 64,
      "metadata": {
        "colab": {
          "base_uri": "https://localhost:8080/",
          "height": 807
        },
        "id": "TJUnhxqV2ChD",
        "outputId": "8248c67a-e97f-4649-93be-9020dfb22293"
      },
      "outputs": [
        {
          "data": {
            "image/png": "[encoded data removed]",
            "text/plain": [
              "<Figure size 1200x800 with 1 Axes>"
            ]
          },
          "metadata": {},
          "output_type": "display_data"
        }
      ],
      "source": [
        "# Visualisasi 2: Box plot nilai transaksi berdasarkan metode pembayaran\n",
        "plt.figure(figsize=(12, 8))\n",
        "sns.boxplot(x='payment_type', y='payment_value', data=df_order_payments)\n",
        "plt.title('Distribusi Nilai Transaksi berdasarkan Metode Pembayaran', fontsize=16)\n",
        "plt.xlabel('Metode Pembayaran', fontsize=12)\n",
        "plt.ylabel('Nilai Transaksi (R$)', fontsize=12)\n",
        "plt.xticks(rotation=45, ha='right')\n",
        "plt.tight_layout()\n",
        "plt.show()"
      ]
    },
    {
      "cell_type": "code",
      "execution_count": 65,
      "metadata": {
        "colab": {
          "base_uri": "https://localhost:8080/",
          "height": 807
        },
        "id": "waleFtcfzc5D",
        "outputId": "5c757824-78ae-45d1-d83d-7b9f14aaafc3"
      },
      "outputs": [
        {
          "data": {
            "image/png": "[encoded data removed]",
            "text/plain": [
              "<Figure size 1200x800 with 1 Axes>"
            ]
          },
          "metadata": {},
          "output_type": "display_data"
        }
      ],
      "source": [
        "# Visualisasi 3: Scatter plot korelasi antara jumlah cicilan dan nilai transaksi (khusus kartu kredit)\n",
        "credit_card_payments = df_order_payments[df_order_payments['payment_type'] == 'credit_card']\n",
        "plt.figure(figsize=(12, 8))\n",
        "sns.scatterplot(x='payment_installments', y='payment_value', data=credit_card_payments)\n",
        "plt.title('Korelasi antara Jumlah Cicilan dan Nilai Transaksi (Kartu Kredit)', fontsize=16)\n",
        "plt.xlabel('Jumlah Cicilan', fontsize=12)\n",
        "plt.ylabel('Nilai Transaksi (R$)', fontsize=12)\n",
        "plt.tight_layout()\n",
        "plt.show()"
      ]
    },
    {
      "cell_type": "markdown",
      "metadata": {
        "id": "CDJXr31zzPip"
      },
      "source": [
        "## **Bagaimana korelasi antara metode pembayaran, jumlah cicilan, dan nilai transaksi, serta metode pembayaran apa yang paling populer di berbagai negara bagian?**\n",
        "\n",
        "- Dominasi Kartu Kredit: Kartu kredit adalah metode pembayaran yang paling populer di Brazil.\n",
        "- Korelasi Cicilan dan Nilai Transaksi: Terdapat korelasi positif yang lemah antara jumlah cicilan dan nilai transaksi untuk pembayaran dengan kartu kredit. Artinya, transaksi dengan nilai lebih tinggi cenderung menggunakan lebih banyak cicilan.\n",
        "- Rata-rata Nilai Transaksi per Cicilan: Transaksi dengan cicilan lebih banyak cenderung memiliki nilai transaksi rata-rata yang lebih tinggi."
      ]
    },
    {
      "cell_type": "markdown",
      "metadata": {
        "id": "CO-HgJVVh6De"
      },
      "source": [
        "## Pertanyaan ke - 4 : Berdasarkan analisis RFM, bagaimana segmentasi pelanggan dapat membantu strategi pemasaran yang lebih personal, dan karakteristik apa yang dimiliki oleh pelanggan dengan nilai tertinggi?"
      ]
    },
    {
      "cell_type": "markdown",
      "metadata": {
        "id": "t_sPEPtah7CV"
      },
      "source": [
        "- Menghitung total nilai pembayaran untuk setiap pesanan\n",
        "- Menggabungkan data pesanan dengan nilai pembayaran"
      ]
    },
    {
      "cell_type": "code",
      "execution_count": 66,
      "metadata": {
        "id": "RZD2LlRZh6Vr"
      },
      "outputs": [],
      "source": [
        "# Menggabungkan order dengan payment untuk mendapatkan nilai transaksi\n",
        "order_payments = df_order_payments.groupby('order_id')['payment_value'].sum().reset_index()\n",
        "orders_with_payments = pd.merge(df_orders, order_payments, on='order_id')"
      ]
    },
    {
      "cell_type": "markdown",
      "metadata": {
        "id": "L_Vw1oeOiF-8"
      },
      "source": [
        "Menentukan tanggal terbaru dalam dataset sebagai referensi untuk perhitungan recency"
      ]
    },
    {
      "cell_type": "code",
      "execution_count": 67,
      "metadata": {
        "colab": {
          "base_uri": "https://localhost:8080/"
        },
        "id": "hBa-QzzQiGPP",
        "outputId": "4c82c724-05e4-4605-b0cb-dbe154ab422b"
      },
      "outputs": [
        {
          "name": "stdout",
          "output_type": "stream",
          "text": [
            "\n",
            "===== ANALISIS RFM DAN SEGMENTASI PELANGGAN =====\n",
            "Tanggal terakhir dalam dataset: 2018-10-17 17:30:18\n"
          ]
        }
      ],
      "source": [
        "# Mengambil tanggal terakhir dalam dataset untuk kalkulasi recency\n",
        "max_date = df_orders['order_purchase_timestamp'].max()\n",
        "print(\"\\n===== ANALISIS RFM DAN SEGMENTASI PELANGGAN =====\")\n",
        "print(f\"Tanggal terakhir dalam dataset: {max_date}\")"
      ]
    },
    {
      "cell_type": "markdown",
      "metadata": {
        "id": "-9-r9XDgicxv"
      },
      "source": [
        "Menentukan tanggal terbaru dalam dataset sebagai referensi untuk perhitungan recency"
      ]
    },
    {
      "cell_type": "code",
      "execution_count": 68,
      "metadata": {
        "id": "CbeWTzXtidLU"
      },
      "outputs": [],
      "source": [
        "# Menghitung RFM untuk setiap pelanggan\n",
        "rfm = orders_with_payments.groupby('customer_id').agg({\n",
        "    'order_purchase_timestamp': lambda x: (max_date - x.max()).days,  # Recency\n",
        "    'order_id': 'count',  # Frequency\n",
        "    'payment_value': 'sum'  # Monetary\n",
        "}).reset_index()\n",
        "\n",
        "rfm.columns = ['customer_id', 'recency', 'frequency', 'monetary']"
      ]
    },
    {
      "cell_type": "markdown",
      "metadata": {
        "id": "qUTN-gLgiSpM"
      },
      "source": [
        "Menghitung komponen RFM untuk setiap pelanggan:\n",
        "\n",
        "- Recency: Jumlah hari sejak pembelian terakhir (nilai kecil = lebih baru)\n",
        "- Frequency: Jumlah pesanan total\n",
        "- Monetary: Total nilai transaksi"
      ]
    },
    {
      "cell_type": "code",
      "execution_count": 69,
      "metadata": {
        "id": "b8b2UJA2ipb8"
      },
      "outputs": [],
      "source": [
        "# Membuat kuintil untuk setiap komponen RFM\n",
        "rfm['r_score'] = pd.qcut(rfm['recency'], q=5, labels=[5, 4, 3, 2, 1])  # 5 adalah yang terbaru\n",
        "rfm['f_score'] = pd.qcut(rfm['frequency'].rank(method='first'), q=5, labels=[1, 2, 3, 4, 5])  # 5 adalah yang paling sering\n",
        "rfm['m_score'] = pd.qcut(rfm['monetary'].rank(method='first'), q=5, labels=[1, 2, 3, 4, 5])  # 5 adalah yang paling tinggi"
      ]
    },
    {
      "cell_type": "markdown",
      "metadata": {
        "id": "N8fOHomAir7i"
      },
      "source": [
        "- Membagi setiap komponen RFM menjadi 5 kuintil (1-5)\n",
        "\n",
        "- Menentukan skor untuk setiap komponen dengan mempertimbangkan bahwa:\n",
        "Untuk recency, nilai kecil (lebih baru)\n",
        "\n",
        "*  Untuk recency, nilai kecil (lebih baru) mendapat skor tinggi\n",
        "* Untuk frequency dan monetary, nilai tinggi mendapat skor tinggi"
      ]
    },
    {
      "cell_type": "code",
      "execution_count": 70,
      "metadata": {
        "id": "G1UK2Mg7jBOm"
      },
      "outputs": [],
      "source": [
        "# Menggabungkan skor RFM menjadi satu nilai\n",
        "rfm['rfm_score'] = rfm['r_score'].astype(str) + rfm['f_score'].astype(str) + rfm['m_score'].astype(str)"
      ]
    },
    {
      "cell_type": "markdown",
      "metadata": {
        "id": "FTLb3tn9jFyG"
      },
      "source": [
        "Menggabungkan tiga skor menjadi satu string (misal: \"535\" untuk pelanggan dengan recency tinggi, frequency sedang, monetary tinggi)"
      ]
    },
    {
      "cell_type": "code",
      "execution_count": 71,
      "metadata": {
        "id": "FB4sB2M0jIoV"
      },
      "outputs": [],
      "source": [
        "# Membuat segmen berdasarkan RFM\n",
        "def get_segment(rfm_score):\n",
        "    r = int(rfm_score[0])\n",
        "    f = int(rfm_score[1])\n",
        "    m = int(rfm_score[2])\n",
        "\n",
        "    if r >= 4 and f >= 4 and m >= 4:\n",
        "        return 'Champions'\n",
        "    elif r >= 3 and f >= 3 and m >= 3:\n",
        "        return 'Loyal Customers'\n",
        "    elif r >= 3 and f >= 1 and m >= 2:\n",
        "        return 'Potential Loyalists'\n",
        "    elif r >= 4 and f <= 2 and m <= 2:\n",
        "        return 'New Customers'\n",
        "    elif r < 2 and f > 2 and m > 2:\n",
        "        return 'At Risk'\n",
        "    elif r < 2 and f <= 2 and m <= 2:\n",
        "        return 'Hibernating'\n",
        "    elif r >= 2 and f <= 2 and m <= 2:\n",
        "        return 'Needs Attention'\n",
        "    else:\n",
        "        return 'Others'\n",
        "\n",
        "rfm['segment'] = rfm['rfm_score'].apply(get_segment)"
      ]
    },
    {
      "cell_type": "markdown",
      "metadata": {
        "id": "or5KJfrhjPOd"
      },
      "source": [
        "Mendefinisikan fungsi untuk mengkonversi skor RFM ke segmen pelanggan\n",
        "Menentukan berbagai segmen seperti Champions, Loyal Customers, At Risk, dll. berdasarkan kombinasi skor RFM"
      ]
    },
    {
      "cell_type": "code",
      "execution_count": 72,
      "metadata": {
        "colab": {
          "base_uri": "https://localhost:8080/"
        },
        "id": "1XJJ6ennjTee",
        "outputId": "ffa9bd01-5a09-49dc-ec02-209560a95555"
      },
      "outputs": [
        {
          "name": "stdout",
          "output_type": "stream",
          "text": [
            "\n",
            "===== ANALISIS RFM DAN SEGMENTASI PELANGGAN =====\n",
            "\n",
            "Ringkasan segmen pelanggan:\n",
            "               segment  customer_id     recency  frequency    monetary\n",
            "1            Champions         6511  141.880356        1.0  297.929183\n",
            "0              At Risk         6939  526.783542        1.0  235.554008\n",
            "3      Loyal Customers        15378  203.095851        1.0  201.502450\n",
            "7  Potential Loyalists        25935  185.343358        1.0  157.621589\n",
            "6               Others        33322  375.450933        1.0  141.172024\n",
            "2          Hibernating         3251  525.628730        1.0   54.317118\n",
            "4      Needs Attention         4910  336.240733        1.0   49.357544\n",
            "5        New Customers         3194  140.088917        1.0   39.092267\n",
            "\n",
            "Karakteristik segmen Champions:\n",
            "           recency  frequency     monetary\n",
            "count  6511.000000     6511.0  6511.000000\n",
            "mean    141.880356        1.0   297.929183\n",
            "std      52.523400        0.0   322.233412\n",
            "min      36.000000        1.0   128.740000\n",
            "25%      91.000000        1.0   158.760000\n",
            "50%     145.000000        1.0   201.340000\n",
            "75%     187.000000        1.0   307.530000\n",
            "max     229.000000        1.0  7274.880000\n"
          ]
        }
      ],
      "source": [
        "# Ringkasan segmen\n",
        "segment_summary = rfm.groupby('segment').agg({\n",
        "    'customer_id': 'count',\n",
        "    'recency': 'mean',\n",
        "    'frequency': 'mean',\n",
        "    'monetary': 'mean'\n",
        "}).reset_index()\n",
        "\n",
        "segment_summary = segment_summary.sort_values('monetary', ascending=False)\n",
        "print(\"\\n===== ANALISIS RFM DAN SEGMENTASI PELANGGAN =====\")\n",
        "print(\"\\nRingkasan segmen pelanggan:\")\n",
        "print(segment_summary)\n",
        "\n",
        "# Karakteristik segmen Champions\n",
        "champions = rfm[rfm['segment'] == 'Champions']\n",
        "print(\"\\nKarakteristik segmen Champions:\")\n",
        "print(champions.describe())"
      ]
    },
    {
      "cell_type": "markdown",
      "metadata": {
        "id": "3fcTCNSIjc1x"
      },
      "source": [
        "Menambahkan informasi lokasi ke data RFM untuk analisis geografis\n",
        "\n"
      ]
    },
    {
      "cell_type": "code",
      "execution_count": 73,
      "metadata": {
        "id": "A4UFeV2kje9S"
      },
      "outputs": [],
      "source": [
        "# Menggabungkan dengan data lokasi pelanggan\n",
        "rfm_with_location = pd.merge(rfm, df_customers[['customer_id', 'customer_state', 'customer_city']], on='customer_id')"
      ]
    },
    {
      "cell_type": "markdown",
      "metadata": {
        "id": "MyYwrCmSjlRV"
      },
      "source": [
        "- Menganalisis distribusi segmen pelanggan berdasarkan negara bagian\n",
        "- Mengidentifikasi negara bagian dengan konsentrasi segmen pelanggan bernilai tinggi"
      ]
    },
    {
      "cell_type": "code",
      "execution_count": 74,
      "metadata": {
        "colab": {
          "base_uri": "https://localhost:8080/"
        },
        "id": "rxWYaHdppmt0",
        "outputId": "e199f4f3-2242-4886-cafb-8ee9e52678b3"
      },
      "outputs": [
        {
          "name": "stdout",
          "output_type": "stream",
          "text": [
            "\n",
            "===== ANALISIS RFM DAN SEGMENTASI PELANGGAN =====\n",
            "\n",
            "Negara bagian dengan jumlah pelanggan Champions terbanyak:\n",
            "    customer_state    segment  count\n",
            "197             SP  Champions   2526\n",
            "80              MG  Champions    814\n",
            "144             RJ  Champions    795\n",
            "173             RS  Champions    344\n",
            "136             PR  Champions    328\n"
          ]
        }
      ],
      "source": [
        "# Distribusi segmen per negara bagian\n",
        "segment_by_state = rfm_with_location.groupby(['customer_state', 'segment']).size().reset_index(name='count')\n",
        "print(\"\\n===== ANALISIS RFM DAN SEGMENTASI PELANGGAN =====\")\n",
        "print(\"\\nNegara bagian dengan jumlah pelanggan Champions terbanyak:\")\n",
        "champions_by_state = segment_by_state[segment_by_state['segment'] == 'Champions'].sort_values('count', ascending=False)\n",
        "print(champions_by_state.head())"
      ]
    },
    {
      "cell_type": "code",
      "execution_count": 75,
      "metadata": {
        "colab": {
          "base_uri": "https://localhost:8080/"
        },
        "id": "YZCR56Ebz_vn",
        "outputId": "f650ac3b-e33c-43bc-d6cc-0384ac791258"
      },
      "outputs": [
        {
          "name": "stdout",
          "output_type": "stream",
          "text": [
            "\n",
            "Karakteristik Pelanggan dengan Nilai Tertinggi (Champions):\n",
            "           recency  frequency     monetary\n",
            "count  6511.000000     6511.0  6511.000000\n",
            "mean    141.880356        1.0   297.929183\n",
            "std      52.523400        0.0   322.233412\n",
            "min      36.000000        1.0   128.740000\n",
            "25%      91.000000        1.0   158.760000\n",
            "50%     145.000000        1.0   201.340000\n",
            "75%     187.000000        1.0   307.530000\n",
            "max     229.000000        1.0  7274.880000\n"
          ]
        }
      ],
      "source": [
        "# Menampilkan karakteristik pelanggan dengan nilai tertinggi (Champions)\n",
        "champions_characteristics = rfm[rfm['segment'] == 'Champions'].describe()\n",
        "print(\"\\nKarakteristik Pelanggan dengan Nilai Tertinggi (Champions):\")\n",
        "print(champions_characteristics)"
      ]
    },
    {
      "cell_type": "markdown",
      "metadata": {
        "id": "9ejq4MR9jpQa"
      },
      "source": [
        "Dari analisis RFM ini, diperoleh insight tentang segmentasi pelanggan, karakteristik setiap segmen, dan distribusi geografis segmen, yang dapat digunakan untuk strategi pemasaran dan retensi."
      ]
    },
    {
      "cell_type": "code",
      "execution_count": 77,
      "metadata": {
        "colab": {
          "base_uri": "https://localhost:8080/",
          "height": 677
        },
        "id": "taMUUpck2HnS",
        "outputId": "164b242c-e367-4506-e90d-ede7e230b266"
      },
      "outputs": [
        {
          "data": {
            "image/png": "[encoded data removed]",
            "text/plain": [
              "<Figure size 1200x800 with 1 Axes>"
            ]
          },
          "metadata": {},
          "output_type": "display_data"
        }
      ],
      "source": [
        "import pandas as pd\n",
        "import matplotlib.pyplot as plt\n",
        "import seaborn as sns\n",
        "import squarify\n",
        "\n",
        "# Visualisasi 1: Treemap untuk Distribusi Segmen Pelanggan\n",
        "segment_counts = rfm['segment'].value_counts().sort_values(ascending=False)\n",
        "plt.figure(figsize=(12, 8))\n",
        "squarify.plot(sizes=segment_counts, label=segment_counts.index, alpha=.8, color=sns.color_palette(\"viridis\", len(segment_counts)))\n",
        "plt.title('Distribusi Segmen Pelanggan (RFM)', fontsize=16)\n",
        "plt.axis('off')\n",
        "plt.show()"
      ]
    },
    {
      "cell_type": "code",
      "execution_count": 78,
      "metadata": {
        "colab": {
          "base_uri": "https://localhost:8080/",
          "height": 807
        },
        "id": "0xaDGat72I7P",
        "outputId": "cfff0ec5-5392-4bdb-a638-252f597955b2"
      },
      "outputs": [
        {
          "data": {
            "image/png": "[encoded data removed]",
            "text/plain": [
              "<Figure size 1400x800 with 1 Axes>"
            ]
          },
          "metadata": {},
          "output_type": "display_data"
        }
      ],
      "source": [
        "# Visualisasi 2: Box Plot untuk Karakteristik RFM per Segmen\n",
        "rfm_melted = pd.melt(rfm, id_vars=['segment'], value_vars=['recency', 'frequency', 'monetary'], var_name='RFM', value_name='Value')\n",
        "plt.figure(figsize=(14, 8))\n",
        "sns.boxplot(x='segment', y='Value', hue='RFM', data=rfm_melted, palette=\"Set3\")\n",
        "plt.title('Karakteristik RFM per Segmen Pelanggan', fontsize=16)\n",
        "plt.xlabel('Segmen Pelanggan', fontsize=12)\n",
        "plt.ylabel('Nilai', fontsize=12)\n",
        "plt.xticks(rotation=45, ha='right')\n",
        "plt.tight_layout()\n",
        "plt.show()"
      ]
    },
    {
      "cell_type": "code",
      "execution_count": 79,
      "metadata": {
        "colab": {
          "base_uri": "https://localhost:8080/",
          "height": 607
        },
        "id": "l0aJs0zqzySx",
        "outputId": "f22d55e2-387a-4aa1-cced-adac904de4e8"
      },
      "outputs": [
        {
          "data": {
            "image/png": "[encoded data removed]",
            "text/plain": [
              "<Figure size 1200x600 with 1 Axes>"
            ]
          },
          "metadata": {},
          "output_type": "display_data"
        }
      ],
      "source": [
        "# Visualisasi 3: Bar Chart untuk Nilai Monetary Rata-rata per Segmen\n",
        "segment_monetary = rfm.groupby('segment')['monetary'].mean().sort_values(ascending=False).reset_index()\n",
        "plt.figure(figsize=(12, 6))\n",
        "sns.barplot(x='segment', y='monetary', data=segment_monetary, color='dodgerblue')\n",
        "plt.title('Nilai Monetary Rata-rata per Segmen Pelanggan', fontsize=16)\n",
        "plt.xlabel('Segmen Pelanggan', fontsize=12)\n",
        "plt.ylabel('Nilai Monetary Rata-rata (R$)', fontsize=12)\n",
        "plt.xticks(rotation=45, ha='right')\n",
        "plt.tight_layout()\n",
        "plt.show()"
      ]
    },
    {
      "cell_type": "markdown",
      "metadata": {
        "id": "lcCROx7FrXz8"
      },
      "source": [
        "## **Berdasarkan analisis RFM, bagaimana segmentasi pelanggan dapat membantu strategi pemasaran yang lebih personal, dan karakteristik apa yang dimiliki oleh pelanggan dengan nilai tertinggi?**\n",
        "\n",
        "- Segmentasi Pelanggan: Analisis RFM berhasil mengelompokkan pelanggan ke dalam berbagai segmen seperti Champions, Loyal Customers, At Risk, dll.\n",
        "- Karakteristik Champions: Segmen Champions memiliki nilai recency, frequency, dan monetary yang tinggi, menunjukkan bahwa mereka adalah pelanggan yang paling berharga.\n",
        "- Distribusi Geografis: SP memiliki jumlah pelanggan Champions terbanyak.\n",
        "- Strategi Pemasaran: Segmentasi RFM dapat membantu dalam merancang strategi pemasaran yang lebih personal, misalnya dengan memberikan penawaran khusus kepada pelanggan At Risk untuk mencegah mereka churn."
      ]
    },
    {
      "cell_type": "markdown",
      "metadata": {
        "id": "_WeHlCeX8DC2"
      },
      "source": [
        "## Kesimpulan"
      ]
    },
    {
      "cell_type": "markdown",
      "metadata": {
        "id": "xZT7L_G90Pj2"
      },
      "source": [
        "- Bagaimana pola pembelian pelanggan berdasarkan lokasi geografis di Brazil dari waktu ke waktu, dan area mana yang memiliki nilai transaksi tertinggi?\n",
        "- Bagaimana performa penjual berdasarkan lokasi, jumlah pesanan, dan nilai penjualan, serta penjual dari negara bagian mana yang memiliki tingkat kepuasan pelanggan tertinggi?\n",
        "- Bagaimana korelasi antara metode pembayaran, jumlah cicilan, dan nilai transaksi, serta metode pembayaran apa yang paling populer di berbagai negara bagian?\n",
        "- Berdasarkan analisis RFM, bagaimana segmentasi pelanggan dapat membantu strategi pemasaran yang lebih personal, dan karakteristik apa yang dimiliki oleh pelanggan dengan nilai tertinggi?"
      ]
    },
    {
      "cell_type": "markdown",
      "metadata": {
        "id": "ZTcyR48Y8DC2"
      },
      "source": [
        "## 1. Pola Pembelian Pelanggan Berdasarkan Lokasi Geografis\n",
        "São Paulo (SP) merupakan pasar e-commerce terbesar dan teraktif di Brazil. Konsentrasi ekonomi dan populasi yang tinggi di SP menjadi faktor pendorong utama. Meskipun demikian, potensi pasar di negara bagian lain tetap perlu diperhatikan, terutama untuk strategi ekspansi dan diversifikasi bisnis. Penting juga untuk memahami pola musiman dalam pembelian dan mengantisipasinya dengan strategi pemasaran yang tepat."
      ]
    },
    {
      "cell_type": "markdown",
      "metadata": {
        "id": "XXy0v_yD0iv0"
      },
      "source": [
        "## 2. Performa Penjual Berdasarkan Lokasi dan Kepuasan Pelanggan\n",
        "Meskipun SP mendominasi dalam hal nilai penjualan, penjual dari negara bagian lain, seperti PA dan MS, menunjukkan performa yang baik dalam hal kepuasan pelanggan. Hal ini menunjukkan pentingnya tidak hanya fokus pada volume penjualan tetapi juga pada kualitas layanan dan kepuasan pelanggan. Penjual perlu berupaya untuk meningkatkan rating mereka karena hal ini dapat berdampak positif pada penjualan dalam jangka panjang."
      ]
    },
    {
      "cell_type": "markdown",
      "metadata": {
        "id": "FIVlSqSf0kMn"
      },
      "source": [
        "## 3. Korelasi Metode Pembayaran, Cicilan, dan Nilai Transaksi\n",
        "Kartu kredit merupakan metode pembayaran yang paling umum digunakan di platform e-commerce di Brazil. Penawaran program cicilan yang menarik dapat menjadi strategi untuk mendorong transaksi dengan nilai yang lebih tinggi. Pemahaman preferensi metode pembayaran di setiap negara bagian dapat membantu dalam optimasi proses pembayaran dan meningkatkan konversi penjualan."
      ]
    },
    {
      "cell_type": "markdown",
      "metadata": {
        "id": "nWtsm_zi0lqQ"
      },
      "source": [
        "## 4. Analisis RFM dan Segmentasi Pelanggan\n",
        "Analisis RFM memberikan informasi berharga untuk segmentasi pelanggan dan personalisasi strategi pemasaran. Segmen Champions merupakan pelanggan yang paling berharga dan perlu dijaga loyalitasnya. Strategi retensi dan cross-selling dapat diterapkan untuk segmen ini. Segmen lain, seperti At Risk dan Needs Attention, memerlukan pendekatan yang berbeda untuk meningkatkan engagement dan mencegah churn. Dengan memahami karakteristik setiap segmen, bisnis dapat mengoptimalkan strategi pemasaran dan meningkatkan profitabilitas."
      ]
    }
  ],
  "metadata": {
    "colab": {
      "provenance": []
    },
    "kernelspec": {
      "display_name": "main-ds",
      "language": "python",
      "name": "python3"
    },
    "language_info": {
      "codemirror_mode": {
        "name": "ipython",
        "version": 3
      },
      "file_extension": ".py",
      "mimetype": "text/x-python",
      "name": "python",
      "nbconvert_exporter": "python",
      "pygments_lexer": "ipython3",
      "version": "3.9.21"
    },
    "orig_nbformat": 4
  },
  "nbformat": 4,
  "nbformat_minor": 0
}
